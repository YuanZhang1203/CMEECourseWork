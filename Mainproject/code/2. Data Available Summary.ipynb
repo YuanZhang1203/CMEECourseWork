{
 "cells": [
  {
   "cell_type": "markdown",
   "metadata": {},
   "source": [
    "# Summary Tables "
   ]
  },
  {
   "cell_type": "markdown",
   "metadata": {},
   "source": [
    "Summary tables below are summarized from \"summary.csv\", generated in \"2.1.data_summary.R\".\n",
    "There are 25 species.\n",
    "\n",
    "**Bold** = has data for a range of temperatures"
   ]
  },
  {
   "cell_type": "markdown",
   "metadata": {},
   "source": [
    "# Coleoptera"
   ]
  },
  {
   "cell_type": "markdown",
   "metadata": {},
   "source": [
    "|**No.**| **Order** |**Species**|**Development Time**|**Peak Fecundity Rate**|**Adult Mortality Rate**|**Juvenile Mortality Rate**|**Fecundity Loss Rate**| **Location**| **Remarks**\n",
    "|:--------:|:--------:|:--------:|:--------:|:--------:|:--------:|:--------:|:--------:|:----------:|---------:|\n",
    "| | | |$a$|$b_{pk}$|$z$|$z_J$|$\\kappa$|||\n",
    "|1.|Coleoptera|*Anthonomus grandis*|**1.Development Rate(%), <br> 2.Development Time\t(days)** | **Fecundity (Eggs/female/day)**|**1.Mortality Rate (%), <br> 2.Survivorship(% of live weevils per day)**|**Mortality Rate (%) [no time information, deleted]**|**Fecundity (Eggs/female/day)**|Lower Rio Grande Valley, Texas|There are two location information |\n",
    "|2.|Coleoptera|*Stethorus punctillum*|**Development Rate(1/day)**|-|**Percentage Survival(%) [no time information,deleted]**|-|-|Quebec City, Canada|Development Rate has several information about stages (Eggs, 1st Instar, \t2nd Instar,3rd instar,4th instar, Pupae)|\n",
    "|3.|Coleoptera|*Sitona discoideus*|\t**Development Time (day / 1 individual)**|-|-|-|-|Qazvin province, Iran (collected); Takestan, Iran (measurement)|only have one stage information: egg|"
   ]
  },
  {
   "cell_type": "markdown",
   "metadata": {},
   "source": [
    "# Diptera"
   ]
  },
  {
   "cell_type": "markdown",
   "metadata": {},
   "source": [
    "|**No.**| **Order** |**Species**|**Development Time**|**Peak Fecundity Rate**|**Adult Mortality Rate**|**Juvenile Mortality Rate**|**Fecundity Loss Rate**| **Location**| **Remarks**|\n",
    "|:--------:|:--------:|:--------:|:--------:|:--------:|:--------:|:--------:|:--------:|:----------:|---------:|\n",
    "| | | |$a$|$b_{pk}$|$z$|$z_J$|$\\kappa$||\n",
    "|4.|Diptera|*Aedes aegypti*|-|**Oviposition Rate (Eggs per day per female)** |**1.Survival Time (days)** <br> **2.Mortality Rate (1/day)**|-|-|Marília,  São Paulo State, Brazil|The oviposition rate at different temperatures is considered to be maximum (bpk), as every temperature only have one oviposition rate.|\n",
    "|5.|Diptera|*Aedes albopictus* | **Development Rate (1/day)**|**Oviposition Rate (eggs per female per cycle)**|**Percentage Survival(%)[no time information,deleted]**|**Percentage Survival(%)[no time information,deleted]**|-|Saint Pierre, France|-|\n",
    "|6.|Diptera|*Aedes camptorhynchus*|**Development time (days)**|Fecundity (Eggs/7days) [only one temperature  information,deleted]|-|**Juvenile survival (proportion) [no time information,deleted]**|-|Breamlea flora reserver (near Geelong, Victoria, Australia)|Stages(larvae + pupae)for Development time|\n",
    "|7.|Diptera|*Bactrocera correcta*| **Development Time (Days,Hours $\\times$ individual $^{-1}$)**|-|-|-|-|Yuanjiang, Yunnan, China (collected); Kunming, Yunnan, China (measurement)|egg, pupae|\n",
    "|8.|Diptera|*Aedes notoscriptus*|**Development time (Days)**|-|-|**Juvenile survival (Days)**|-|Inner metropolitan Adelaide, South Australia, Australia|Secondary Stressor: water type (Tap/Rain); stage: larvae|\n",
    "|9.|Diptera|*Culex annulirostris*|**1.Development time(Days)**|**Fecundity Rate over 66 days (offspring $\\times$ individual $^{-1}$ $\\times$ day $^{-1}$)**|**1.Adult survival(1/day) [no temperature information,deleted]** <br> **2.Adult survival (female, bloodfed; male)(proportion)[no time information,deleted]** <br> **3.Adult longevity (male/female)**|**Juvenile survival (proportion) [no time information,deleted]**|-|Lab colony obtained from Plant Research Institute (Burnley, Victoria, Australia)| Adult survival/ longevity seperated into different categories, male/female|\n",
    "\n",
    "\n"
   ]
  },
  {
   "cell_type": "markdown",
   "metadata": {},
   "source": [
    "# Hemiptera"
   ]
  },
  {
   "cell_type": "markdown",
   "metadata": {},
   "source": [
    "| **No.**| **Order** |**Species**|**Development Time**|**Peak Fecundity Rate**|**Adult Mortality Rate**|**Juvenile Mortality Rate**|**Fecundity Loss Rate**|  **Location**|**Remarks**\n",
    "|:--------:|:--------:|:--------:|:--------:|:--------:|:--------:|:--------:|:--------:|:----------:|---------:|\n",
    "| | | |$a$|$b_{pk}$|$z$|$z_J$|$\\kappa$||\n",
    "|10.|Hemiptera|*Aphis gossypii*|**1.Development Rate (1/day), <br> 2.Development Time (Day/individual)** <br>|**Fecundity Rate (nymphs/female/day)** | **1.Longevity (day/individual)**, <br> **2.Survival Rate (Individuals/ day)**|**Mortality Rate [event/(individual *24 hours)]**|**Fecundity Rate (nymphs/female/day)** |Tehran, Iran;\tAdana, Turkey| Mortality Rate (%) is about Nymph, which needs to be deleted; Mortality Rate [event/(individual *24 hours)]is about stage of juvenile, which needs to be retained|\n",
    "|11.|Hemiptera|*Corythucha ciliata*| **1.Development Time (Days),** <br> **2.Development Rate<br> (100 individuals/day)**|**Fecundity (Eggs/ female)**|**1.Longevity (Days), <br> 2.Percentage Survival (%) [no time information, deleted]**|-|-|Longwu Road, Shanghai, China|Fecundity need to find experimental period, missing per day|\n",
    "|12.|Hemiptera|*Planococcus citri*|**1.Generation Time <br>(Day/individual), <br>2.Development time  (Day/individual)**|-|**Longevity (Day/individual)**|-|-|Mahallat, Iran|Longevity : male/felmale; male data was deleted|\n",
    "\n",
    "\n"
   ]
  },
  {
   "cell_type": "markdown",
   "metadata": {},
   "source": [
    "# Hymenoptera"
   ]
  },
  {
   "cell_type": "markdown",
   "metadata": {},
   "source": [
    "| **No.**| **Order** |**Species**|**Development Time**|**Peak Fecundity Rate**|**Adult Mortality Rate**|**Juvenile Mortality Rate**|**Fecundity Loss Rate**| **Location**|**Remarks**\n",
    "|:--------:|:--------:|:--------:|:--------:|:--------:|:--------:|:--------:|:--------:|:--------:|-------:|\n",
    "| | | |$a$|$b_{pk}$|$z$|$z_J$|$\\kappa$|||\n",
    "|13.|Hymenoptera|*Euplectrus ronnai*|**Development Time <br>(days/individual)**|-|-|**Mortality Rate (Deaths/(individual*24 hours))** |-|Curitiba, Parana, Brazil| development time: larvae/pupae; Mortality Rate: juvenile\n",
    "|14.|Hymenoptera|*Glyptapanteles muesebecki*|**Development Time <br>(days/individual)**|-|-|-|-|Brazil|Development time: larvae/pupae;add them up|\n",
    "|15.|Hymenoptera|*Macrocentrus iridescens*|**Development Rate (Individual completing development * individual/24 hours)**|-|-|-|-|Fresno, California|stage: juvenile|\n",
    "|16.|Hymenoptera|*Telenomus chrysopae*|**Development Time <br>(days/individual)**|-|-|**Mortality Rate (Deaths/(individual*24 hours))**|-|Davis, Yolo County, California, USA (collected)& Ithaca, New York, USA (measurement); Ithaca, New York, USA |Both larvae|\n",
    "|17.|Hymenoptera|*Telenomus isis*|**Development Rate (Individual completing development * (individual/ 24 hours))**|-|**Longevity (day/individual)**|**Mortality Rate (Deaths/(individual* 24 hours)**|-|Benin (collected); Nairobi, Kenya (measurement)|Development Time: juvenile; Longevity: adult (female); Mortality Rate: juvenile|\n",
    "|18.|Hymenoptera|*Telenomus lobatus*|**Development Time <br>(days/individual)**|-|-|**Mortality Rate (Deaths/(individual* 24 hours)**|-|Manhattan, Riley County, Kansas, USA (collected); Ithaca, New York, USA (measurement)|Both larvae\n",
    "|19.|Hymenoptera|*Theocolax elegans*|**Development Time <br>(days/individual)**|-|**Longevity (days/individual)**|-|-|Tsukuba, Ibaraki, Japan|Development Time:\tjuvenile (female) &\tjuvenile (male); Longevity: adult (female) & adult (male)|\n",
    "|20.|Hymenoptera|*Trichogramma bruni*|**Development Time <br>(days/individual)**|-|-|-|-|Nairobi, Kenya|juvenile|\n",
    "|21.|Hymenoptera|*Trichogramma sp. nr. Lutea*|**Development Time <br>(days/individual)**|-|-|-|-|Nairobi, Kenya|juvenile|\n",
    "|22.|Hymenoptera|*Trichogramma sp. nr. Mwanzai*|**Development Time <br>(days/individual)**|-|-|-|-|Nairobi, Kenya|juvenile|"
   ]
  },
  {
   "cell_type": "markdown",
   "metadata": {},
   "source": [
    "# Lepidoptera"
   ]
  },
  {
   "cell_type": "markdown",
   "metadata": {},
   "source": [
    "| **No.**| **Order** |**Species**|**Development Time**|**Peak Fecundity Rate**|**Adult Mortality Rate**|**Juvenile Mortality Rate**|**Fecundity Loss Rate**| **Location**|**Remarks**|\n",
    "|:--------:|:--------:|:--------:|:--------:|:--------:|:--------:|:--------:|:--------:|:--------:|-------:|\n",
    "| | | |$a$|$b_{pk}$|$z$|$z_J$|$\\kappa$| |\n",
    "|23.| Lepidoptera|*Cydia pomonella*| **Development Time (days/individuals)**|-|-|-|-|Maragheh region, East Azerbaijan, Iran (collected); Tehran, Iran (measurement)|Stages of development time are egg/larvae/pupae|"
   ]
  },
  {
   "cell_type": "markdown",
   "metadata": {},
   "source": [
    "# Psocoptera"
   ]
  },
  {
   "cell_type": "markdown",
   "metadata": {},
   "source": [
    "| **No.** | **Order** |**Species**|**Development Time**|**Peak Fecundity Rate**|**Adult Mortality Rate**|**Juvenile Mortality Rate**|**Fecundity Loss Rate**| **Location**|**Remarks**|\n",
    "|:--------:|:--------:|:--------:|:--------:|:--------:|:--------:|:--------:|:--------:|:--------:|--------:|\n",
    "| | | |$a$|$b_{pk}$|$z$|$z_J$|$\\kappa$| |\n",
    "|24.| Psocoptera|*Lepinotus reticulatus*| **Development Time (days)**|-|**Survivorship(individuals/day)**|-|-|Manhattan, Kansas|Development time: 1st instar, 2nd instar, 3rd instar, 4th instar; Survivorship: proportion of nymphs surviving to adults|"
   ]
  },
  {
   "cell_type": "markdown",
   "metadata": {},
   "source": [
    "# Prostigmata"
   ]
  },
  {
   "cell_type": "markdown",
   "metadata": {},
   "source": [
    "| **No.** | **Order** |**Species**|**Development Time**|**Peak Fecundity Rate**|**Adult Mortality Rate**|**Juvenile Mortality Rate**|**Fecundity Loss Rate**| **Location**|**Remarks**|\n",
    "|:--------:|:--------:|:--------:|:--------:|:--------:|:--------:|:--------:|:--------:|:--------:|:--------:|\n",
    "| | | |$a$|$b_{pk}$|$z$|$z_J$|$\\kappa$| |\n",
    "|25.| Prostigmata|*Tetranychus mcdanieli*| **Development Rate (1/day)**|-|-|**Percentage Survival(%)**|-|Quebec City, Canada|Development rate: Egg, Larvae, \tProtonymph, Deutonymph; Percentage Survival: noun information|"
   ]
  },
  {
   "cell_type": "code",
   "execution_count": null,
   "metadata": {},
   "outputs": [],
   "source": []
  }
 ],
 "metadata": {
  "kernelspec": {
   "display_name": "R",
   "language": "R",
   "name": "ir"
  },
  "language_info": {
   "codemirror_mode": "r",
   "file_extension": ".r",
   "mimetype": "text/x-r-source",
   "name": "R",
   "pygments_lexer": "r",
   "version": "3.6.1"
  }
 },
 "nbformat": 4,
 "nbformat_minor": 2
}
