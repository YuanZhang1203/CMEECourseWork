{
 "cells": [
  {
   "cell_type": "markdown",
   "metadata": {},
   "source": [
    "# Summary Tables "
   ]
  },
  {
   "cell_type": "markdown",
   "metadata": {},
   "source": [
    "Summary tables below are summarized from \"summary.csv\", generated in \"2.1.data_summary.R\"\n",
    "\n",
    "**Bold** = has data for a range of temperatures"
   ]
  },
  {
   "cell_type": "markdown",
   "metadata": {},
   "source": [
    "# Coleoptera"
   ]
  },
  {
   "cell_type": "markdown",
   "metadata": {},
   "source": [
    "| **Order** |**Species**|**Development Time**|**Peak Fecundity Rate**|**Adult Mortality Rate**|**Juvenile Mortality Rate**|**Fecundity Loss Rate**| **Remarks**\n",
    "|:--------:|:--------:|:--------:|:--------:|:--------:|:--------:|:--------:|:----------:|\n",
    "| | |$a$|$b_{pk}$|$z$|$z_J$|$\\kappa$||\n",
    "|Coleoptera|*Anthonomus grandis*|**1.Development Rate(%), <br> 2. Development Time\t(days)** | **Fecundity(Eggs/female/day)**|**1.Mortality Rate (%), <br> 2.Survivorship(% of live weevils per day)**|**Mortality Rate (%)**|-|Mortality Rate has several information about stages(Eggs, First Instar, Second Instar, \tLarvae, Pupae, \tPre-emergent adult)|\n",
    "|Coleoptera|*Sitona discoideus*|**Development Time(day / 1 individual)**|-|-|-|-|egg|\n",
    "|Coleoptera|*Stethorus punctillum*|**Development Rate(1/day)**|-|**Percentage Survival(%)**|-|-|Development Rate has several information about stages (Eggs, 1st Instar, \t2nd Instar, 3rd instar, 4th instar, \tPupae)|"
   ]
  },
  {
   "cell_type": "markdown",
   "metadata": {},
   "source": [
    "# Diptera"
   ]
  },
  {
   "cell_type": "markdown",
   "metadata": {},
   "source": [
    "| **Order** |**Species**|**Development Time**|**Peak Fecundity Rate**|**Adult Mortality Rate**|**Juvenile Mortality Rate**|**Fecundity Loss Rate**| **Remarks**|\n",
    "|:--------:|:--------:|:--------:|:--------:|:--------:|:--------:|:--------:|:----------:|\n",
    "| | |$a$|$b_{pk}$|$z$|$z_J$|$\\kappa$||\n",
    "|Diptera|*Aedes aegypti*|-|**Oviposition Rate (Eggs $\\times$ day$^{-1}$** |**1.Survival Time (days)** <br> **2.Mortality Rate (day$^{-1}$)**|-|-|-|\n",
    "|Diptera|*Aedes albopictus* | **Development Rate (days$^{-1}$)**|**Oviposition Rate (Eggs $\\times$ cycle$^{-1}$)**|**Percentage Survival(%)**|**Percentage Survival(%)**|-|No information about Development Time $(a)$ and Peak Fecundity Rate $(b_{pk}$);  Information about Mortality Rate of stages:  Egg to L1, L1 to L2, L2 to L3, L3 to L4, L4 to Pupae,Pupae to Adult, L1 to Adult. |\n",
    "|Diptera|*Aedes camptorhynchus*|**Development time (days)**|Fecundity (Eggs $\\times$ 7days$^{-1}$)|-|**Juvenile survival (proportion)**|-|Stages(larvae + pupae)for Development time and Juvenile survival; Stage(adult) for Fecundity|\n",
    "|Diptera|*Bactrocera correcta*| **Development Time (Days,Hours $\\times$ individual $^{-1}$)**|-|-|-|-|egg, pupae|\n",
    "|Diptera|*Aedes notoscriptus*|**Development time (Days)**|-|-|**Juvenile survival (Days)**|-|Secondary Stressor: water type (Tap/Rain); stage: larvae|\n",
    "|Diptera|*Culex annulirostris*|**1.Development time(Days)**, <br> **2.Egg Development Time (Days)**|**Fecundity Rate over 66 days (offspring $\\times$ individual $^{-1}$ $\\times$ day $^{-1}$)**|**1.Adult survival(1/day)** <br> **2.Adult survival (female, bloodfed; male)(proportion)**|**Juvenile survival (proportion)**|**Fecundity Rate over 66 days (offspring $\\times$ individual $^{-1}$ $\\times$ day $^{-1}$)**| Adult survival/ longevity seperated into different categories, male/female|\n",
    "\n",
    "\n"
   ]
  },
  {
   "cell_type": "markdown",
   "metadata": {},
   "source": [
    "# Hemiptera"
   ]
  },
  {
   "cell_type": "markdown",
   "metadata": {},
   "source": [
    "| **Order** |**Species**|**Development Time**|**Peak Fecundity Rate**|**Adult Mortality Rate**|**Juvenile Mortality Rate**|**Fecundity Loss Rate**| **Remarks**\n",
    "|:--------:|:--------:|:--------:|:--------:|:--------:|:--------:|:--------:|:----------:|\n",
    "| | |$a$|$b_{pk}$|$z$|$z_J$|$\\kappa$||\n",
    "|Hemiptera|*Aphis gossypii*|**1.Development Rate (day$^{-1}$), <br> 2.Development Time (Days $\\times$ individual$^{-1}$)**, <br> **3.Generation Time (Days $\\times$ individual$^{-1}$**|**Fecundity Rate, over 40 days (nymphs $\\times$ female$^{-1}$ $\\times$ day$^{-1}$)** | **1.Longevity (days $\\times$ individual$^{-1}$)**, <br> **2.Survival Rate (Individuals$\\times$ day$^{-1}$)**|**Mortality Rate (Deaths $\\times$ individual$^{-1}$ $\\times$ 24 hours$^{-1}$, %)**|**Fecundity Rate, over 40 days (nymphs $\\times$ female$^{-1}$ $\\times$ day$^{-1}$)** | Mortality Rate (%) is about Nymph, which needs to be deleted; Mortality Rate (Deaths $\\times$ individual$^{-1}$ $\\times$ 24 hours$^{-1}$) is about stage of juvenile, which needs to be retained|\n",
    "|Hemiptera|*Corythucha ciliata*| **1.Development Time (Days),** <br> **2.Development Rate (100individuals $\\times$ day$^{-1}$**|**Fecundity (Eggs $\\times$ female $^{-1}$)**|**1.Longevity (Days), <br> 2.Percentage Survival (%)**|**Longevity (Days)**|-|Fecundity need to find experimental period, missing per day|\n",
    "|Hemiptera|*Planococcus citri*|**1.Generation Time (Day $\\times$ individual$^{-1}$), <br>2.Development time  (Day $\\times$ individual$^{-1}$)**|-|**Longevity (Day $\\times$ individual$^{-1}$)**|-|-|-|\n",
    "|Hemiptera|*Tetraneura nigri abdominalis*|**1.Generation Time (Days$\\times$ individual$^{-1}$)** <br> **2.Development Time (Days $\\times$ individual$^{-1}$)**| **Fecundity Rate (offspring $\\times$ individual $^{-1}$ $\\times$ day $^{-1}$)**|**Longevity (days $\\times$ individual$^{-1}$)**|-|-|-|\n",
    "\n",
    "\n",
    "\n"
   ]
  },
  {
   "cell_type": "markdown",
   "metadata": {},
   "source": [
    "# Hymenoptera"
   ]
  },
  {
   "cell_type": "markdown",
   "metadata": {},
   "source": [
    "| **Order** |**Species**|**Development Time**|**Peak Fecundity Rate**|**Adult Mortality Rate**|**Juvenile Mortality Rate**|**Fecundity Loss Rate**|**Remarks**\n",
    "|:--------:|:--------:|:--------:|:--------:|:--------:|:--------:|:--------:|:--------:|\n",
    "| | |$a$|$b_{pk}$|$z$|$z_J$|$\\kappa$||\n",
    "|Hymenoptera|*Euplectrus ronnai*|**Development Time (days $\\times$ individual$^{-1}$)**|-|-|**Mortality Rate (Deaths $\\times$ individual$^{-1}$ $\\times$ 24 hours$^{-1}$)** |-| development time: larvae/pupae; Mortality Rate: juvenile\n",
    "|Hymenoptera|*Glyptapanteles muesebecki*|**Development Time (days $\\times$ individual$^{-1}$)**|-|-|-|-|Development time: larvae/pupae|\n",
    "|Hymenoptera|*Macrocentrus iridescens*|**Development Rate (Individual completing development $\\times$ individual$^{-1}$ $\\times$ 24 hours$^{-1}$)**|-|-|-|-|stage: juvenile|\n",
    "|Hymenoptera|*Telenomus chrysopae*|**Development Time (days $\\times$ individual$^{-1}$)**|-|-|**Mortality Rate (Deaths $\\times$ individual$^{-1}$ $\\times$ 24 hours$^{-1}$)**|-|Both larvae|\n",
    "|Hymenoptera|*Telenomus isis*|**Development Rate (Individual completing development $\\times$ individual$^{-1}$ $\\times$ 24 hours$^{-1}$)**|-|**Longevity (day $\\times$ individual $^{-1}$)**|**Mortality Rate (Deaths $\\times$ individual$^{-1}$ $\\times$ 24 hours$^{-1}$)**|-|Development Time: juvenile; Longevity: adult (female); Mortality Rate: juvenile|\n",
    "|Hymenoptera|*Telenomus lobatus*|**Development Time (days $\\times$ individual$^{-1}$)**|-|-|**Mortality Rate (Deaths $\\times$ individual$^{-1}$ $\\times$ 24 hours$^{-1}$)**|-|Both larvae\n",
    "|Hymenoptera|*Theocolax elegans*|**Development Time (days $\\times$ individual$^{-1}$)**|-|**Longevity (days $\\times$ individual$^{-1}$)**|-|-|Development Time:\tjuvenile (female) &\tjuvenile (male); Longevity: adult (female) & adult (male)|\n",
    "|Hymenoptera|*Trichogramma bruni*|**Development Time (days $\\times$ individual$^{-1}$)**|-|-|-|-|juvenile|\n",
    "|Hymenoptera|*Trichogramma sp. nr. Lutea*|**Development Time (days $\\times$ individual$^{-1}$)**|-|-|-|-|juvenile|\n",
    "|Hymenoptera|*Trichogramma sp. nr. Mwanzai*|**Development Time (days $\\times$ individual$^{-1}$)**|-|-|-|-|juvenile|"
   ]
  },
  {
   "cell_type": "markdown",
   "metadata": {},
   "source": [
    "# Lepidoptera"
   ]
  },
  {
   "cell_type": "markdown",
   "metadata": {},
   "source": [
    "| **Order** |**Species**|**Development Time**|**Peak Fecundity Rate**|**Adult Mortality Rate**|**Juvenile Mortality Rate**|**Fecundity Loss Rate**|**Remarks**|\n",
    "|:--------:|:--------:|:--------:|:--------:|:--------:|:--------:|:--------:|:--------:|\n",
    "| | |$a$|$b_{pk}$|$z$|$z_J$|$\\kappa$| |\n",
    "| Lepidoptera|*Cydia pomonella*| **Development Time (days$\\times$ individuals$^{-1}$)**|-|-|-|-|Stages of development time are egg/larvae/pupae|"
   ]
  },
  {
   "cell_type": "markdown",
   "metadata": {},
   "source": [
    "# Psocoptera"
   ]
  },
  {
   "cell_type": "markdown",
   "metadata": {},
   "source": [
    "| **Order** |**Species**|**Development Time**|**Peak Fecundity Rate**|**Adult Mortality Rate**|**Juvenile Mortality Rate**|**Fecundity Loss Rate**|**Remarks**|\n",
    "|:--------:|:--------:|:--------:|:--------:|:--------:|:--------:|:--------:|:--------:|\n",
    "| | |$a$|$b_{pk}$|$z$|$z_J$|$\\kappa$| |\n",
    "| Psocoptera|*Lepinotus reticulatus*| **Development Time (days)**|-|**Survivorship(individuals/day)**|-|-|Development time: 1st instar, 2nd instar, 3rd instar, 4th instar; Survivorship: proportion of nymphs surviving to adults|"
   ]
  },
  {
   "cell_type": "markdown",
   "metadata": {},
   "source": [
    "# Prostigmata"
   ]
  },
  {
   "cell_type": "markdown",
   "metadata": {},
   "source": [
    "| **Order** |**Species**|**Development Time**|**Peak Fecundity Rate**|**Adult Mortality Rate**|**Juvenile Mortality Rate**|**Fecundity Loss Rate**|**Remarks**|\n",
    "|:--------:|:--------:|:--------:|:--------:|:--------:|:--------:|:--------:|:--------:|\n",
    "| | |$a$|$b_{pk}$|$z$|$z_J$|$\\kappa$| |\n",
    "| Prostigmata|*Tetranychus mcdanieli*| **Development Rate(1/day)**|-|**Percentage Survival(%)**|-|-|Development rate: Egg, Larvae, \tProtonymph, Deutonymph; Percentage Survival: noun information|"
   ]
  },
  {
   "cell_type": "markdown",
   "metadata": {},
   "source": [
    "# Other Orders"
   ]
  },
  {
   "cell_type": "markdown",
   "metadata": {},
   "source": [
    "| **Order** |**Species**|**Development Time**|**Peak Fecundity Rate**|**Adult Mortality Rate**|**Juvenile Mortality Rate**|**Fecundity Loss Rate**|**Remarks**|\n",
    "|:--------:|:--------:|:--------:|:--------:|:--------:|:--------:|:--------:|:--------:|\n",
    "| | |$a$|$b_{pk}$|$z$|$z_J$|$\\kappa$| |\n",
    "|Cladocera|*Moina macrocopa*|-|-|**Longevity (days $\\times$ individual$^{-1}$)**|-|-|-|\n",
    "|Coleoptera|*Anthonomus grandis*|**1.Development Time (Days)** <br> **2.Development Rate (%)**|**Fecundity (Eggs $\\times$ Female $^{-1}$ $\\times$ Day $^{-1}$)** |**Longevity (Days)**|**Mortality Rate (%)**|**Fecundity (Eggs $\\times$ Female $^{-1}$ $\\times$ Day $^{-1}$)**|Has all data needed, but need to double check data, many potential errors|\n",
    "|Coleoptera|*Sitona discoideus*|**Development Time (days $\\times$ individual$^{-1}$)**|-|-|-|-|Development time is egg development time|\n",
    "|Coleoptera|*Stethorus punctillum*|**Development Rate (day$^{-1}$)**|-|**% Survival (%)**|-|-|Development Rate is different instars|\n",
    "|Decapoda|*Cherax quadricarinatus*|-|-|-|**Mortality Rate (Deaths $\\times$ individual$^{-1}$ $\\times$ 24 hour$^{-1}$)**|-|-|\n",
    "|Decapoda|*Procambarus clarkii*|**Development Time(days $\\times$ individual$^{-1}$)**|-|**Mortality Rate (Deaths $\\times$ individual$^{-1}$ $\\times$ 24 hour$^{-1}$)** |**Mortality Rate (Deaths $\\times$ individual$^{-1}$ $\\times$ 24 hour$^{-1}$)** |-|-|\n",
    "\n",
    "|Prostigmata|*Tetranychus mcdanieli*|**Development Rate (day$^{-1}$)**|-|-|**% Survival (%)**|-|Development rate is protonymph and deutonymph|\n",
    "|Psocoptera|*Lepinotus reticulatus*| **Development Time (days)**|-|-|**Survivorship (individuals $\\times$ day $^{-1}$)**|-|Development time is different instars"
   ]
  },
  {
   "cell_type": "code",
   "execution_count": null,
   "metadata": {},
   "outputs": [],
   "source": []
  }
 ],
 "metadata": {
  "kernelspec": {
   "display_name": "R",
   "language": "R",
   "name": "ir"
  },
  "language_info": {
   "codemirror_mode": "r",
   "file_extension": ".r",
   "mimetype": "text/x-r-source",
   "name": "R",
   "pygments_lexer": "r",
   "version": "3.6.1"
  }
 },
 "nbformat": 4,
 "nbformat_minor": 2
}
