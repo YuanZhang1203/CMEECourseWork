{
 "cells": [
  {
   "cell_type": "code",
   "execution_count": 1,
   "metadata": {},
   "outputs": [
    {
     "name": "stderr",
     "output_type": "stream",
     "text": [
      "\n",
      "Attaching package: ‘dplyr’\n",
      "\n",
      "\n",
      "The following objects are masked from ‘package:stats’:\n",
      "\n",
      "    filter, lag\n",
      "\n",
      "\n",
      "The following objects are masked from ‘package:base’:\n",
      "\n",
      "    intersect, setdiff, setequal, union\n",
      "\n",
      "\n",
      "\n",
      "Attaching package: ‘gridExtra’\n",
      "\n",
      "\n",
      "The following object is masked from ‘package:dplyr’:\n",
      "\n",
      "    combine\n",
      "\n",
      "\n"
     ]
    }
   ],
   "source": [
    "library(\"dplyr\")\n",
    "library(\"ggplot2\")\n",
    "library(\"gridExtra\")\n",
    "library(\"ggforce\")\n",
    "library(\"pdftools\")\n",
    "data <- read.csv(\"TraitofInterest.csv\")"
   ]
  },
  {
   "cell_type": "code",
   "execution_count": 2,
   "metadata": {},
   "outputs": [],
   "source": [
    "data <- data %>% mutate(Variable = case_when(originaltraitname %in% c(\"Development Rate\", \"Development Time\", \"Development time\",\"Generation Time\",\"Egg development time\") ~ 'alp',\n",
    "                                             originaltraitname %in% c(\"Fecundity\",\"Fecundity Rate\", \"Oviposition Rate\") ~ 'bpk',\n",
    "                                             originaltraitname %in% c(\"Adult longevity (female, bloodfed)\", \"Adult longevity (male)\",\"Adult survival\",\"Adult survival (female, bloodfed)\", \"Adult survival (male)\") ~ 'z',\n",
    "                                            originaltraitname %in% c(\"Juvenile survival\",\"Juvenile survival \") ~ 'z_J',\n",
    "                                             originaltraitname %in% c(\"Longevity\",\"Mortality Rate\",\"Percentage Survival\",\"Survival Rate\",\"Survivorship\", \"Survival Time\") ~ 'Mortality'))\n"
   ]
  },
  {
   "cell_type": "code",
   "execution_count": 3,
   "metadata": {},
   "outputs": [
    {
     "data": {
      "text/html": [
       "<ol class=list-inline>\n",
       "\t<li>'1/day'</li>\n",
       "\t<li>'1/days'</li>\n",
       "\t<li>'100/day'</li>\n",
       "\t<li>'%'</li>\n",
       "\t<li>'day / 1 individual'</li>\n",
       "\t<li>'Days'</li>\n",
       "\t<li>'days'</li>\n",
       "\t<li>'event / (1 individual * 24 hour)'</li>\n",
       "\t<li>'hour / 1 individual'</li>\n",
       "</ol>\n"
      ],
      "text/latex": [
       "\\begin{enumerate*}\n",
       "\\item '1/day'\n",
       "\\item '1/days'\n",
       "\\item '100/day'\n",
       "\\item '\\%'\n",
       "\\item 'day / 1 individual'\n",
       "\\item 'Days'\n",
       "\\item 'days'\n",
       "\\item 'event / (1 individual * 24 hour)'\n",
       "\\item 'hour / 1 individual'\n",
       "\\end{enumerate*}\n"
      ],
      "text/markdown": [
       "1. '1/day'\n",
       "2. '1/days'\n",
       "3. '100/day'\n",
       "4. '%'\n",
       "5. 'day / 1 individual'\n",
       "6. 'Days'\n",
       "7. 'days'\n",
       "8. 'event / (1 individual * 24 hour)'\n",
       "9. 'hour / 1 individual'\n",
       "\n",
       "\n"
      ],
      "text/plain": [
       "[1] \"1/day\"                            \"1/days\"                          \n",
       "[3] \"100/day\"                          \"%\"                               \n",
       "[5] \"day / 1 individual\"               \"Days\"                            \n",
       "[7] \"days\"                             \"event / (1 individual * 24 hour)\"\n",
       "[9] \"hour / 1 individual\"             "
      ]
     },
     "metadata": {},
     "output_type": "display_data"
    },
    {
     "data": {
      "text/html": [
       "<ol class=list-inline>\n",
       "\t<li>'Aedes albopictus'</li>\n",
       "\t<li>'Aedes camptorhynchus'</li>\n",
       "\t<li>'Aedes notoscriptus'</li>\n",
       "\t<li>'Anthonomus grandis'</li>\n",
       "\t<li>'Aphis gossypii'</li>\n",
       "\t<li>'Bactrocera correcta'</li>\n",
       "\t<li>'Corythucha ciliata'</li>\n",
       "\t<li>'Culex annulirostris'</li>\n",
       "\t<li>'Cydia pomonella'</li>\n",
       "\t<li>'Euplectrus ronnai'</li>\n",
       "\t<li>'Glyptapanteles muesebecki'</li>\n",
       "\t<li>'Lepinotus reticulatus'</li>\n",
       "\t<li>'Macrocentrus iridescens'</li>\n",
       "\t<li>'Planococcus citri'</li>\n",
       "\t<li>'Procambarus clarkii'</li>\n",
       "\t<li>'Sitona discoideus'</li>\n",
       "\t<li>'Stethorus punctillum'</li>\n",
       "\t<li>'Telenomus chrysopae'</li>\n",
       "\t<li>'Telenomus isis'</li>\n",
       "\t<li>'Telenomus lobatus'</li>\n",
       "\t<li>'Tetraneura nigri abdominalis'</li>\n",
       "\t<li>'Tetranychus mcdanieli'</li>\n",
       "\t<li>'Theocolax elegans'</li>\n",
       "\t<li>'Trichogramma bruni'</li>\n",
       "\t<li>'Trichogramma sp. nr. Lutea'</li>\n",
       "\t<li>'Trichogramma sp. nr. Mwanzai'</li>\n",
       "</ol>\n"
      ],
      "text/latex": [
       "\\begin{enumerate*}\n",
       "\\item 'Aedes albopictus'\n",
       "\\item 'Aedes camptorhynchus'\n",
       "\\item 'Aedes notoscriptus'\n",
       "\\item 'Anthonomus grandis'\n",
       "\\item 'Aphis gossypii'\n",
       "\\item 'Bactrocera correcta'\n",
       "\\item 'Corythucha ciliata'\n",
       "\\item 'Culex annulirostris'\n",
       "\\item 'Cydia pomonella'\n",
       "\\item 'Euplectrus ronnai'\n",
       "\\item 'Glyptapanteles muesebecki'\n",
       "\\item 'Lepinotus reticulatus'\n",
       "\\item 'Macrocentrus iridescens'\n",
       "\\item 'Planococcus citri'\n",
       "\\item 'Procambarus clarkii'\n",
       "\\item 'Sitona discoideus'\n",
       "\\item 'Stethorus punctillum'\n",
       "\\item 'Telenomus chrysopae'\n",
       "\\item 'Telenomus isis'\n",
       "\\item 'Telenomus lobatus'\n",
       "\\item 'Tetraneura nigri abdominalis'\n",
       "\\item 'Tetranychus mcdanieli'\n",
       "\\item 'Theocolax elegans'\n",
       "\\item 'Trichogramma bruni'\n",
       "\\item 'Trichogramma sp. nr. Lutea'\n",
       "\\item 'Trichogramma sp. nr. Mwanzai'\n",
       "\\end{enumerate*}\n"
      ],
      "text/markdown": [
       "1. 'Aedes albopictus'\n",
       "2. 'Aedes camptorhynchus'\n",
       "3. 'Aedes notoscriptus'\n",
       "4. 'Anthonomus grandis'\n",
       "5. 'Aphis gossypii'\n",
       "6. 'Bactrocera correcta'\n",
       "7. 'Corythucha ciliata'\n",
       "8. 'Culex annulirostris'\n",
       "9. 'Cydia pomonella'\n",
       "10. 'Euplectrus ronnai'\n",
       "11. 'Glyptapanteles muesebecki'\n",
       "12. 'Lepinotus reticulatus'\n",
       "13. 'Macrocentrus iridescens'\n",
       "14. 'Planococcus citri'\n",
       "15. 'Procambarus clarkii'\n",
       "16. 'Sitona discoideus'\n",
       "17. 'Stethorus punctillum'\n",
       "18. 'Telenomus chrysopae'\n",
       "19. 'Telenomus isis'\n",
       "20. 'Telenomus lobatus'\n",
       "21. 'Tetraneura nigri abdominalis'\n",
       "22. 'Tetranychus mcdanieli'\n",
       "23. 'Theocolax elegans'\n",
       "24. 'Trichogramma bruni'\n",
       "25. 'Trichogramma sp. nr. Lutea'\n",
       "26. 'Trichogramma sp. nr. Mwanzai'\n",
       "\n",
       "\n"
      ],
      "text/plain": [
       " [1] \"Aedes albopictus\"             \"Aedes camptorhynchus\"        \n",
       " [3] \"Aedes notoscriptus\"           \"Anthonomus grandis\"          \n",
       " [5] \"Aphis gossypii\"               \"Bactrocera correcta\"         \n",
       " [7] \"Corythucha ciliata\"           \"Culex annulirostris\"         \n",
       " [9] \"Cydia pomonella\"              \"Euplectrus ronnai\"           \n",
       "[11] \"Glyptapanteles muesebecki\"    \"Lepinotus reticulatus\"       \n",
       "[13] \"Macrocentrus iridescens\"      \"Planococcus citri\"           \n",
       "[15] \"Procambarus clarkii\"          \"Sitona discoideus\"           \n",
       "[17] \"Stethorus punctillum\"         \"Telenomus chrysopae\"         \n",
       "[19] \"Telenomus isis\"               \"Telenomus lobatus\"           \n",
       "[21] \"Tetraneura nigri abdominalis\" \"Tetranychus mcdanieli\"       \n",
       "[23] \"Theocolax elegans\"            \"Trichogramma bruni\"          \n",
       "[25] \"Trichogramma sp. nr. Lutea\"   \"Trichogramma sp. nr. Mwanzai\""
      ]
     },
     "metadata": {},
     "output_type": "display_data"
    }
   ],
   "source": [
    "dev <- subset(data,data$Variable==\"alp\")\n",
    "dev <- gdata::drop.levels(dev)\n",
    "\n",
    "levels(dev$originaltraitunit)\n",
    "levels(dev$interactor1)"
   ]
  },
  {
   "cell_type": "code",
   "execution_count": 4,
   "metadata": {},
   "outputs": [
    {
     "data": {
      "text/html": [
       "'1/days'"
      ],
      "text/latex": [
       "'1/days'"
      ],
      "text/markdown": [
       "'1/days'"
      ],
      "text/plain": [
       "[1] \"1/days\""
      ]
     },
     "metadata": {},
     "output_type": "display_data"
    }
   ],
   "source": [
    "##Aedes albopictus\n",
    "sp1 <- subset(dev,dev$interactor1==\"Aedes albopictus\")\n",
    "sp1 <- gdata::drop.levels(sp1)\n",
    "\n",
    "levels(sp1$originaltraitunit)\n",
    "\n",
    "sp1$stdvalue <- 1/sp1$originaltraitvalue\n",
    "sp1$stdunit <- \"Days\"\n",
    "sp1$stdname <- sp1$interactor1"
   ]
  },
  {
   "cell_type": "code",
   "execution_count": 5,
   "metadata": {},
   "outputs": [
    {
     "data": {
      "text/html": [
       "'days'"
      ],
      "text/latex": [
       "'days'"
      ],
      "text/markdown": [
       "'days'"
      ],
      "text/plain": [
       "[1] \"days\""
      ]
     },
     "metadata": {},
     "output_type": "display_data"
    }
   ],
   "source": [
    "##Aedes camptorhynchus\n",
    "sp2 <- subset(dev,dev$interactor1==\"Aedes camptorhynchus\")\n",
    "sp2 <- gdata::drop.levels(sp2)\n",
    "\n",
    "levels(sp2$originaltraitunit)\n",
    "\n",
    "#Has secondary stressor of salinity\n",
    "\n",
    "sp2$stdvalue <- sp2$originaltraitvalue\n",
    "sp2$stdunit <- \"Days\"\n",
    "sp2$stdname <- sp2$interactor1"
   ]
  },
  {
   "cell_type": "code",
   "execution_count": 6,
   "metadata": {},
   "outputs": [
    {
     "data": {
      "text/html": [
       "'days'"
      ],
      "text/latex": [
       "'days'"
      ],
      "text/markdown": [
       "'days'"
      ],
      "text/plain": [
       "[1] \"days\""
      ]
     },
     "metadata": {},
     "output_type": "display_data"
    }
   ],
   "source": [
    "##Aedes notoscriptus\n",
    "sp3 <- subset(dev,dev$interactor1==\"Aedes notoscriptus\")\n",
    "sp3 <- gdata::drop.levels(sp3)\n",
    "\n",
    "levels(sp3$originaltraitunit)\n",
    "\n",
    "#Has secondary stressor of water type\n",
    "\n",
    "sp3$stdvalue <- sp3$originaltraitvalue\n",
    "sp3$stdunit <- \"Days\"\n",
    "sp3$stdname <- sp3$interactor1"
   ]
  },
  {
   "cell_type": "code",
   "execution_count": 7,
   "metadata": {},
   "outputs": [
    {
     "data": {
      "text/html": [
       "<ol class=list-inline>\n",
       "\t<li>'Development time'</li>\n",
       "\t<li>'Egg development time'</li>\n",
       "</ol>\n"
      ],
      "text/latex": [
       "\\begin{enumerate*}\n",
       "\\item 'Development time'\n",
       "\\item 'Egg development time'\n",
       "\\end{enumerate*}\n"
      ],
      "text/markdown": [
       "1. 'Development time'\n",
       "2. 'Egg development time'\n",
       "\n",
       "\n"
      ],
      "text/plain": [
       "[1] \"Development time\"     \"Egg development time\""
      ]
     },
     "metadata": {},
     "output_type": "display_data"
    },
    {
     "data": {
      "text/html": [
       "'days'"
      ],
      "text/latex": [
       "'days'"
      ],
      "text/markdown": [
       "'days'"
      ],
      "text/plain": [
       "[1] \"days\""
      ]
     },
     "metadata": {},
     "output_type": "display_data"
    },
    {
     "data": {
      "text/html": [
       "<ol class=list-inline>\n",
       "\t<li>'Time from oviposition to hatching'</li>\n",
       "\t<li>'Time to develop from 1st instar larvae to adult'</li>\n",
       "\t<li>'Time to develop from oviposition to adult'</li>\n",
       "</ol>\n"
      ],
      "text/latex": [
       "\\begin{enumerate*}\n",
       "\\item 'Time from oviposition to hatching'\n",
       "\\item 'Time to develop from 1st instar larvae to adult'\n",
       "\\item 'Time to develop from oviposition to adult'\n",
       "\\end{enumerate*}\n"
      ],
      "text/markdown": [
       "1. 'Time from oviposition to hatching'\n",
       "2. 'Time to develop from 1st instar larvae to adult'\n",
       "3. 'Time to develop from oviposition to adult'\n",
       "\n",
       "\n"
      ],
      "text/plain": [
       "[1] \"Time from oviposition to hatching\"              \n",
       "[2] \"Time to develop from 1st instar larvae to adult\"\n",
       "[3] \"Time to develop from oviposition to adult\"      "
      ]
     },
     "metadata": {},
     "output_type": "display_data"
    }
   ],
   "source": [
    "##Culex annulirostris\n",
    "sp4 <- subset(dev,dev$interactor1==\"Culex annulirostris\")\n",
    "sp4 <- gdata::drop.levels(sp4)\n",
    "\n",
    "levels(sp4$originaltraitname)\n",
    "levels(sp4$originaltraitunit)\n",
    "levels(sp4$originaltraitdef)\n",
    "\n",
    "sp4$stdvalue <- sp4$originaltraitvalue\n",
    "sp4$stdunit <- \"Days\"\n",
    "sp4$stdname <- paste(sp4$interactor1,\"-\", sp4$originaltraitdef)\n",
    "\n",
    "####HAS 1000 VALUE FOR NO DEVELOPMENT#####"
   ]
  },
  {
   "cell_type": "code",
   "execution_count": 8,
   "metadata": {},
   "outputs": [
    {
     "data": {
      "text/html": [
       "<ol class=list-inline>\n",
       "\t<li>'csm2A'</li>\n",
       "\t<li>'csm2R'</li>\n",
       "\t<li>'MTD2084'</li>\n",
       "\t<li>'MTD2088'</li>\n",
       "</ol>\n"
      ],
      "text/latex": [
       "\\begin{enumerate*}\n",
       "\\item 'csm2A'\n",
       "\\item 'csm2R'\n",
       "\\item 'MTD2084'\n",
       "\\item 'MTD2088'\n",
       "\\end{enumerate*}\n"
      ],
      "text/markdown": [
       "1. 'csm2A'\n",
       "2. 'csm2R'\n",
       "3. 'MTD2084'\n",
       "4. 'MTD2088'\n",
       "\n",
       "\n"
      ],
      "text/plain": [
       "[1] \"csm2A\"   \"csm2R\"   \"MTD2084\" \"MTD2088\""
      ]
     },
     "metadata": {},
     "output_type": "display_data"
    },
    {
     "data": {
      "text/html": [
       "<ol class=list-inline>\n",
       "\t<li>'1/day'</li>\n",
       "\t<li>'day / 1 individual'</li>\n",
       "\t<li>'Days'</li>\n",
       "</ol>\n"
      ],
      "text/latex": [
       "\\begin{enumerate*}\n",
       "\\item '1/day'\n",
       "\\item 'day / 1 individual'\n",
       "\\item 'Days'\n",
       "\\end{enumerate*}\n"
      ],
      "text/markdown": [
       "1. '1/day'\n",
       "2. 'day / 1 individual'\n",
       "3. 'Days'\n",
       "\n",
       "\n"
      ],
      "text/plain": [
       "[1] \"1/day\"              \"day / 1 individual\" \"Days\"              "
      ]
     },
     "metadata": {},
     "output_type": "display_data"
    },
    {
     "data": {
      "text/html": [
       "<ol class=list-inline>\n",
       "\t<li>'Development Rate'</li>\n",
       "\t<li>'Development Time'</li>\n",
       "\t<li>'Generation Time'</li>\n",
       "</ol>\n"
      ],
      "text/latex": [
       "\\begin{enumerate*}\n",
       "\\item 'Development Rate'\n",
       "\\item 'Development Time'\n",
       "\\item 'Generation Time'\n",
       "\\end{enumerate*}\n"
      ],
      "text/markdown": [
       "1. 'Development Rate'\n",
       "2. 'Development Time'\n",
       "3. 'Generation Time'\n",
       "\n",
       "\n"
      ],
      "text/plain": [
       "[1] \"Development Rate\" \"Development Time\" \"Generation Time\" "
      ]
     },
     "metadata": {},
     "output_type": "display_data"
    },
    {
     "data": {
      "text/html": [
       "<ol class=list-inline>\n",
       "\t<li>''</li>\n",
       "\t<li>'Average interval between the birth of an individual and the birth of its offspring'</li>\n",
       "\t<li>'Time taken by an individual to complete a particular period or life stage'</li>\n",
       "</ol>\n"
      ],
      "text/latex": [
       "\\begin{enumerate*}\n",
       "\\item ''\n",
       "\\item 'Average interval between the birth of an individual and the birth of its offspring'\n",
       "\\item 'Time taken by an individual to complete a particular period or life stage'\n",
       "\\end{enumerate*}\n"
      ],
      "text/markdown": [
       "1. ''\n",
       "2. 'Average interval between the birth of an individual and the birth of its offspring'\n",
       "3. 'Time taken by an individual to complete a particular period or life stage'\n",
       "\n",
       "\n"
      ],
      "text/plain": [
       "[1] \"\"                                                                                  \n",
       "[2] \"Average interval between the birth of an individual and the birth of its offspring\"\n",
       "[3] \"Time taken by an individual to complete a particular period or life stage\"         "
      ]
     },
     "metadata": {},
     "output_type": "display_data"
    }
   ],
   "source": [
    "##Aphis gossypii\n",
    "sp5 <- subset(dev,dev$interactor1==\"Aphis gossypii\")\n",
    "sp5 <- gdata::drop.levels(sp5)\n",
    "\n",
    "levels(sp5$originalid)\n",
    "levels(sp5$originaltraitunit)\n",
    "levels(sp5$originaltraitname)\n",
    "levels(sp5$originaltraitdef)\n",
    "\n",
    "#Development Time from a paper inputted by Cera, didnt have to include development rate since its the same\n",
    "sp5a <- subset(sp5,sp5$originaltraitunit==\"Days\")\n",
    "sp5a$stdvalue <- sp5a$originaltraitvalue\n",
    "sp5a$stdunit <- \"Days\"\n",
    "sp5a$stdname <- sp5a$interactor1\n",
    "\n",
    "\n",
    "#Development Time from VecTraits\n",
    "sp5b <- subset(sp5,sp5$originalid==\"MTD2084\") #Development time, sum of days from Instar I to Instar IV\n",
    "sp5b$stdvalue <- sp5b$originaltraitvalue\n",
    "sp5b$stdunit <- \"Days\"\n",
    "sp5b$stdname <- paste(sp5b$interactor1, \"- Instar I to Instar IV\")\n",
    "\n",
    "\n",
    "sp5c <- subset(sp5,sp5$originalid==\"MTD2088\") #Generation time, Average interval between the birth of an individual and the birth of its offspring\n",
    "sp5c$stdvalue <- sp5c$originaltraitvalue\n",
    "sp5c$stdunit <- \"Days\"\n",
    "sp5c$stdname <- paste(sp5b$interactor1, \"Time between birth and its first offspring\")\n",
    "\n",
    "sp5 <- rbind(sp5a,sp5b,sp5c)\n"
   ]
  },
  {
   "cell_type": "code",
   "execution_count": 9,
   "metadata": {},
   "outputs": [
    {
     "data": {
      "text/html": [
       "<ol class=list-inline>\n",
       "\t<li>'Development Rate'</li>\n",
       "\t<li>'Development Time'</li>\n",
       "</ol>\n"
      ],
      "text/latex": [
       "\\begin{enumerate*}\n",
       "\\item 'Development Rate'\n",
       "\\item 'Development Time'\n",
       "\\end{enumerate*}\n"
      ],
      "text/markdown": [
       "1. 'Development Rate'\n",
       "2. 'Development Time'\n",
       "\n",
       "\n"
      ],
      "text/plain": [
       "[1] \"Development Rate\" \"Development Time\""
      ]
     },
     "metadata": {},
     "output_type": "display_data"
    },
    {
     "data": {
      "text/html": [
       "<ol class=list-inline>\n",
       "\t<li>'100/day'</li>\n",
       "\t<li>'days'</li>\n",
       "</ol>\n"
      ],
      "text/latex": [
       "\\begin{enumerate*}\n",
       "\\item '100/day'\n",
       "\\item 'days'\n",
       "\\end{enumerate*}\n"
      ],
      "text/markdown": [
       "1. '100/day'\n",
       "2. 'days'\n",
       "\n",
       "\n"
      ],
      "text/plain": [
       "[1] \"100/day\" \"days\"   "
      ]
     },
     "metadata": {},
     "output_type": "display_data"
    },
    {
     "data": {
      "text/html": [
       "<ol class=list-inline>\n",
       "\t<li>'1st instar'</li>\n",
       "\t<li>'2nd instar'</li>\n",
       "\t<li>'3rd instar'</li>\n",
       "\t<li>'4th instar'</li>\n",
       "\t<li>'5th instar'</li>\n",
       "\t<li>'Egg'</li>\n",
       "\t<li>'Egg-to-adult'</li>\n",
       "\t<li>'Nymph'</li>\n",
       "</ol>\n"
      ],
      "text/latex": [
       "\\begin{enumerate*}\n",
       "\\item '1st instar'\n",
       "\\item '2nd instar'\n",
       "\\item '3rd instar'\n",
       "\\item '4th instar'\n",
       "\\item '5th instar'\n",
       "\\item 'Egg'\n",
       "\\item 'Egg-to-adult'\n",
       "\\item 'Nymph'\n",
       "\\end{enumerate*}\n"
      ],
      "text/markdown": [
       "1. '1st instar'\n",
       "2. '2nd instar'\n",
       "3. '3rd instar'\n",
       "4. '4th instar'\n",
       "5. '5th instar'\n",
       "6. 'Egg'\n",
       "7. 'Egg-to-adult'\n",
       "8. 'Nymph'\n",
       "\n",
       "\n"
      ],
      "text/plain": [
       "[1] \"1st instar\"   \"2nd instar\"   \"3rd instar\"   \"4th instar\"   \"5th instar\"  \n",
       "[6] \"Egg\"          \"Egg-to-adult\" \"Nymph\"       "
      ]
     },
     "metadata": {},
     "output_type": "display_data"
    }
   ],
   "source": [
    "##Corythucha ciliata\n",
    "sp6 <- subset(dev,dev$interactor1==\"Corythucha ciliata\")\n",
    "sp6 <- gdata::drop.levels(sp6)\n",
    "\n",
    "levels(sp6$originaltraitname) #Development Rate wont be included, it is inferred from development time\n",
    "levels(sp6$originaltraitunit) \n",
    "levels(sp6$interactor1stage)\n",
    "\n",
    "sp6 <- subset(sp6, sp6$originaltraitname ==\"Development Rate\")\n",
    "sp6 <- gdata::drop.levels(sp6)\n",
    "\n",
    "sp6$stdvalue<- sp6$originaltraitvalue\n",
    "sp6$stdunit <- \"Days\"\n",
    "sp6$stdname <- paste(sp6$interactor1, \"-\", sp6$interactor1stage)\n",
    "\n"
   ]
  },
  {
   "cell_type": "code",
   "execution_count": 10,
   "metadata": {},
   "outputs": [
    {
     "data": {
      "text/html": [
       "<ol class=list-inline>\n",
       "\t<li>'Development Time'</li>\n",
       "\t<li>'Generation Time'</li>\n",
       "</ol>\n"
      ],
      "text/latex": [
       "\\begin{enumerate*}\n",
       "\\item 'Development Time'\n",
       "\\item 'Generation Time'\n",
       "\\end{enumerate*}\n"
      ],
      "text/markdown": [
       "1. 'Development Time'\n",
       "2. 'Generation Time'\n",
       "\n",
       "\n"
      ],
      "text/plain": [
       "[1] \"Development Time\" \"Generation Time\" "
      ]
     },
     "metadata": {},
     "output_type": "display_data"
    },
    {
     "data": {
      "text/html": [
       "'day / 1 individual'"
      ],
      "text/latex": [
       "'day / 1 individual'"
      ],
      "text/markdown": [
       "'day / 1 individual'"
      ],
      "text/plain": [
       "[1] \"day / 1 individual\""
      ]
     },
     "metadata": {},
     "output_type": "display_data"
    },
    {
     "data": {
      "text/html": [
       "<ol class=list-inline>\n",
       "\t<li>'adult'</li>\n",
       "\t<li>'egg (female)'</li>\n",
       "\t<li>'egg (male)'</li>\n",
       "\t<li>'nymph (female)'</li>\n",
       "\t<li>'nymph (male)'</li>\n",
       "\t<li>'pre-pupae (male)'</li>\n",
       "\t<li>'pupae (male)'</li>\n",
       "</ol>\n"
      ],
      "text/latex": [
       "\\begin{enumerate*}\n",
       "\\item 'adult'\n",
       "\\item 'egg (female)'\n",
       "\\item 'egg (male)'\n",
       "\\item 'nymph (female)'\n",
       "\\item 'nymph (male)'\n",
       "\\item 'pre-pupae (male)'\n",
       "\\item 'pupae (male)'\n",
       "\\end{enumerate*}\n"
      ],
      "text/markdown": [
       "1. 'adult'\n",
       "2. 'egg (female)'\n",
       "3. 'egg (male)'\n",
       "4. 'nymph (female)'\n",
       "5. 'nymph (male)'\n",
       "6. 'pre-pupae (male)'\n",
       "7. 'pupae (male)'\n",
       "\n",
       "\n"
      ],
      "text/plain": [
       "[1] \"adult\"            \"egg (female)\"     \"egg (male)\"       \"nymph (female)\"  \n",
       "[5] \"nymph (male)\"     \"pre-pupae (male)\" \"pupae (male)\"    "
      ]
     },
     "metadata": {},
     "output_type": "display_data"
    }
   ],
   "source": [
    "##Planococcus citri\n",
    "sp7 <- subset(dev,dev$interactor1==\"Planococcus citri\")\n",
    "sp7 <- gdata::drop.levels(sp7)\n",
    "\n",
    "levels(sp7$originaltraitname)\n",
    "levels(sp7$originaltraitunit)\n",
    "levels(sp7$interactor1stage)\n",
    "\n",
    "sp7a <- subset(sp7,sp7$originaltraitname==\"Development Time\")\n",
    "sp7a$stdvalue <- sp7a$originaltraitvalue\n",
    "sp7a$stdunit <- \"Days\"\n",
    "sp7a$stdname <- paste(sp7a$interactor1, \"-\", sp7a$interactor1stage)\n",
    "\n",
    "sp7b <- subset(sp7,sp7$originaltraitname==\"Generation Time\")\n",
    "sp7b$stdvalue <- sp7b$originaltraitvalue\n",
    "sp7b$stdunit <- \"Days\"\n",
    "sp7b$stdname <- paste(sp7b$interactor1, \"Time between birth and its first offspring\")\n",
    "\n",
    "sp7 <- rbind(sp7a,sp7b)\n"
   ]
  },
  {
   "cell_type": "code",
   "execution_count": 11,
   "metadata": {},
   "outputs": [
    {
     "data": {
      "text/html": [
       "'day / 1 individual'"
      ],
      "text/latex": [
       "'day / 1 individual'"
      ],
      "text/markdown": [
       "'day / 1 individual'"
      ],
      "text/plain": [
       "[1] \"day / 1 individual\""
      ]
     },
     "metadata": {},
     "output_type": "display_data"
    },
    {
     "data": {
      "text/html": [
       "<ol class=list-inline>\n",
       "\t<li>'adult (female)'</li>\n",
       "\t<li>'juvenile'</li>\n",
       "</ol>\n"
      ],
      "text/latex": [
       "\\begin{enumerate*}\n",
       "\\item 'adult (female)'\n",
       "\\item 'juvenile'\n",
       "\\end{enumerate*}\n"
      ],
      "text/markdown": [
       "1. 'adult (female)'\n",
       "2. 'juvenile'\n",
       "\n",
       "\n"
      ],
      "text/plain": [
       "[1] \"adult (female)\" \"juvenile\"      "
      ]
     },
     "metadata": {},
     "output_type": "display_data"
    }
   ],
   "source": [
    "##Tetraneura nigri abdominalis\n",
    "sp8 <- subset(dev,dev$interactor1==\"Tetraneura nigri abdominalis\")\n",
    "sp8 <- gdata::drop.levels(sp8)\n",
    "\n",
    "levels(sp8$originaltraitunit)\n",
    "levels(sp8$interactor1stage)\n",
    "\n",
    "sp8$stdvalue <- sp8$originaltraitvalue\n",
    "sp8$stdunit <- \"Days\"\n",
    "sp8$stdname <- paste(sp8$interactor1, \"-\", sp8$interactor1stage)\n"
   ]
  },
  {
   "cell_type": "code",
   "execution_count": 12,
   "metadata": {},
   "outputs": [
    {
     "data": {
      "text/html": [
       "'day / 1 individual'"
      ],
      "text/latex": [
       "'day / 1 individual'"
      ],
      "text/markdown": [
       "'day / 1 individual'"
      ],
      "text/plain": [
       "[1] \"day / 1 individual\""
      ]
     },
     "metadata": {},
     "output_type": "display_data"
    },
    {
     "data": {
      "text/html": [
       "<ol class=list-inline>\n",
       "\t<li>'larvae'</li>\n",
       "\t<li>'pupae'</li>\n",
       "</ol>\n"
      ],
      "text/latex": [
       "\\begin{enumerate*}\n",
       "\\item 'larvae'\n",
       "\\item 'pupae'\n",
       "\\end{enumerate*}\n"
      ],
      "text/markdown": [
       "1. 'larvae'\n",
       "2. 'pupae'\n",
       "\n",
       "\n"
      ],
      "text/plain": [
       "[1] \"larvae\" \"pupae\" "
      ]
     },
     "metadata": {},
     "output_type": "display_data"
    }
   ],
   "source": [
    "##Euplectrus ronnai\n",
    "\n",
    "sp9 <- subset(dev,dev$interactor1==\"Euplectrus ronnai\")\n",
    "sp9 <- gdata::drop.levels(sp9)\n",
    "\n",
    "levels(sp9$originaltraitunit)\n",
    "levels(sp9$interactor1stage)\n",
    "\n",
    "sp9$stdvalue <- sp9$originaltraitvalue\n",
    "sp9$stdunit <- \"Days\"\n",
    "sp9$stdname <- paste(sp9$interactor1, \"-\", sp9$interactor1stage)\n",
    "\n"
   ]
  },
  {
   "cell_type": "code",
   "execution_count": 13,
   "metadata": {},
   "outputs": [
    {
     "data": {
      "text/html": [
       "'day / 1 individual'"
      ],
      "text/latex": [
       "'day / 1 individual'"
      ],
      "text/markdown": [
       "'day / 1 individual'"
      ],
      "text/plain": [
       "[1] \"day / 1 individual\""
      ]
     },
     "metadata": {},
     "output_type": "display_data"
    },
    {
     "data": {
      "text/html": [
       "<ol class=list-inline>\n",
       "\t<li>'larvae'</li>\n",
       "\t<li>'pupae'</li>\n",
       "</ol>\n"
      ],
      "text/latex": [
       "\\begin{enumerate*}\n",
       "\\item 'larvae'\n",
       "\\item 'pupae'\n",
       "\\end{enumerate*}\n"
      ],
      "text/markdown": [
       "1. 'larvae'\n",
       "2. 'pupae'\n",
       "\n",
       "\n"
      ],
      "text/plain": [
       "[1] \"larvae\" \"pupae\" "
      ]
     },
     "metadata": {},
     "output_type": "display_data"
    }
   ],
   "source": [
    "##Glyptapanteles muesebecki\n",
    "\n",
    "sp10 <- subset(dev,dev$interactor1==\"Glyptapanteles muesebecki\")\n",
    "sp10 <- gdata::drop.levels(sp10)\n",
    "\n",
    "levels(sp10$originaltraitunit)\n",
    "levels(sp10$interactor1stage)\n",
    "\n",
    "sp10$stdvalue <- sp10$originaltraitvalue\n",
    "sp10$stdunit <- \"Days\"\n",
    "sp10$stdname <- paste(sp10$interactor1, \"-\", sp10$interactor1stage)\n"
   ]
  },
  {
   "cell_type": "code",
   "execution_count": 14,
   "metadata": {},
   "outputs": [
    {
     "data": {
      "text/html": [
       "'event / (1 individual * 24 hour)'"
      ],
      "text/latex": [
       "'event / (1 individual * 24 hour)'"
      ],
      "text/markdown": [
       "'event / (1 individual * 24 hour)'"
      ],
      "text/plain": [
       "[1] \"event / (1 individual * 24 hour)\""
      ]
     },
     "metadata": {},
     "output_type": "display_data"
    },
    {
     "data": {
      "text/html": [
       "'juvenile'"
      ],
      "text/latex": [
       "'juvenile'"
      ],
      "text/markdown": [
       "'juvenile'"
      ],
      "text/plain": [
       "[1] \"juvenile\""
      ]
     },
     "metadata": {},
     "output_type": "display_data"
    }
   ],
   "source": [
    "##Macrocentrus iridescens\n",
    "\n",
    "sp11 <- subset(dev,dev$interactor1==\"Macrocentrus iridescens\")\n",
    "sp11 <- gdata::drop.levels(sp11)\n",
    "\n",
    "levels(sp11$originaltraitunit)\n",
    "levels(sp11$interactor1stage)\n",
    "\n",
    "sp11$stdvalue <- 1/sp11$originaltraitvalue\n",
    "sp11$stdunit <- \"Days\"\n",
    "sp11$stdname <- paste(sp11$interactor1, \"-\", sp11$interactor1stage)\n"
   ]
  },
  {
   "cell_type": "code",
   "execution_count": 15,
   "metadata": {},
   "outputs": [
    {
     "data": {
      "text/html": [
       "'event / (1 individual * 24 hour)'"
      ],
      "text/latex": [
       "'event / (1 individual * 24 hour)'"
      ],
      "text/markdown": [
       "'event / (1 individual * 24 hour)'"
      ],
      "text/plain": [
       "[1] \"event / (1 individual * 24 hour)\""
      ]
     },
     "metadata": {},
     "output_type": "display_data"
    },
    {
     "data": {
      "text/html": [
       "'juvenile'"
      ],
      "text/latex": [
       "'juvenile'"
      ],
      "text/markdown": [
       "'juvenile'"
      ],
      "text/plain": [
       "[1] \"juvenile\""
      ]
     },
     "metadata": {},
     "output_type": "display_data"
    },
    {
     "data": {
      "text/html": [
       "'Rate at which an individual completes development of one or more life stages'"
      ],
      "text/latex": [
       "'Rate at which an individual completes development of one or more life stages'"
      ],
      "text/markdown": [
       "'Rate at which an individual completes development of one or more life stages'"
      ],
      "text/plain": [
       "[1] \"Rate at which an individual completes development of one or more life stages\""
      ]
     },
     "metadata": {},
     "output_type": "display_data"
    }
   ],
   "source": [
    "##Telenomus isis\n",
    "\n",
    "sp12 <- subset(dev,dev$interactor1==\"Telenomus isis\")\n",
    "sp12 <- gdata::drop.levels(sp12)\n",
    "\n",
    "levels(sp12$originaltraitunit)\n",
    "levels(sp12$interactor1stage)\n",
    "levels(sp12$originaltraitdef)\n",
    "\n",
    "sp12$stdvalue <- 1/sp12$originaltraitvalue\n",
    "sp12$stdunit <- \"Days\"\n",
    "sp12$stdname <- paste(sp12$interactor1, \"-\", sp12$interactor1stage)\n"
   ]
  },
  {
   "cell_type": "code",
   "execution_count": 16,
   "metadata": {},
   "outputs": [
    {
     "data": {
      "text/html": [
       "'day / 1 individual'"
      ],
      "text/latex": [
       "'day / 1 individual'"
      ],
      "text/markdown": [
       "'day / 1 individual'"
      ],
      "text/plain": [
       "[1] \"day / 1 individual\""
      ]
     },
     "metadata": {},
     "output_type": "display_data"
    },
    {
     "data": {
      "text/html": [
       "'larvae'"
      ],
      "text/latex": [
       "'larvae'"
      ],
      "text/markdown": [
       "'larvae'"
      ],
      "text/plain": [
       "[1] \"larvae\""
      ]
     },
     "metadata": {},
     "output_type": "display_data"
    },
    {
     "data": {
      "text/html": [
       "'Time taken by an individual to complete a particular period or life stage'"
      ],
      "text/latex": [
       "'Time taken by an individual to complete a particular period or life stage'"
      ],
      "text/markdown": [
       "'Time taken by an individual to complete a particular period or life stage'"
      ],
      "text/plain": [
       "[1] \"Time taken by an individual to complete a particular period or life stage\""
      ]
     },
     "metadata": {},
     "output_type": "display_data"
    }
   ],
   "source": [
    "##Telenomus lobatus\n",
    "\n",
    "sp13 <- subset(dev,dev$interactor1==\"Telenomus lobatus\")\n",
    "sp13 <- gdata::drop.levels(sp13)\n",
    "\n",
    "levels(sp13$originaltraitunit)\n",
    "levels(sp13$interactor1stage)\n",
    "levels(sp13$originaltraitdef)\n",
    "\n",
    "sp13$stdvalue <- sp13$originaltraitvalue\n",
    "sp13$stdunit <- \"Days\"\n",
    "sp13$stdname <- paste(sp13$interactor1, \"-\", sp13$interactor1stage)\n"
   ]
  },
  {
   "cell_type": "code",
   "execution_count": 17,
   "metadata": {},
   "outputs": [
    {
     "data": {
      "text/html": [
       "'day / 1 individual'"
      ],
      "text/latex": [
       "'day / 1 individual'"
      ],
      "text/markdown": [
       "'day / 1 individual'"
      ],
      "text/plain": [
       "[1] \"day / 1 individual\""
      ]
     },
     "metadata": {},
     "output_type": "display_data"
    },
    {
     "data": {
      "text/html": [
       "<ol class=list-inline>\n",
       "\t<li>'juvenile (female)'</li>\n",
       "\t<li>'juvenile (male)'</li>\n",
       "</ol>\n"
      ],
      "text/latex": [
       "\\begin{enumerate*}\n",
       "\\item 'juvenile (female)'\n",
       "\\item 'juvenile (male)'\n",
       "\\end{enumerate*}\n"
      ],
      "text/markdown": [
       "1. 'juvenile (female)'\n",
       "2. 'juvenile (male)'\n",
       "\n",
       "\n"
      ],
      "text/plain": [
       "[1] \"juvenile (female)\" \"juvenile (male)\"  "
      ]
     },
     "metadata": {},
     "output_type": "display_data"
    },
    {
     "data": {
      "text/html": [
       "'Time taken by an individual to complete a particular period or life stage'"
      ],
      "text/latex": [
       "'Time taken by an individual to complete a particular period or life stage'"
      ],
      "text/markdown": [
       "'Time taken by an individual to complete a particular period or life stage'"
      ],
      "text/plain": [
       "[1] \"Time taken by an individual to complete a particular period or life stage\""
      ]
     },
     "metadata": {},
     "output_type": "display_data"
    }
   ],
   "source": [
    "##Theocolax elegans\n",
    "\n",
    "sp14 <- subset(dev,dev$interactor1==\"Theocolax elegans\")\n",
    "sp14 <- gdata::drop.levels(sp14)\n",
    "\n",
    "levels(sp14$originaltraitunit)\n",
    "levels(sp14$interactor1stage)\n",
    "levels(sp14$originaltraitdef)\n",
    "\n",
    "sp14$stdvalue <- sp14$originaltraitvalue\n",
    "sp14$stdunit <- \"Days\"\n",
    "sp14$stdname <- paste(sp14$interactor1, \"-\", sp14$interactor1stage)\n"
   ]
  },
  {
   "cell_type": "code",
   "execution_count": 18,
   "metadata": {},
   "outputs": [
    {
     "data": {
      "text/html": [
       "'day / 1 individual'"
      ],
      "text/latex": [
       "'day / 1 individual'"
      ],
      "text/markdown": [
       "'day / 1 individual'"
      ],
      "text/plain": [
       "[1] \"day / 1 individual\""
      ]
     },
     "metadata": {},
     "output_type": "display_data"
    },
    {
     "data": {
      "text/html": [
       "'juvenile'"
      ],
      "text/latex": [
       "'juvenile'"
      ],
      "text/markdown": [
       "'juvenile'"
      ],
      "text/plain": [
       "[1] \"juvenile\""
      ]
     },
     "metadata": {},
     "output_type": "display_data"
    },
    {
     "data": {
      "text/html": [
       "'Time taken by an individual to complete a particular period or life stage'"
      ],
      "text/latex": [
       "'Time taken by an individual to complete a particular period or life stage'"
      ],
      "text/markdown": [
       "'Time taken by an individual to complete a particular period or life stage'"
      ],
      "text/plain": [
       "[1] \"Time taken by an individual to complete a particular period or life stage\""
      ]
     },
     "metadata": {},
     "output_type": "display_data"
    }
   ],
   "source": [
    "##Trichogramma bruni\n",
    "\n",
    "sp15 <- subset(dev,dev$interactor1==\"Trichogramma bruni\")\n",
    "sp15 <- gdata::drop.levels(sp15)\n",
    "\n",
    "levels(sp15$originaltraitunit)\n",
    "levels(sp15$interactor1stage)\n",
    "levels(sp15$originaltraitdef)\n",
    "\n",
    "sp15$stdvalue <- sp15$originaltraitvalue\n",
    "sp15$stdunit <- \"Days\"\n",
    "sp15$stdname <- paste(sp15$interactor1, \"-\", sp15$interactor1stage)\n"
   ]
  },
  {
   "cell_type": "code",
   "execution_count": 19,
   "metadata": {},
   "outputs": [
    {
     "data": {
      "text/html": [
       "'day / 1 individual'"
      ],
      "text/latex": [
       "'day / 1 individual'"
      ],
      "text/markdown": [
       "'day / 1 individual'"
      ],
      "text/plain": [
       "[1] \"day / 1 individual\""
      ]
     },
     "metadata": {},
     "output_type": "display_data"
    },
    {
     "data": {
      "text/html": [
       "'juvenile'"
      ],
      "text/latex": [
       "'juvenile'"
      ],
      "text/markdown": [
       "'juvenile'"
      ],
      "text/plain": [
       "[1] \"juvenile\""
      ]
     },
     "metadata": {},
     "output_type": "display_data"
    },
    {
     "data": {
      "text/html": [
       "'Time taken by an individual to complete a particular period or life stage'"
      ],
      "text/latex": [
       "'Time taken by an individual to complete a particular period or life stage'"
      ],
      "text/markdown": [
       "'Time taken by an individual to complete a particular period or life stage'"
      ],
      "text/plain": [
       "[1] \"Time taken by an individual to complete a particular period or life stage\""
      ]
     },
     "metadata": {},
     "output_type": "display_data"
    }
   ],
   "source": [
    "##Trichogramma sp. nr. Lutea\n",
    "\n",
    "sp16 <- subset(dev,dev$interactor1==\"Trichogramma sp. nr. Lutea\")\n",
    "sp16 <- gdata::drop.levels(sp16)\n",
    "\n",
    "levels(sp16$originaltraitunit)\n",
    "levels(sp16$interactor1stage)\n",
    "levels(sp16$originaltraitdef)\n",
    "\n",
    "sp16$stdvalue <- sp16$originaltraitvalue\n",
    "sp16$stdunit <- \"Days\"\n",
    "sp16$stdname <- paste(sp16$interactor1, \"-\", sp16$interactor1stage)\n"
   ]
  },
  {
   "cell_type": "code",
   "execution_count": 20,
   "metadata": {},
   "outputs": [
    {
     "data": {
      "text/html": [
       "'day / 1 individual'"
      ],
      "text/latex": [
       "'day / 1 individual'"
      ],
      "text/markdown": [
       "'day / 1 individual'"
      ],
      "text/plain": [
       "[1] \"day / 1 individual\""
      ]
     },
     "metadata": {},
     "output_type": "display_data"
    },
    {
     "data": {
      "text/html": [
       "'juvenile'"
      ],
      "text/latex": [
       "'juvenile'"
      ],
      "text/markdown": [
       "'juvenile'"
      ],
      "text/plain": [
       "[1] \"juvenile\""
      ]
     },
     "metadata": {},
     "output_type": "display_data"
    },
    {
     "data": {
      "text/html": [
       "'Time taken by an individual to complete a particular period or life stage'"
      ],
      "text/latex": [
       "'Time taken by an individual to complete a particular period or life stage'"
      ],
      "text/markdown": [
       "'Time taken by an individual to complete a particular period or life stage'"
      ],
      "text/plain": [
       "[1] \"Time taken by an individual to complete a particular period or life stage\""
      ]
     },
     "metadata": {},
     "output_type": "display_data"
    }
   ],
   "source": [
    "##Trichogramma sp. nr. Mwanzai\n",
    "\n",
    "sp17 <- subset(dev,dev$interactor1==\"Trichogramma sp. nr. Mwanzai\")\n",
    "sp17 <- gdata::drop.levels(sp17)\n",
    "\n",
    "levels(sp17$originaltraitunit)\n",
    "levels(sp17$interactor1stage)\n",
    "levels(sp17$originaltraitdef)\n",
    "\n",
    "sp17$stdvalue <- sp17$originaltraitvalue\n",
    "sp17$stdunit <- \"Days\"\n",
    "sp17$stdname <- paste(sp17$interactor1, \"-\", sp17$interactor1stage)"
   ]
  },
  {
   "cell_type": "code",
   "execution_count": 21,
   "metadata": {},
   "outputs": [
    {
     "data": {
      "text/html": [
       "<ol class=list-inline>\n",
       "\t<li>'%'</li>\n",
       "\t<li>'days'</li>\n",
       "</ol>\n"
      ],
      "text/latex": [
       "\\begin{enumerate*}\n",
       "\\item '\\%'\n",
       "\\item 'days'\n",
       "\\end{enumerate*}\n"
      ],
      "text/markdown": [
       "1. '%'\n",
       "2. 'days'\n",
       "\n",
       "\n"
      ],
      "text/plain": [
       "[1] \"%\"    \"days\""
      ]
     },
     "metadata": {},
     "output_type": "display_data"
    },
    {
     "data": {
      "text/html": [
       "<ol class=list-inline>\n",
       "\t<li>'Development Rate'</li>\n",
       "\t<li>'Development Time'</li>\n",
       "</ol>\n"
      ],
      "text/latex": [
       "\\begin{enumerate*}\n",
       "\\item 'Development Rate'\n",
       "\\item 'Development Time'\n",
       "\\end{enumerate*}\n"
      ],
      "text/markdown": [
       "1. 'Development Rate'\n",
       "2. 'Development Time'\n",
       "\n",
       "\n"
      ],
      "text/plain": [
       "[1] \"Development Rate\" \"Development Time\""
      ]
     },
     "metadata": {},
     "output_type": "display_data"
    }
   ],
   "source": [
    "##Anthonomus grandis\n",
    "\n",
    "sp18 <- subset(dev,dev$interactor1==\"Anthonomus grandis\")\n",
    "sp18 <- gdata::drop.levels(sp18)\n",
    "\n",
    "levels(sp18$originaltraitunit)\n",
    "levels(sp18$originaltraitname)\n",
    "\n",
    "#only using development time, development rate is inferred from development time (and the unit of % is incorrect)\n",
    "\n",
    "sp18 <- subset(sp18,sp18$originaltraitname==\"Development Time\")\n",
    "sp18$stdvalue <- sp18$originaltraitvalue\n",
    "sp18$stdunit <- \"Days\"\n",
    "sp18$stdname <- sp18$interactor1"
   ]
  },
  {
   "cell_type": "code",
   "execution_count": 22,
   "metadata": {},
   "outputs": [
    {
     "data": {
      "text/html": [
       "'day / 1 individual'"
      ],
      "text/latex": [
       "'day / 1 individual'"
      ],
      "text/markdown": [
       "'day / 1 individual'"
      ],
      "text/plain": [
       "[1] \"day / 1 individual\""
      ]
     },
     "metadata": {},
     "output_type": "display_data"
    },
    {
     "data": {
      "text/html": [
       "'egg'"
      ],
      "text/latex": [
       "'egg'"
      ],
      "text/markdown": [
       "'egg'"
      ],
      "text/plain": [
       "[1] \"egg\""
      ]
     },
     "metadata": {},
     "output_type": "display_data"
    },
    {
     "data": {
      "text/html": [
       "'Time taken by an individual to complete a particular period or life stage'"
      ],
      "text/latex": [
       "'Time taken by an individual to complete a particular period or life stage'"
      ],
      "text/markdown": [
       "'Time taken by an individual to complete a particular period or life stage'"
      ],
      "text/plain": [
       "[1] \"Time taken by an individual to complete a particular period or life stage\""
      ]
     },
     "metadata": {},
     "output_type": "display_data"
    }
   ],
   "source": [
    "##Sitona discoideus\n",
    "\n",
    "sp19 <- subset(dev,dev$interactor1==\"Sitona discoideus\")\n",
    "sp19 <- gdata::drop.levels(sp19)\n",
    "\n",
    "levels(sp19$originaltraitunit)\n",
    "levels(sp19$interactor1stage)\n",
    "levels(sp19$originaltraitdef)\n",
    "\n",
    "sp19$stdvalue <- sp19$originaltraitvalue\n",
    "sp19$stdunit <- \"Days\"\n",
    "sp19$stdname <- paste(sp19$interactor1, \"-\", sp19$interactor1stage)"
   ]
  },
  {
   "cell_type": "code",
   "execution_count": 23,
   "metadata": {},
   "outputs": [
    {
     "data": {
      "text/html": [
       "'1/day'"
      ],
      "text/latex": [
       "'1/day'"
      ],
      "text/markdown": [
       "'1/day'"
      ],
      "text/plain": [
       "[1] \"1/day\""
      ]
     },
     "metadata": {},
     "output_type": "display_data"
    },
    {
     "data": {
      "text/html": [
       "<ol class=list-inline>\n",
       "\t<li>'1st instar'</li>\n",
       "\t<li>'2nd instar'</li>\n",
       "\t<li>'3rd instar'</li>\n",
       "\t<li>'4th instar'</li>\n",
       "\t<li>'Egg'</li>\n",
       "\t<li>'Pupae'</li>\n",
       "</ol>\n"
      ],
      "text/latex": [
       "\\begin{enumerate*}\n",
       "\\item '1st instar'\n",
       "\\item '2nd instar'\n",
       "\\item '3rd instar'\n",
       "\\item '4th instar'\n",
       "\\item 'Egg'\n",
       "\\item 'Pupae'\n",
       "\\end{enumerate*}\n"
      ],
      "text/markdown": [
       "1. '1st instar'\n",
       "2. '2nd instar'\n",
       "3. '3rd instar'\n",
       "4. '4th instar'\n",
       "5. 'Egg'\n",
       "6. 'Pupae'\n",
       "\n",
       "\n"
      ],
      "text/plain": [
       "[1] \"1st instar\" \"2nd instar\" \"3rd instar\" \"4th instar\" \"Egg\"       \n",
       "[6] \"Pupae\"     "
      ]
     },
     "metadata": {},
     "output_type": "display_data"
    },
    {
     "data": {
      "text/html": [
       "'Development Rate'"
      ],
      "text/latex": [
       "'Development Rate'"
      ],
      "text/markdown": [
       "'Development Rate'"
      ],
      "text/plain": [
       "[1] \"Development Rate\""
      ]
     },
     "metadata": {},
     "output_type": "display_data"
    }
   ],
   "source": [
    "##Stethorus punctillum\n",
    "\n",
    "sp20 <- subset(dev,dev$interactor1==\"Stethorus punctillum\")\n",
    "sp20 <- gdata::drop.levels(sp20)\n",
    "\n",
    "levels(sp20$originaltraitunit)\n",
    "levels(sp20$interactor1stage)\n",
    "levels(sp20$originaltraitname)\n",
    "\n",
    "sp20$stdvalue <- 1/sp20$originaltraitvalue\n",
    "sp20$stdunit <- \"Days\"\n",
    "sp20$stdname <- paste(sp20$interactor1, \"-\", sp20$interactor1stage)\n",
    "\n",
    "###A few values are not seen in the graph, all are >300, due to a very very small development rate####"
   ]
  },
  {
   "cell_type": "code",
   "execution_count": 24,
   "metadata": {},
   "outputs": [
    {
     "data": {
      "text/html": [
       "'day / 1 individual'"
      ],
      "text/latex": [
       "'day / 1 individual'"
      ],
      "text/markdown": [
       "'day / 1 individual'"
      ],
      "text/plain": [
       "[1] \"day / 1 individual\""
      ]
     },
     "metadata": {},
     "output_type": "display_data"
    },
    {
     "data": {
      "text/html": [
       "<ol class=list-inline>\n",
       "\t<li>'adult'</li>\n",
       "\t<li>'juvenile'</li>\n",
       "</ol>\n"
      ],
      "text/latex": [
       "\\begin{enumerate*}\n",
       "\\item 'adult'\n",
       "\\item 'juvenile'\n",
       "\\end{enumerate*}\n"
      ],
      "text/markdown": [
       "1. 'adult'\n",
       "2. 'juvenile'\n",
       "\n",
       "\n"
      ],
      "text/plain": [
       "[1] \"adult\"    \"juvenile\""
      ]
     },
     "metadata": {},
     "output_type": "display_data"
    },
    {
     "data": {
      "text/html": [
       "'Development Time'"
      ],
      "text/latex": [
       "'Development Time'"
      ],
      "text/markdown": [
       "'Development Time'"
      ],
      "text/plain": [
       "[1] \"Development Time\""
      ]
     },
     "metadata": {},
     "output_type": "display_data"
    }
   ],
   "source": [
    "##Procambarus clarkii\n",
    "\n",
    "sp21 <- subset(dev,dev$interactor1==\"Procambarus clarkii\")\n",
    "sp21 <- gdata::drop.levels(sp21)\n",
    "\n",
    "levels(sp21$originaltraitunit)\n",
    "levels(sp21$interactor1stage)\n",
    "levels(sp21$originaltraitname)\n",
    "\n",
    "sp21$stdvalue <- sp21$originaltraitvalue\n",
    "sp21$stdunit <- \"Days\"\n",
    "sp21$stdname <- paste(sp21$interactor1, \"-\", sp21$interactor1stage)"
   ]
  },
  {
   "cell_type": "code",
   "execution_count": 25,
   "metadata": {},
   "outputs": [
    {
     "data": {
      "text/html": [
       "'day / 1 individual'"
      ],
      "text/latex": [
       "'day / 1 individual'"
      ],
      "text/markdown": [
       "'day / 1 individual'"
      ],
      "text/plain": [
       "[1] \"day / 1 individual\""
      ]
     },
     "metadata": {},
     "output_type": "display_data"
    },
    {
     "data": {
      "text/html": [
       "<ol class=list-inline>\n",
       "\t<li>'egg'</li>\n",
       "\t<li>'larvae'</li>\n",
       "\t<li>'pupae'</li>\n",
       "</ol>\n"
      ],
      "text/latex": [
       "\\begin{enumerate*}\n",
       "\\item 'egg'\n",
       "\\item 'larvae'\n",
       "\\item 'pupae'\n",
       "\\end{enumerate*}\n"
      ],
      "text/markdown": [
       "1. 'egg'\n",
       "2. 'larvae'\n",
       "3. 'pupae'\n",
       "\n",
       "\n"
      ],
      "text/plain": [
       "[1] \"egg\"    \"larvae\" \"pupae\" "
      ]
     },
     "metadata": {},
     "output_type": "display_data"
    },
    {
     "data": {
      "text/html": [
       "'Development Time'"
      ],
      "text/latex": [
       "'Development Time'"
      ],
      "text/markdown": [
       "'Development Time'"
      ],
      "text/plain": [
       "[1] \"Development Time\""
      ]
     },
     "metadata": {},
     "output_type": "display_data"
    }
   ],
   "source": [
    "##Cydia pomonella\n",
    "\n",
    "sp22 <- subset(dev,dev$interactor1==\"Cydia pomonella\")\n",
    "sp22 <- gdata::drop.levels(sp22)\n",
    "\n",
    "levels(sp22$originaltraitunit)\n",
    "levels(sp22$interactor1stage)\n",
    "levels(sp22$originaltraitname)\n",
    "\n",
    "sp22$stdvalue <- sp22$originaltraitvalue\n",
    "sp22$stdunit <- \"Days\"\n",
    "sp22$stdname <- paste(sp22$interactor1, \"-\", sp22$interactor1stage)"
   ]
  },
  {
   "cell_type": "code",
   "execution_count": 26,
   "metadata": {},
   "outputs": [
    {
     "data": {
      "text/html": [
       "'1/day'"
      ],
      "text/latex": [
       "'1/day'"
      ],
      "text/markdown": [
       "'1/day'"
      ],
      "text/plain": [
       "[1] \"1/day\""
      ]
     },
     "metadata": {},
     "output_type": "display_data"
    },
    {
     "data": {
      "text/html": [
       "<ol class=list-inline>\n",
       "\t<li>'Deutonymph'</li>\n",
       "\t<li>'Egg'</li>\n",
       "\t<li>'Larvae'</li>\n",
       "\t<li>'Protonymph'</li>\n",
       "</ol>\n"
      ],
      "text/latex": [
       "\\begin{enumerate*}\n",
       "\\item 'Deutonymph'\n",
       "\\item 'Egg'\n",
       "\\item 'Larvae'\n",
       "\\item 'Protonymph'\n",
       "\\end{enumerate*}\n"
      ],
      "text/markdown": [
       "1. 'Deutonymph'\n",
       "2. 'Egg'\n",
       "3. 'Larvae'\n",
       "4. 'Protonymph'\n",
       "\n",
       "\n"
      ],
      "text/plain": [
       "[1] \"Deutonymph\" \"Egg\"        \"Larvae\"     \"Protonymph\""
      ]
     },
     "metadata": {},
     "output_type": "display_data"
    },
    {
     "data": {
      "text/html": [
       "'Development Rate'"
      ],
      "text/latex": [
       "'Development Rate'"
      ],
      "text/markdown": [
       "'Development Rate'"
      ],
      "text/plain": [
       "[1] \"Development Rate\""
      ]
     },
     "metadata": {},
     "output_type": "display_data"
    }
   ],
   "source": [
    "##Tetranychus mcdanieli\n",
    "\n",
    "sp23 <- subset(dev,dev$interactor1==\"Tetranychus mcdanieli\")\n",
    "sp23 <- gdata::drop.levels(sp23)\n",
    "\n",
    "levels(sp23$originaltraitunit)\n",
    "levels(sp23$interactor1stage)\n",
    "levels(sp23$originaltraitname)\n",
    "\n",
    "sp23$stdvalue <- 1/sp23$originaltraitvalue\n",
    "sp23$stdunit <- \"Days\"\n",
    "sp23$stdname <- paste(sp23$interactor1, \"-\", sp23$interactor1stage)"
   ]
  },
  {
   "cell_type": "code",
   "execution_count": 27,
   "metadata": {},
   "outputs": [
    {
     "data": {
      "text/html": [
       "'days'"
      ],
      "text/latex": [
       "'days'"
      ],
      "text/markdown": [
       "'days'"
      ],
      "text/plain": [
       "[1] \"days\""
      ]
     },
     "metadata": {},
     "output_type": "display_data"
    },
    {
     "data": {
      "text/html": [
       "<ol class=list-inline>\n",
       "\t<li>''</li>\n",
       "\t<li>'1st instar'</li>\n",
       "\t<li>'2nd instar'</li>\n",
       "\t<li>'3rd instar'</li>\n",
       "\t<li>'4th instar'</li>\n",
       "</ol>\n"
      ],
      "text/latex": [
       "\\begin{enumerate*}\n",
       "\\item ''\n",
       "\\item '1st instar'\n",
       "\\item '2nd instar'\n",
       "\\item '3rd instar'\n",
       "\\item '4th instar'\n",
       "\\end{enumerate*}\n"
      ],
      "text/markdown": [
       "1. ''\n",
       "2. '1st instar'\n",
       "3. '2nd instar'\n",
       "4. '3rd instar'\n",
       "5. '4th instar'\n",
       "\n",
       "\n"
      ],
      "text/plain": [
       "[1] \"\"           \"1st instar\" \"2nd instar\" \"3rd instar\" \"4th instar\""
      ]
     },
     "metadata": {},
     "output_type": "display_data"
    },
    {
     "data": {
      "text/html": [
       "'Development Time'"
      ],
      "text/latex": [
       "'Development Time'"
      ],
      "text/markdown": [
       "'Development Time'"
      ],
      "text/plain": [
       "[1] \"Development Time\""
      ]
     },
     "metadata": {},
     "output_type": "display_data"
    },
    {
     "data": {
      "text/html": [
       "<ol class=list-inline>\n",
       "\t<li>''</li>\n",
       "\t<li>'Combined Immature Stages'</li>\n",
       "\t<li>'Combined Nymphal Stages'</li>\n",
       "\t<li>'Egg'</li>\n",
       "</ol>\n"
      ],
      "text/latex": [
       "\\begin{enumerate*}\n",
       "\\item ''\n",
       "\\item 'Combined Immature Stages'\n",
       "\\item 'Combined Nymphal Stages'\n",
       "\\item 'Egg'\n",
       "\\end{enumerate*}\n"
      ],
      "text/markdown": [
       "1. ''\n",
       "2. 'Combined Immature Stages'\n",
       "3. 'Combined Nymphal Stages'\n",
       "4. 'Egg'\n",
       "\n",
       "\n"
      ],
      "text/plain": [
       "[1] \"\"                         \"Combined Immature Stages\"\n",
       "[3] \"Combined Nymphal Stages\"  \"Egg\"                     "
      ]
     },
     "metadata": {},
     "output_type": "display_data"
    },
    {
     "data": {
      "text/html": [
       "<ol class=list-inline>\n",
       "\t<li>'Combined Immature Stages'</li>\n",
       "\t<li>'Combined Immature Stages'</li>\n",
       "\t<li>'Combined Immature Stages'</li>\n",
       "\t<li>'Combined Immature Stages'</li>\n",
       "\t<li>'Combined Immature Stages'</li>\n",
       "\t<li>'Combined Immature Stages'</li>\n",
       "\t<li>'Combined Immature Stages'</li>\n",
       "\t<li>'Combined Immature Stages'</li>\n",
       "\t<li>'Combined Immature Stages'</li>\n",
       "\t<li>'Combined Immature Stages'</li>\n",
       "\t<li>'Combined Immature Stages'</li>\n",
       "\t<li>'Combined Immature Stages'</li>\n",
       "\t<li>'Combined Immature Stages'</li>\n",
       "\t<li>'Combined Immature Stages'</li>\n",
       "\t<li>'Combined Immature Stages'</li>\n",
       "\t<li>'Combined Immature Stages'</li>\n",
       "\t<li>'Combined Nymphal Stages'</li>\n",
       "\t<li>'Combined Nymphal Stages'</li>\n",
       "\t<li>'Combined Nymphal Stages'</li>\n",
       "\t<li>'Combined Nymphal Stages'</li>\n",
       "\t<li>'Combined Nymphal Stages'</li>\n",
       "\t<li>'Combined Nymphal Stages'</li>\n",
       "\t<li>'Combined Nymphal Stages'</li>\n",
       "\t<li>'Combined Nymphal Stages'</li>\n",
       "\t<li>'Combined Nymphal Stages'</li>\n",
       "\t<li>'Combined Nymphal Stages'</li>\n",
       "\t<li>'Combined Nymphal Stages'</li>\n",
       "\t<li>'Combined Nymphal Stages'</li>\n",
       "\t<li>'Combined Nymphal Stages'</li>\n",
       "\t<li>'Combined Nymphal Stages'</li>\n",
       "\t<li>'Combined Nymphal Stages'</li>\n",
       "\t<li>'Combined Nymphal Stages'</li>\n",
       "\t<li>'Combined Nymphal Stages'</li>\n",
       "\t<li>'Combined Nymphal Stages'</li>\n",
       "\t<li>'Egg'</li>\n",
       "\t<li>'Egg'</li>\n",
       "\t<li>'Egg'</li>\n",
       "\t<li>'Egg'</li>\n",
       "\t<li>'Egg'</li>\n",
       "\t<li>'Egg'</li>\n",
       "\t<li>'Egg'</li>\n",
       "\t<li>'Egg'</li>\n",
       "\t<li>'Egg'</li>\n",
       "\t<li>'Egg'</li>\n",
       "\t<li>'Egg'</li>\n",
       "\t<li>'Egg'</li>\n",
       "\t<li>'Egg'</li>\n",
       "\t<li>'Egg'</li>\n",
       "\t<li>'Egg'</li>\n",
       "\t<li>'Egg'</li>\n",
       "\t<li>'1st instar'</li>\n",
       "\t<li>'1st instar'</li>\n",
       "\t<li>'1st instar'</li>\n",
       "\t<li>'1st instar'</li>\n",
       "\t<li>'1st instar'</li>\n",
       "\t<li>'1st instar'</li>\n",
       "\t<li>'1st instar'</li>\n",
       "\t<li>'1st instar'</li>\n",
       "\t<li>'1st instar'</li>\n",
       "\t<li>'1st instar'</li>\n",
       "\t<li>'1st instar'</li>\n",
       "\t<li>'1st instar'</li>\n",
       "\t<li>'1st instar'</li>\n",
       "\t<li>'1st instar'</li>\n",
       "\t<li>'1st instar'</li>\n",
       "\t<li>'1st instar'</li>\n",
       "\t<li>'2nd instar'</li>\n",
       "\t<li>'2nd instar'</li>\n",
       "\t<li>'2nd instar'</li>\n",
       "\t<li>'2nd instar'</li>\n",
       "\t<li>'2nd instar'</li>\n",
       "\t<li>'2nd instar'</li>\n",
       "\t<li>'2nd instar'</li>\n",
       "\t<li>'2nd instar'</li>\n",
       "\t<li>'2nd instar'</li>\n",
       "\t<li>'2nd instar'</li>\n",
       "\t<li>'2nd instar'</li>\n",
       "\t<li>'2nd instar'</li>\n",
       "\t<li>'2nd instar'</li>\n",
       "\t<li>'2nd instar'</li>\n",
       "\t<li>'2nd instar'</li>\n",
       "\t<li>'2nd instar'</li>\n",
       "\t<li>'3rd instar'</li>\n",
       "\t<li>'3rd instar'</li>\n",
       "\t<li>'3rd instar'</li>\n",
       "\t<li>'3rd instar'</li>\n",
       "\t<li>'3rd instar'</li>\n",
       "\t<li>'3rd instar'</li>\n",
       "\t<li>'3rd instar'</li>\n",
       "\t<li>'3rd instar'</li>\n",
       "\t<li>'3rd instar'</li>\n",
       "\t<li>'3rd instar'</li>\n",
       "\t<li>'3rd instar'</li>\n",
       "\t<li>'3rd instar'</li>\n",
       "\t<li>'3rd instar'</li>\n",
       "\t<li>'3rd instar'</li>\n",
       "\t<li>'3rd instar'</li>\n",
       "\t<li>'3rd instar'</li>\n",
       "\t<li>'4th instar'</li>\n",
       "\t<li>'4th instar'</li>\n",
       "\t<li>'4th instar'</li>\n",
       "\t<li>'4th instar'</li>\n",
       "\t<li>'4th instar'</li>\n",
       "\t<li>'4th instar'</li>\n",
       "\t<li>'4th instar'</li>\n",
       "\t<li>'4th instar'</li>\n",
       "\t<li>'4th instar'</li>\n",
       "\t<li>'4th instar'</li>\n",
       "\t<li>'4th instar'</li>\n",
       "\t<li>'4th instar'</li>\n",
       "\t<li>'4th instar'</li>\n",
       "\t<li>'4th instar'</li>\n",
       "\t<li>'4th instar'</li>\n",
       "\t<li>'4th instar'</li>\n",
       "</ol>\n"
      ],
      "text/latex": [
       "\\begin{enumerate*}\n",
       "\\item 'Combined Immature Stages'\n",
       "\\item 'Combined Immature Stages'\n",
       "\\item 'Combined Immature Stages'\n",
       "\\item 'Combined Immature Stages'\n",
       "\\item 'Combined Immature Stages'\n",
       "\\item 'Combined Immature Stages'\n",
       "\\item 'Combined Immature Stages'\n",
       "\\item 'Combined Immature Stages'\n",
       "\\item 'Combined Immature Stages'\n",
       "\\item 'Combined Immature Stages'\n",
       "\\item 'Combined Immature Stages'\n",
       "\\item 'Combined Immature Stages'\n",
       "\\item 'Combined Immature Stages'\n",
       "\\item 'Combined Immature Stages'\n",
       "\\item 'Combined Immature Stages'\n",
       "\\item 'Combined Immature Stages'\n",
       "\\item 'Combined Nymphal Stages'\n",
       "\\item 'Combined Nymphal Stages'\n",
       "\\item 'Combined Nymphal Stages'\n",
       "\\item 'Combined Nymphal Stages'\n",
       "\\item 'Combined Nymphal Stages'\n",
       "\\item 'Combined Nymphal Stages'\n",
       "\\item 'Combined Nymphal Stages'\n",
       "\\item 'Combined Nymphal Stages'\n",
       "\\item 'Combined Nymphal Stages'\n",
       "\\item 'Combined Nymphal Stages'\n",
       "\\item 'Combined Nymphal Stages'\n",
       "\\item 'Combined Nymphal Stages'\n",
       "\\item 'Combined Nymphal Stages'\n",
       "\\item 'Combined Nymphal Stages'\n",
       "\\item 'Combined Nymphal Stages'\n",
       "\\item 'Combined Nymphal Stages'\n",
       "\\item 'Combined Nymphal Stages'\n",
       "\\item 'Combined Nymphal Stages'\n",
       "\\item 'Egg'\n",
       "\\item 'Egg'\n",
       "\\item 'Egg'\n",
       "\\item 'Egg'\n",
       "\\item 'Egg'\n",
       "\\item 'Egg'\n",
       "\\item 'Egg'\n",
       "\\item 'Egg'\n",
       "\\item 'Egg'\n",
       "\\item 'Egg'\n",
       "\\item 'Egg'\n",
       "\\item 'Egg'\n",
       "\\item 'Egg'\n",
       "\\item 'Egg'\n",
       "\\item 'Egg'\n",
       "\\item 'Egg'\n",
       "\\item '1st instar'\n",
       "\\item '1st instar'\n",
       "\\item '1st instar'\n",
       "\\item '1st instar'\n",
       "\\item '1st instar'\n",
       "\\item '1st instar'\n",
       "\\item '1st instar'\n",
       "\\item '1st instar'\n",
       "\\item '1st instar'\n",
       "\\item '1st instar'\n",
       "\\item '1st instar'\n",
       "\\item '1st instar'\n",
       "\\item '1st instar'\n",
       "\\item '1st instar'\n",
       "\\item '1st instar'\n",
       "\\item '1st instar'\n",
       "\\item '2nd instar'\n",
       "\\item '2nd instar'\n",
       "\\item '2nd instar'\n",
       "\\item '2nd instar'\n",
       "\\item '2nd instar'\n",
       "\\item '2nd instar'\n",
       "\\item '2nd instar'\n",
       "\\item '2nd instar'\n",
       "\\item '2nd instar'\n",
       "\\item '2nd instar'\n",
       "\\item '2nd instar'\n",
       "\\item '2nd instar'\n",
       "\\item '2nd instar'\n",
       "\\item '2nd instar'\n",
       "\\item '2nd instar'\n",
       "\\item '2nd instar'\n",
       "\\item '3rd instar'\n",
       "\\item '3rd instar'\n",
       "\\item '3rd instar'\n",
       "\\item '3rd instar'\n",
       "\\item '3rd instar'\n",
       "\\item '3rd instar'\n",
       "\\item '3rd instar'\n",
       "\\item '3rd instar'\n",
       "\\item '3rd instar'\n",
       "\\item '3rd instar'\n",
       "\\item '3rd instar'\n",
       "\\item '3rd instar'\n",
       "\\item '3rd instar'\n",
       "\\item '3rd instar'\n",
       "\\item '3rd instar'\n",
       "\\item '3rd instar'\n",
       "\\item '4th instar'\n",
       "\\item '4th instar'\n",
       "\\item '4th instar'\n",
       "\\item '4th instar'\n",
       "\\item '4th instar'\n",
       "\\item '4th instar'\n",
       "\\item '4th instar'\n",
       "\\item '4th instar'\n",
       "\\item '4th instar'\n",
       "\\item '4th instar'\n",
       "\\item '4th instar'\n",
       "\\item '4th instar'\n",
       "\\item '4th instar'\n",
       "\\item '4th instar'\n",
       "\\item '4th instar'\n",
       "\\item '4th instar'\n",
       "\\end{enumerate*}\n"
      ],
      "text/markdown": [
       "1. 'Combined Immature Stages'\n",
       "2. 'Combined Immature Stages'\n",
       "3. 'Combined Immature Stages'\n",
       "4. 'Combined Immature Stages'\n",
       "5. 'Combined Immature Stages'\n",
       "6. 'Combined Immature Stages'\n",
       "7. 'Combined Immature Stages'\n",
       "8. 'Combined Immature Stages'\n",
       "9. 'Combined Immature Stages'\n",
       "10. 'Combined Immature Stages'\n",
       "11. 'Combined Immature Stages'\n",
       "12. 'Combined Immature Stages'\n",
       "13. 'Combined Immature Stages'\n",
       "14. 'Combined Immature Stages'\n",
       "15. 'Combined Immature Stages'\n",
       "16. 'Combined Immature Stages'\n",
       "17. 'Combined Nymphal Stages'\n",
       "18. 'Combined Nymphal Stages'\n",
       "19. 'Combined Nymphal Stages'\n",
       "20. 'Combined Nymphal Stages'\n",
       "21. 'Combined Nymphal Stages'\n",
       "22. 'Combined Nymphal Stages'\n",
       "23. 'Combined Nymphal Stages'\n",
       "24. 'Combined Nymphal Stages'\n",
       "25. 'Combined Nymphal Stages'\n",
       "26. 'Combined Nymphal Stages'\n",
       "27. 'Combined Nymphal Stages'\n",
       "28. 'Combined Nymphal Stages'\n",
       "29. 'Combined Nymphal Stages'\n",
       "30. 'Combined Nymphal Stages'\n",
       "31. 'Combined Nymphal Stages'\n",
       "32. 'Combined Nymphal Stages'\n",
       "33. 'Combined Nymphal Stages'\n",
       "34. 'Combined Nymphal Stages'\n",
       "35. 'Egg'\n",
       "36. 'Egg'\n",
       "37. 'Egg'\n",
       "38. 'Egg'\n",
       "39. 'Egg'\n",
       "40. 'Egg'\n",
       "41. 'Egg'\n",
       "42. 'Egg'\n",
       "43. 'Egg'\n",
       "44. 'Egg'\n",
       "45. 'Egg'\n",
       "46. 'Egg'\n",
       "47. 'Egg'\n",
       "48. 'Egg'\n",
       "49. 'Egg'\n",
       "50. 'Egg'\n",
       "51. '1st instar'\n",
       "52. '1st instar'\n",
       "53. '1st instar'\n",
       "54. '1st instar'\n",
       "55. '1st instar'\n",
       "56. '1st instar'\n",
       "57. '1st instar'\n",
       "58. '1st instar'\n",
       "59. '1st instar'\n",
       "60. '1st instar'\n",
       "61. '1st instar'\n",
       "62. '1st instar'\n",
       "63. '1st instar'\n",
       "64. '1st instar'\n",
       "65. '1st instar'\n",
       "66. '1st instar'\n",
       "67. '2nd instar'\n",
       "68. '2nd instar'\n",
       "69. '2nd instar'\n",
       "70. '2nd instar'\n",
       "71. '2nd instar'\n",
       "72. '2nd instar'\n",
       "73. '2nd instar'\n",
       "74. '2nd instar'\n",
       "75. '2nd instar'\n",
       "76. '2nd instar'\n",
       "77. '2nd instar'\n",
       "78. '2nd instar'\n",
       "79. '2nd instar'\n",
       "80. '2nd instar'\n",
       "81. '2nd instar'\n",
       "82. '2nd instar'\n",
       "83. '3rd instar'\n",
       "84. '3rd instar'\n",
       "85. '3rd instar'\n",
       "86. '3rd instar'\n",
       "87. '3rd instar'\n",
       "88. '3rd instar'\n",
       "89. '3rd instar'\n",
       "90. '3rd instar'\n",
       "91. '3rd instar'\n",
       "92. '3rd instar'\n",
       "93. '3rd instar'\n",
       "94. '3rd instar'\n",
       "95. '3rd instar'\n",
       "96. '3rd instar'\n",
       "97. '3rd instar'\n",
       "98. '3rd instar'\n",
       "99. '4th instar'\n",
       "100. '4th instar'\n",
       "101. '4th instar'\n",
       "102. '4th instar'\n",
       "103. '4th instar'\n",
       "104. '4th instar'\n",
       "105. '4th instar'\n",
       "106. '4th instar'\n",
       "107. '4th instar'\n",
       "108. '4th instar'\n",
       "109. '4th instar'\n",
       "110. '4th instar'\n",
       "111. '4th instar'\n",
       "112. '4th instar'\n",
       "113. '4th instar'\n",
       "114. '4th instar'\n",
       "\n",
       "\n"
      ],
      "text/plain": [
       "  [1] \"Combined Immature Stages\" \"Combined Immature Stages\"\n",
       "  [3] \"Combined Immature Stages\" \"Combined Immature Stages\"\n",
       "  [5] \"Combined Immature Stages\" \"Combined Immature Stages\"\n",
       "  [7] \"Combined Immature Stages\" \"Combined Immature Stages\"\n",
       "  [9] \"Combined Immature Stages\" \"Combined Immature Stages\"\n",
       " [11] \"Combined Immature Stages\" \"Combined Immature Stages\"\n",
       " [13] \"Combined Immature Stages\" \"Combined Immature Stages\"\n",
       " [15] \"Combined Immature Stages\" \"Combined Immature Stages\"\n",
       " [17] \"Combined Nymphal Stages\"  \"Combined Nymphal Stages\" \n",
       " [19] \"Combined Nymphal Stages\"  \"Combined Nymphal Stages\" \n",
       " [21] \"Combined Nymphal Stages\"  \"Combined Nymphal Stages\" \n",
       " [23] \"Combined Nymphal Stages\"  \"Combined Nymphal Stages\" \n",
       " [25] \"Combined Nymphal Stages\"  \"Combined Nymphal Stages\" \n",
       " [27] \"Combined Nymphal Stages\"  \"Combined Nymphal Stages\" \n",
       " [29] \"Combined Nymphal Stages\"  \"Combined Nymphal Stages\" \n",
       " [31] \"Combined Nymphal Stages\"  \"Combined Nymphal Stages\" \n",
       " [33] \"Combined Nymphal Stages\"  \"Combined Nymphal Stages\" \n",
       " [35] \"Egg\"                      \"Egg\"                     \n",
       " [37] \"Egg\"                      \"Egg\"                     \n",
       " [39] \"Egg\"                      \"Egg\"                     \n",
       " [41] \"Egg\"                      \"Egg\"                     \n",
       " [43] \"Egg\"                      \"Egg\"                     \n",
       " [45] \"Egg\"                      \"Egg\"                     \n",
       " [47] \"Egg\"                      \"Egg\"                     \n",
       " [49] \"Egg\"                      \"Egg\"                     \n",
       " [51] \"1st instar\"               \"1st instar\"              \n",
       " [53] \"1st instar\"               \"1st instar\"              \n",
       " [55] \"1st instar\"               \"1st instar\"              \n",
       " [57] \"1st instar\"               \"1st instar\"              \n",
       " [59] \"1st instar\"               \"1st instar\"              \n",
       " [61] \"1st instar\"               \"1st instar\"              \n",
       " [63] \"1st instar\"               \"1st instar\"              \n",
       " [65] \"1st instar\"               \"1st instar\"              \n",
       " [67] \"2nd instar\"               \"2nd instar\"              \n",
       " [69] \"2nd instar\"               \"2nd instar\"              \n",
       " [71] \"2nd instar\"               \"2nd instar\"              \n",
       " [73] \"2nd instar\"               \"2nd instar\"              \n",
       " [75] \"2nd instar\"               \"2nd instar\"              \n",
       " [77] \"2nd instar\"               \"2nd instar\"              \n",
       " [79] \"2nd instar\"               \"2nd instar\"              \n",
       " [81] \"2nd instar\"               \"2nd instar\"              \n",
       " [83] \"3rd instar\"               \"3rd instar\"              \n",
       " [85] \"3rd instar\"               \"3rd instar\"              \n",
       " [87] \"3rd instar\"               \"3rd instar\"              \n",
       " [89] \"3rd instar\"               \"3rd instar\"              \n",
       " [91] \"3rd instar\"               \"3rd instar\"              \n",
       " [93] \"3rd instar\"               \"3rd instar\"              \n",
       " [95] \"3rd instar\"               \"3rd instar\"              \n",
       " [97] \"3rd instar\"               \"3rd instar\"              \n",
       " [99] \"4th instar\"               \"4th instar\"              \n",
       "[101] \"4th instar\"               \"4th instar\"              \n",
       "[103] \"4th instar\"               \"4th instar\"              \n",
       "[105] \"4th instar\"               \"4th instar\"              \n",
       "[107] \"4th instar\"               \"4th instar\"              \n",
       "[109] \"4th instar\"               \"4th instar\"              \n",
       "[111] \"4th instar\"               \"4th instar\"              \n",
       "[113] \"4th instar\"               \"4th instar\"              "
      ]
     },
     "metadata": {},
     "output_type": "display_data"
    }
   ],
   "source": [
    "##Lepinotus reticulatus\n",
    "\n",
    "sp24 <- subset(dev,dev$interactor1==\"Lepinotus reticulatus\")\n",
    "sp24 <- gdata::drop.levels(sp24)\n",
    "\n",
    "levels(sp24$originaltraitunit)\n",
    "levels(sp24$interactor1stage)\n",
    "levels(sp24$originaltraitname)\n",
    "levels(sp24$notes)\n",
    "\n",
    "#Cera somehow wrote the stage in the notes section rather than stage section \n",
    "sp24 <- sp24 %>% mutate(interactor1stage= case_when(notes %in% \"Combined Immature Stages\" ~ 'Combined Immature Stages',\n",
    "                                             notes %in% \"Combined Nymphal Stages\" ~ 'Combined Nymphal Stages',\n",
    "                                             notes %in% \"Egg\" ~ 'Egg',\n",
    "                                                   notes %in% \"\" ~ as.character(interactor1stage)))\n",
    "\n",
    "\n",
    "sp24$interactor1stage\n",
    "\n",
    "sp24$stdvalue <- sp24$originaltraitvalue\n",
    "sp24$stdunit <- \"Days\"\n",
    "sp24$stdname <- paste(sp24$interactor1, \"-\", sp24$interactor1stage)\n"
   ]
  },
  {
   "cell_type": "code",
   "execution_count": 28,
   "metadata": {},
   "outputs": [
    {
     "data": {
      "text/html": [
       "'day / 1 individual'"
      ],
      "text/latex": [
       "'day / 1 individual'"
      ],
      "text/markdown": [
       "'day / 1 individual'"
      ],
      "text/plain": [
       "[1] \"day / 1 individual\""
      ]
     },
     "metadata": {},
     "output_type": "display_data"
    },
    {
     "data": {
      "text/html": [
       "'larvae'"
      ],
      "text/latex": [
       "'larvae'"
      ],
      "text/markdown": [
       "'larvae'"
      ],
      "text/plain": [
       "[1] \"larvae\""
      ]
     },
     "metadata": {},
     "output_type": "display_data"
    },
    {
     "data": {
      "text/html": [
       "'Time taken by an individual to complete a particular period or life stage'"
      ],
      "text/latex": [
       "'Time taken by an individual to complete a particular period or life stage'"
      ],
      "text/markdown": [
       "'Time taken by an individual to complete a particular period or life stage'"
      ],
      "text/plain": [
       "[1] \"Time taken by an individual to complete a particular period or life stage\""
      ]
     },
     "metadata": {},
     "output_type": "display_data"
    }
   ],
   "source": [
    "##Telenomus chrysopae: Hymenoptera, missed it above\n",
    "\n",
    "sp25 <- subset(dev,dev$interactor1==\"Telenomus chrysopae\")\n",
    "sp25 <- gdata::drop.levels(sp25)\n",
    "\n",
    "levels(sp25$originaltraitunit)\n",
    "levels(sp25$interactor1stage)\n",
    "levels(sp25$originaltraitdef)\n",
    "\n",
    "sp25$stdvalue <- sp25$originaltraitvalue\n",
    "sp25$stdunit <- \"Days\"\n",
    "sp25$stdname <- paste(sp25$interactor1, \"-\", sp25$interactor1stage)\n"
   ]
  },
  {
   "cell_type": "code",
   "execution_count": 29,
   "metadata": {},
   "outputs": [
    {
     "data": {
      "text/html": [
       "<ol class=list-inline>\n",
       "\t<li>'day / 1 individual'</li>\n",
       "\t<li>'hour / 1 individual'</li>\n",
       "</ol>\n"
      ],
      "text/latex": [
       "\\begin{enumerate*}\n",
       "\\item 'day / 1 individual'\n",
       "\\item 'hour / 1 individual'\n",
       "\\end{enumerate*}\n"
      ],
      "text/markdown": [
       "1. 'day / 1 individual'\n",
       "2. 'hour / 1 individual'\n",
       "\n",
       "\n"
      ],
      "text/plain": [
       "[1] \"day / 1 individual\"  \"hour / 1 individual\""
      ]
     },
     "metadata": {},
     "output_type": "display_data"
    },
    {
     "data": {
      "text/html": [
       "<ol class=list-inline>\n",
       "\t<li>'egg'</li>\n",
       "\t<li>'pupae'</li>\n",
       "</ol>\n"
      ],
      "text/latex": [
       "\\begin{enumerate*}\n",
       "\\item 'egg'\n",
       "\\item 'pupae'\n",
       "\\end{enumerate*}\n"
      ],
      "text/markdown": [
       "1. 'egg'\n",
       "2. 'pupae'\n",
       "\n",
       "\n"
      ],
      "text/plain": [
       "[1] \"egg\"   \"pupae\""
      ]
     },
     "metadata": {},
     "output_type": "display_data"
    },
    {
     "data": {
      "text/html": [
       "'Time taken by an individual to complete a particular period or life stage'"
      ],
      "text/latex": [
       "'Time taken by an individual to complete a particular period or life stage'"
      ],
      "text/markdown": [
       "'Time taken by an individual to complete a particular period or life stage'"
      ],
      "text/plain": [
       "[1] \"Time taken by an individual to complete a particular period or life stage\""
      ]
     },
     "metadata": {},
     "output_type": "display_data"
    },
    {
     "data": {
      "text/html": [
       "<ol class=list-inline>\n",
       "\t<li>'MTD2165'</li>\n",
       "\t<li>'MTD2166'</li>\n",
       "</ol>\n"
      ],
      "text/latex": [
       "\\begin{enumerate*}\n",
       "\\item 'MTD2165'\n",
       "\\item 'MTD2166'\n",
       "\\end{enumerate*}\n"
      ],
      "text/markdown": [
       "1. 'MTD2165'\n",
       "2. 'MTD2166'\n",
       "\n",
       "\n"
      ],
      "text/plain": [
       "[1] \"MTD2165\" \"MTD2166\""
      ]
     },
     "metadata": {},
     "output_type": "display_data"
    }
   ],
   "source": [
    "## Bactrocera correcta: Diptera, missed in orginal data summary, now added\n",
    "sp26 <- subset(dev,dev$interactor1==\"Bactrocera correcta\")\n",
    "sp26 <- gdata::drop.levels(sp26)\n",
    "\n",
    "levels(sp26$originaltraitunit)\n",
    "levels(sp26$interactor1stage)\n",
    "levels(sp26$originaltraitdef)\n",
    "\n",
    "sp26a <- subset(sp26, sp26$originaltraitunit==\"hour / 1 individual\")\n",
    "sp26a$stdvalue <- sp26a$originaltraitvalue/24\n",
    "sp26a$stdunit <- \"Days\"\n",
    "sp26a$stdname <- paste(sp26a$interactor1, \"-\", sp26a$interactor1stage)\n",
    "\n",
    "sp26b <- subset(sp26, sp26$originaltraitunit==\"day / 1 individual\")\n",
    "sp26b <- gdata::drop.levels(sp26b)\n",
    "levels(sp26b$originalid)\n",
    "\n",
    "#checked original paper, data with ID MTD2165 should be in larval stage rather than pupae\n",
    "sp26b <- sp26b %>% mutate(interactor1stage= case_when(originalid %in% \"MTD2165\" ~ 'Larvae',\n",
    "                                             originalid %in% \"MTD2166\" ~ 'Pupae'))\n",
    "\n",
    "sp26b$stdvalue <- sp26b$originaltraitvalue\n",
    "sp26b$stdunit <- \"Days\"\n",
    "sp26b$stdname <- paste(sp26b$interactor1, \"-\", sp26b$interactor1stage)\n",
    "\n",
    "sp26 <- rbind(sp26a,sp26b)"
   ]
  },
  {
   "cell_type": "code",
   "execution_count": 30,
   "metadata": {},
   "outputs": [
    {
     "data": {
      "text/html": [
       "153"
      ],
      "text/latex": [
       "153"
      ],
      "text/markdown": [
       "153"
      ],
      "text/plain": [
       "[1] 153"
      ]
     },
     "metadata": {},
     "output_type": "display_data"
    },
    {
     "data": {
      "text/html": [
       "153"
      ],
      "text/latex": [
       "153"
      ],
      "text/markdown": [
       "153"
      ],
      "text/plain": [
       "[1] 153"
      ]
     },
     "metadata": {},
     "output_type": "display_data"
    },
    {
     "data": {
      "text/html": [
       "153"
      ],
      "text/latex": [
       "153"
      ],
      "text/markdown": [
       "153"
      ],
      "text/plain": [
       "[1] 153"
      ]
     },
     "metadata": {},
     "output_type": "display_data"
    },
    {
     "data": {
      "text/html": [
       "153"
      ],
      "text/latex": [
       "153"
      ],
      "text/markdown": [
       "153"
      ],
      "text/plain": [
       "[1] 153"
      ]
     },
     "metadata": {},
     "output_type": "display_data"
    },
    {
     "data": {
      "text/html": [
       "153"
      ],
      "text/latex": [
       "153"
      ],
      "text/markdown": [
       "153"
      ],
      "text/plain": [
       "[1] 153"
      ]
     },
     "metadata": {},
     "output_type": "display_data"
    },
    {
     "data": {
      "text/html": [
       "153"
      ],
      "text/latex": [
       "153"
      ],
      "text/markdown": [
       "153"
      ],
      "text/plain": [
       "[1] 153"
      ]
     },
     "metadata": {},
     "output_type": "display_data"
    },
    {
     "data": {
      "text/html": [
       "153"
      ],
      "text/latex": [
       "153"
      ],
      "text/markdown": [
       "153"
      ],
      "text/plain": [
       "[1] 153"
      ]
     },
     "metadata": {},
     "output_type": "display_data"
    },
    {
     "data": {
      "text/html": [
       "153"
      ],
      "text/latex": [
       "153"
      ],
      "text/markdown": [
       "153"
      ],
      "text/plain": [
       "[1] 153"
      ]
     },
     "metadata": {},
     "output_type": "display_data"
    },
    {
     "data": {
      "text/html": [
       "153"
      ],
      "text/latex": [
       "153"
      ],
      "text/markdown": [
       "153"
      ],
      "text/plain": [
       "[1] 153"
      ]
     },
     "metadata": {},
     "output_type": "display_data"
    },
    {
     "data": {
      "text/html": [
       "153"
      ],
      "text/latex": [
       "153"
      ],
      "text/markdown": [
       "153"
      ],
      "text/plain": [
       "[1] 153"
      ]
     },
     "metadata": {},
     "output_type": "display_data"
    },
    {
     "data": {
      "text/html": [
       "153"
      ],
      "text/latex": [
       "153"
      ],
      "text/markdown": [
       "153"
      ],
      "text/plain": [
       "[1] 153"
      ]
     },
     "metadata": {},
     "output_type": "display_data"
    },
    {
     "data": {
      "text/html": [
       "153"
      ],
      "text/latex": [
       "153"
      ],
      "text/markdown": [
       "153"
      ],
      "text/plain": [
       "[1] 153"
      ]
     },
     "metadata": {},
     "output_type": "display_data"
    },
    {
     "data": {
      "text/html": [
       "153"
      ],
      "text/latex": [
       "153"
      ],
      "text/markdown": [
       "153"
      ],
      "text/plain": [
       "[1] 153"
      ]
     },
     "metadata": {},
     "output_type": "display_data"
    },
    {
     "data": {
      "text/html": [
       "153"
      ],
      "text/latex": [
       "153"
      ],
      "text/markdown": [
       "153"
      ],
      "text/plain": [
       "[1] 153"
      ]
     },
     "metadata": {},
     "output_type": "display_data"
    },
    {
     "data": {
      "text/html": [
       "153"
      ],
      "text/latex": [
       "153"
      ],
      "text/markdown": [
       "153"
      ],
      "text/plain": [
       "[1] 153"
      ]
     },
     "metadata": {},
     "output_type": "display_data"
    },
    {
     "data": {
      "text/html": [
       "153"
      ],
      "text/latex": [
       "153"
      ],
      "text/markdown": [
       "153"
      ],
      "text/plain": [
       "[1] 153"
      ]
     },
     "metadata": {},
     "output_type": "display_data"
    },
    {
     "data": {
      "text/html": [
       "153"
      ],
      "text/latex": [
       "153"
      ],
      "text/markdown": [
       "153"
      ],
      "text/plain": [
       "[1] 153"
      ]
     },
     "metadata": {},
     "output_type": "display_data"
    },
    {
     "data": {
      "text/html": [
       "153"
      ],
      "text/latex": [
       "153"
      ],
      "text/markdown": [
       "153"
      ],
      "text/plain": [
       "[1] 153"
      ]
     },
     "metadata": {},
     "output_type": "display_data"
    },
    {
     "data": {
      "text/html": [
       "153"
      ],
      "text/latex": [
       "153"
      ],
      "text/markdown": [
       "153"
      ],
      "text/plain": [
       "[1] 153"
      ]
     },
     "metadata": {},
     "output_type": "display_data"
    },
    {
     "data": {
      "text/html": [
       "153"
      ],
      "text/latex": [
       "153"
      ],
      "text/markdown": [
       "153"
      ],
      "text/plain": [
       "[1] 153"
      ]
     },
     "metadata": {},
     "output_type": "display_data"
    },
    {
     "data": {
      "text/html": [
       "153"
      ],
      "text/latex": [
       "153"
      ],
      "text/markdown": [
       "153"
      ],
      "text/plain": [
       "[1] 153"
      ]
     },
     "metadata": {},
     "output_type": "display_data"
    },
    {
     "data": {
      "text/html": [
       "153"
      ],
      "text/latex": [
       "153"
      ],
      "text/markdown": [
       "153"
      ],
      "text/plain": [
       "[1] 153"
      ]
     },
     "metadata": {},
     "output_type": "display_data"
    },
    {
     "data": {
      "text/html": [
       "153"
      ],
      "text/latex": [
       "153"
      ],
      "text/markdown": [
       "153"
      ],
      "text/plain": [
       "[1] 153"
      ]
     },
     "metadata": {},
     "output_type": "display_data"
    },
    {
     "data": {
      "text/html": [
       "153"
      ],
      "text/latex": [
       "153"
      ],
      "text/markdown": [
       "153"
      ],
      "text/plain": [
       "[1] 153"
      ]
     },
     "metadata": {},
     "output_type": "display_data"
    },
    {
     "data": {
      "text/html": [
       "153"
      ],
      "text/latex": [
       "153"
      ],
      "text/markdown": [
       "153"
      ],
      "text/plain": [
       "[1] 153"
      ]
     },
     "metadata": {},
     "output_type": "display_data"
    },
    {
     "data": {
      "text/html": [
       "153"
      ],
      "text/latex": [
       "153"
      ],
      "text/markdown": [
       "153"
      ],
      "text/plain": [
       "[1] 153"
      ]
     },
     "metadata": {},
     "output_type": "display_data"
    }
   ],
   "source": [
    "ncol(sp1)\n",
    "ncol(sp2)\n",
    "ncol(sp3)\n",
    "ncol(sp4)\n",
    "ncol(sp5)\n",
    "ncol(sp6)\n",
    "ncol(sp7)\n",
    "ncol(sp8)\n",
    "ncol(sp9)\n",
    "ncol(sp10)\n",
    "ncol(sp11)\n",
    "ncol(sp12)\n",
    "ncol(sp13)\n",
    "ncol(sp14)\n",
    "ncol(sp15)\n",
    "ncol(sp16)\n",
    "ncol(sp17)\n",
    "ncol(sp18)\n",
    "ncol(sp19)\n",
    "ncol(sp20)\n",
    "ncol(sp21)\n",
    "ncol(sp22)\n",
    "ncol(sp23)\n",
    "ncol(sp24)\n",
    "ncol(sp25)\n",
    "ncol(sp26)\n"
   ]
  },
  {
   "cell_type": "code",
   "execution_count": 31,
   "metadata": {},
   "outputs": [
    {
     "name": "stdout",
     "output_type": "stream",
     "text": [
      "'data.frame':\t686 obs. of  153 variables:\n",
      " $ X                          : int  7211 7221 7231 7241 7251 7261 7271 7281 72910 730 ...\n",
      " $ originalid                 : Factor w/ 102 levels \"csm5A\",\"MSS0001\",..: 1 1 1 1 1 1 1 1 1 1 ...\n",
      " $ originaltraitname          : Factor w/ 5 levels \"Development Rate\",..: 1 1 1 1 1 1 1 1 1 1 ...\n",
      " $ originaltraitdef           : Factor w/ 8 levels \"\",\"Time to develop from 1st instar larvae to adult\",..: 1 1 1 1 1 1 1 1 1 1 ...\n",
      " $ standardisedtraitname      : Factor w/ 4 levels \"\",\"Development Time\",..: NA NA NA NA NA NA NA NA NA NA ...\n",
      " $ standardisedtraitdef       : Factor w/ 4 levels \"\",\"Average interval between the birth of an individual and the birth of its offspring\",..: NA NA NA NA NA NA NA NA NA NA ...\n",
      " $ originaltraitvalue         : num  0.0219 0.0228 0.0242 0.0256 0.0265 ...\n",
      " $ originaltraitunit          : Factor w/ 9 levels \"1/days\",\"days\",..: 1 1 1 1 1 1 1 1 1 1 ...\n",
      " $ originalerrorpos           : num  NA NA NA NA NA NA NA NA NA NA ...\n",
      " $ originalerrorneg           : num  NA NA NA NA NA NA NA NA NA NA ...\n",
      " $ originalerrorunit          : Factor w/ 3 levels \"\",\"days\",\"Days\": 1 1 1 1 1 1 1 1 1 1 ...\n",
      " $ standardisedtraitvalue     : num  NA NA NA NA NA NA NA NA NA NA ...\n",
      " $ standardisedtraitunit      : Factor w/ 3 levels \"\",\"second / individual\",..: NA NA NA NA NA NA NA NA NA NA ...\n",
      " $ standardisederrorpos       : num  NA NA NA NA NA NA NA NA NA NA ...\n",
      " $ standardisederrorneg       : num  NA NA NA NA NA NA NA NA NA NA ...\n",
      " $ standardisederrorunit      : Factor w/ 3 levels \"\",\"SE\",\"SD\": NA NA NA NA NA NA NA NA NA NA ...\n",
      " $ replicates                 : int  NA NA NA NA NA NA NA NA NA NA ...\n",
      " $ habitat                    : Factor w/ 3 levels \"\",\"terrestrial\",..: NA NA NA NA NA NA NA NA NA NA ...\n",
      " $ labfield                   : Factor w/ 3 levels \"Lab\",\"Field\",..: NA NA NA NA NA NA NA NA NA NA ...\n",
      " $ arenavalue                 : num  NA NA NA NA NA NA NA NA NA NA ...\n",
      " $ arenaunit                  : Factor w/ 3 levels \"\",\"square metre\",..: NA NA NA NA NA NA NA NA NA NA ...\n",
      " $ arenavaluesi               : num  NA NA NA NA NA NA NA NA NA NA ...\n",
      " $ arenaunitsi                : Factor w/ 3 levels \"\",\"square metre\",..: NA NA NA NA NA NA NA NA NA NA ...\n",
      " $ ambienttemp                : num  15 15 15 15 15 15 15 15 15 15 ...\n",
      " $ ambienttempmethod          : Factor w/ 2 levels \"\",\"direct\": NA NA NA NA NA NA NA NA NA NA ...\n",
      " $ ambienttempunit            : Factor w/ 3 levels \"celcius\",\"\",\"celsius\": 1 1 1 1 1 1 1 1 1 1 ...\n",
      " $ ambientlight               : logi  NA NA NA NA NA NA ...\n",
      " $ ambientlightunit           : logi  NA NA NA NA NA NA ...\n",
      " $ secondstressor             : Factor w/ 4 levels \"\",\"Salinity\",..: NA NA NA NA NA NA NA NA NA NA ...\n",
      " $ secondstressordef          : Factor w/ 3 levels \"\",\"Sea water (36 ppK), 50% diluted sea water (18 ppK), or distilled water (0 ppK)\",..: NA NA NA NA NA NA NA NA NA NA ...\n",
      " $ secondstressorvalue        : num  NA NA NA NA NA NA NA NA NA NA ...\n",
      " $ secondstressorunit         : Factor w/ 6 levels \"\",\"ppK\",\"Rain\",..: 1 1 1 1 1 1 1 1 1 1 ...\n",
      " $ timestart                  : int  NA NA NA NA NA NA NA NA NA NA ...\n",
      " $ timeend                    : logi  NA NA NA NA NA NA ...\n",
      " $ totalobstimevalue          : num  NA NA NA NA NA NA NA NA NA NA ...\n",
      " $ totalobstimeunit           : Factor w/ 3 levels \"\",\"day\",\"not stated\": 1 1 1 1 1 1 1 1 1 1 ...\n",
      " $ totalobstimevaluesi        : num  NA NA NA NA NA NA NA NA NA NA ...\n",
      " $ totalobstimeunitsi         : Factor w/ 2 levels \"\",\"second\": NA NA NA NA NA NA NA NA NA NA ...\n",
      " $ totalobstimenotes          : logi  NA NA NA NA NA NA ...\n",
      " $ resrepvalue                : int  NA NA NA NA NA NA NA NA NA NA ...\n",
      " $ resrepunit                 : Factor w/ 5 levels \"\",\"day\",\"as required\",..: NA NA NA NA NA NA NA NA NA NA ...\n",
      " $ resrepvaluesi              : num  NA NA NA NA NA NA NA NA NA NA ...\n",
      " $ resrepunitsi               : Factor w/ 3 levels \"\",\"second\",\"to satiation\": NA NA NA NA NA NA NA NA NA NA ...\n",
      " $ location                   : Factor w/ 27 levels \"Saint Pierre, La R\\x8eunion Island, France \",..: 1 1 1 1 1 1 1 1 1 1 ...\n",
      " $ locationtype               : logi  NA NA NA NA NA NA ...\n",
      " $ originallocationdate       : logi  NA NA NA NA NA NA ...\n",
      " $ locationdate               : Factor w/ 7 levels \"\",\"2009-02-01\",..: NA NA NA NA NA NA NA NA NA NA ...\n",
      " $ locationdateprecision      : int  0 0 0 0 0 0 0 0 0 0 ...\n",
      " $ coordinatetype             : logi  NA NA NA NA NA NA ...\n",
      " $ latitude                   : num  NA NA NA NA NA NA NA NA NA NA ...\n",
      " $ longitude                  : num  NA NA NA NA NA NA NA NA NA NA ...\n",
      " $ interactor1                : Factor w/ 26 levels \"Aedes albopictus\",..: 1 1 1 1 1 1 1 1 1 1 ...\n",
      " $ interactor1common          : Factor w/ 15 levels \"\",\"cotton aphid\",..: 1 1 1 1 1 1 1 1 1 1 ...\n",
      " $ interactor1wholepart       : Factor w/ 2 levels \"\",\"Insecta\": 1 1 1 1 1 1 1 1 1 1 ...\n",
      " $ interactor1wholeparttype   : Factor w/ 2 levels \"\",\"Coleoptera\": 1 1 1 1 1 1 1 1 1 1 ...\n",
      " $ interactor1number          : Factor w/ 13 levels \"\",\"30.0\",\"25.0\",..: 1 1 1 1 1 1 1 1 1 1 ...\n",
      " $ interactor1kingdom         : Factor w/ 4 levels \"\",\"Animalia\",..: 1 1 1 1 1 1 1 1 1 1 ...\n",
      " $ interactor1phylum          : Factor w/ 3 levels \"Arthropoda\",\"\\tArthropoda\",..: 1 1 1 1 1 1 1 1 1 1 ...\n",
      " $ interactor1class           : Factor w/ 14 levels \"Insecta\",\"\",\"Egg\",..: 1 1 1 1 1 1 1 1 1 1 ...\n",
      " $ interactor1order           : Factor w/ 9 levels \"Diptera\",\"Hemiptera\",..: 1 1 1 1 1 1 1 1 1 1 ...\n",
      " $ interactor1family          : Factor w/ 19 levels \"Culcidae\",\"Culicidae\",..: 1 1 1 1 1 1 1 1 1 1 ...\n",
      " $ interactor1genus           : Factor w/ 20 levels \"Aedes\",\"Culex\",..: 1 1 1 1 1 1 1 1 1 1 ...\n",
      " $ interactor1species         : Factor w/ 24 levels \"albopictus\",\"camptorhynchus\",..: 1 1 1 1 1 1 1 1 1 1 ...\n",
      " $ interactor1stage           : Factor w/ 31 levels \"\",\"larvae + pupae\",..: 1 1 1 1 1 1 1 1 1 1 ...\n",
      " $ interactor1temp            : num  NA NA NA NA NA NA NA NA NA NA ...\n",
      " $ interactor1tempunit        : Factor w/ 2 levels \"\",\"celsius\": NA NA NA NA NA NA NA NA NA NA ...\n",
      " $ interactor1tempmethod      : Factor w/ 2 levels \"\",\"inferred (ambient)\": NA NA NA NA NA NA NA NA NA NA ...\n",
      " $ interactor1growthtemp      : logi  NA NA NA NA NA NA ...\n",
      " $ interactor1growthtempunit  : logi  NA NA NA NA NA NA ...\n",
      " $ interactor1growthdur       : logi  NA NA NA NA NA NA ...\n",
      " $ interactor1growthdurunit   : logi  NA NA NA NA NA NA ...\n",
      " $ interactor1growthtype      : logi  NA NA NA NA NA NA ...\n",
      " $ interactor1acc             : Factor w/ 4 levels \"\",\"captive bred (at acclimation temperature)\",..: NA NA NA NA NA NA NA NA NA NA ...\n",
      " $ interactor1acctemp         : num  NA NA NA NA NA NA NA NA NA NA ...\n",
      " $ interactor1acctempnotes    : Factor w/ 2 levels \"\",\"25-30C\": NA NA NA NA NA NA NA NA NA NA ...\n",
      " $ interactor1acctime         : int  NA NA NA NA NA NA NA NA NA NA ...\n",
      " $ interactor1acctimenotes    : Factor w/ 7 levels \"\",\"entire life\",..: NA NA NA NA NA NA NA NA NA NA ...\n",
      " $ interactor1acctimeunit     : Factor w/ 2 levels \"\",\"second\": NA NA NA NA NA NA NA NA NA NA ...\n",
      " $ interactor1origtemp        : logi  NA NA NA NA NA NA ...\n",
      " $ interactor1origtempnotes   : logi  NA NA NA NA NA NA ...\n",
      " $ interactor1origtime        : logi  NA NA NA NA NA NA ...\n",
      " $ interactor1origtimenotes   : logi  NA NA NA NA NA NA ...\n",
      " $ interactor1origtimeunit    : logi  NA NA NA NA NA NA ...\n",
      " $ interactor1equilibtimevalue: logi  NA NA NA NA NA NA ...\n",
      " $ interactor1equilibtimeunit : logi  NA NA NA NA NA NA ...\n",
      " $ interactor1size            : num  NA NA NA NA NA NA NA NA NA NA ...\n",
      " $ interactor1sizeunit        : Factor w/ 2 levels \"\",\"kilogram\": NA NA NA NA NA NA NA NA NA NA ...\n",
      " $ interactor1sizetype        : Factor w/ 2 levels \"\",\"wet body mass (mean)\": NA NA NA NA NA NA NA NA NA NA ...\n",
      " $ interactor1sizesi          : num  NA NA NA NA NA NA NA NA NA NA ...\n",
      " $ interactor1sizeunitsi      : Factor w/ 2 levels \"\",\"kilogram\": NA NA NA NA NA NA NA NA NA NA ...\n",
      " $ interactor1denvalue        : num  NA NA NA NA NA NA NA NA NA NA ...\n",
      " $ interactor1denunit         : Factor w/ 4 levels \"\",\"not stated\",..: NA NA NA NA NA NA NA NA NA NA ...\n",
      " $ interactor1dentypesi       : Factor w/ 2 levels \"\",\"individual\": NA NA NA NA NA NA NA NA NA NA ...\n",
      " $ interactor1denvaluesi      : num  NA NA NA NA NA NA NA NA NA NA ...\n",
      " $ interactor1denunitsi       : Factor w/ 3 levels \"\",\"arena\",\"cubic meter\": NA NA NA NA NA NA NA NA NA NA ...\n",
      " $ interactor1massvaluesi     : num  NA NA NA NA NA NA NA NA NA NA ...\n",
      " $ interactor1massunitsi      : Factor w/ 2 levels \"\",\"kilogram (wet body mass)\": NA NA NA NA NA NA NA NA NA NA ...\n",
      " $ interactor2                : Factor w/ 14 levels \"\",\"Cucumis sativus\",..: NA NA NA NA NA NA NA NA NA NA ...\n",
      " $ interactor2common          : Factor w/ 14 levels \"\",\"cucumber\",..: NA NA NA NA NA NA NA NA NA NA ...\n",
      "  [list output truncated]\n"
     ]
    }
   ],
   "source": [
    "stddev <- rbind(sp1,sp2,sp3,sp4,sp5,sp6,sp7,sp8,sp9,sp10,sp11,sp12,sp13,sp14,sp15,sp16,sp17,sp18,sp19,sp20,sp21,sp22,sp23,sp24,sp25,sp26)\n",
    "\n",
    "str(stddev)"
   ]
  },
  {
   "cell_type": "code",
   "execution_count": 32,
   "metadata": {},
   "outputs": [
    {
     "name": "stderr",
     "output_type": "stream",
     "text": [
      "Saving 7 x 7 in image\n",
      "\n",
      "Warning message:\n",
      "“Removed 12 rows containing missing values (geom_point).”\n",
      "Saving 7 x 7 in image\n",
      "\n",
      "Warning message:\n",
      "“Removed 12 rows containing missing values (geom_point).”\n",
      "Saving 7 x 7 in image\n",
      "\n",
      "Warning message:\n",
      "“Removed 12 rows containing missing values (geom_point).”\n",
      "Saving 7 x 7 in image\n",
      "\n",
      "Warning message:\n",
      "“Removed 12 rows containing missing values (geom_point).”\n",
      "Saving 7 x 7 in image\n",
      "\n",
      "Warning message:\n",
      "“Removed 12 rows containing missing values (geom_point).”\n",
      "Saving 7 x 7 in image\n",
      "\n",
      "Warning message:\n",
      "“Removed 12 rows containing missing values (geom_point).”\n",
      "Saving 7 x 7 in image\n",
      "\n",
      "Warning message:\n",
      "“Removed 12 rows containing missing values (geom_point).”\n",
      "Saving 7 x 7 in image\n",
      "\n",
      "Warning message:\n",
      "“Removed 12 rows containing missing values (geom_point).”\n"
     ]
    }
   ],
   "source": [
    "devTPC <- ggplot(stddev, aes(x=ambienttemp, y=stdvalue)) + geom_point() + theme_bw() + labs(title=expression(paste(\"Development Time \", (alpha))), x=expression(paste('Temperature (',~degree,'C)',sep='')), y=\"Development Time (Days)\") + theme(plot.title = element_text(hjust = 0.5)) + xlim(0,40) + ylim(0,120) \n",
    "\n",
    "plot1 <- devTPC + facet_wrap_paginate(~stdname, ncol=3, nrow=3, page=1, labeller = label_wrap_gen(30)) +  theme(strip.text.x = element_text(size = 10))\n",
    "plot2 <- devTPC + facet_wrap_paginate(~stdname, ncol=3, nrow=3, page=2, labeller = label_wrap_gen(30)) +  theme(strip.text.x = element_text(size = 10))\n",
    "plot3 <- devTPC + facet_wrap_paginate(~stdname, ncol=3, nrow=3, page=3, labeller = label_wrap_gen(30)) +  theme(strip.text.x = element_text(size = 10))\n",
    "plot4 <- devTPC + facet_wrap_paginate(~stdname, ncol=3, nrow=3, page=4, labeller = label_wrap_gen(30)) +  theme(strip.text.x = element_text(size = 10))\n",
    "plot5 <- devTPC + facet_wrap_paginate(~stdname, ncol=3, nrow=3, page=5, labeller = label_wrap_gen(30)) +  theme(strip.text.x = element_text(size = 10))\n",
    "plot6 <- devTPC + facet_wrap_paginate(~stdname, ncol=3, nrow=3, page=6, labeller = label_wrap_gen(30)) +  theme(strip.text.x = element_text(size = 10))\n",
    "plot7 <- devTPC + facet_wrap_paginate(~stdname, ncol=3, nrow=3, page=7, labeller = label_wrap_gen(30)) +  theme(strip.text.x = element_text(size = 10))\n",
    "plot8 <- devTPC + facet_wrap_paginate(~stdname, ncol=3, nrow=3, page=8, labeller = label_wrap_gen(30)) +  theme(strip.text.x = element_text(size = 10))\n",
    "\n",
    "ggsave(\"devTPC1.pdf\", plot=plot1)\n",
    "ggsave(\"devTPC2.pdf\", plot=plot2)\n",
    "ggsave(\"devTPC3.pdf\", plot=plot3)\n",
    "ggsave(\"devTPC4.pdf\", plot=plot4)\n",
    "ggsave(\"devTPC5.pdf\", plot=plot5)\n",
    "ggsave(\"devTPC6.pdf\", plot=plot6)\n",
    "ggsave(\"devTPC7.pdf\", plot=plot7)\n",
    "ggsave(\"devTPC8.pdf\", plot=plot8)\n"
   ]
  },
  {
   "cell_type": "code",
   "execution_count": 33,
   "metadata": {
    "scrolled": true
   },
   "outputs": [
    {
     "data": {
      "text/html": [
       "'TPC-Development Time.pdf'"
      ],
      "text/latex": [
       "'TPC-Development Time.pdf'"
      ],
      "text/markdown": [
       "'TPC-Development Time.pdf'"
      ],
      "text/plain": [
       "[1] \"TPC-Development Time.pdf\""
      ]
     },
     "metadata": {},
     "output_type": "display_data"
    }
   ],
   "source": [
    "pdf_combine(c(\"devTPC1.pdf\", \"devTPC2.pdf\",\"devTPC3.pdf\",\"devTPC4.pdf\",\"devTPC5.pdf\",\"devTPC6.pdf\",\"devTPC7.pdf\",\"devTPC8.pdf\"), output = \"TPC-Development Time.pdf\")"
   ]
  }
 ],
 "metadata": {
  "kernelspec": {
   "display_name": "R",
   "language": "R",
   "name": "ir"
  },
  "language_info": {
   "codemirror_mode": "r",
   "file_extension": ".r",
   "mimetype": "text/x-r-source",
   "name": "R",
   "pygments_lexer": "r",
   "version": "3.6.1"
  }
 },
 "nbformat": 4,
 "nbformat_minor": 2
}
