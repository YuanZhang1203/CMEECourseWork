{
 "cells": [
  {
   "cell_type": "markdown",
   "metadata": {},
   "source": [
    "# Summary Tables "
   ]
  },
  {
   "cell_type": "markdown",
   "metadata": {},
   "source": [
    "Summary tables below are summarized from \"summary.csv\", generated in \"Alex_Data Summary code.ipynb\"\n",
    "\n",
    "**Bold** = has data for a range of temperatures"
   ]
  },
  {
   "cell_type": "markdown",
   "metadata": {},
   "source": [
    "# Diptera"
   ]
  },
  {
   "attachments": {},
   "cell_type": "markdown",
   "metadata": {},
   "source": [
    "| **Order** |**Species**|**Development Time**|**Peak Fecundity Rate**|**Adult Mortality Rate**|**Juvenile Mortality Rate**|**Fecundity Loss Rate**| **Remarks**|\n",
    "|:--------:|:--------:|:--------:|:--------:|:--------:|:--------:|:--------:|:----------:|\n",
    "| | |$a$|$b_{pk}$|$z$|$z_J$|$\\kappa$||\n",
    "|Diptera|*Aedes aegypti*|-|**Oviposition Rate (Eggs $\\times$ day$^{-1}$ $\\times$ female$^{-1}$)** |**1.Survival Time (days)** <br> **2.Mortality Rate (day$^{-1}$)**|-|-|-|\n",
    "|Diptera|*Aedes albopictus* | **Development Rate (days$^{-1}$)**|**Oviposition Rate (Eggs $\\times$ cycle$^{-1}$ $\\times$ female$^{-1}$)**|-|**Percentage Survival(%)**|-|-|\n",
    "|Diptera|*Aedes camptorhynchus*|**Development time (days)**|Fecundity (Eggs $\\times$ 7days$^{-1}$)|-|**Juvenile survival (proportion)**|-|-|\n",
    "|Diptera|*Aedes notoscriptus*|**Development time (Days)**|-|-|**Juvenile survival (Days)**|-|Secondary Stressor: water type (Tap/Rain)|\n",
    "|Diptera|*Culex annulirostris*|**Development time(Days)**, <br> **Egg Development Time (Days)**|**Fecundity Rate over 66 days (offspring $\\times$ individual $^{-1}$ $\\times$ day $^{-1}$)**|**1.Adult longevity (Days)** <br> **2.Adult survival (Proportion)**|**Juvenile survival (proportion)**|**Fecundity Rate over 66 days (offspring $\\times$ individual $^{-1}$ $\\times$ day $^{-1}$)**| Adult survival/ longevity seperated into different categories, male/female|\n",
    "|Diptera|*Bactrocera correcta*| **Development Time (Days,Hours $\\times$ individual $^{-1}$)**|-|-|-|-|egg, pupae|\n",
    "\n",
    "\n"
   ]
  },
  {
   "cell_type": "markdown",
   "metadata": {},
   "source": [
    "# Hemiptera"
   ]
  },
  {
   "cell_type": "markdown",
   "metadata": {},
   "source": [
    "| **Order** |**Species**|**Development Time**|**Peak Fecundity Rate**|**Adult Mortality Rate**|**Juvenile Mortality Rate**|**Fecundity Loss Rate**| **Remarks**\n",
    "|:--------:|:--------:|:--------:|:--------:|:--------:|:--------:|:--------:|:----------:|\n",
    "| | |$a$|$b_{pk}$|$z$|$z_J$|$\\kappa$||\n",
    "|Hemiptera|*Aphis gossypii*|**1.Development Rate (day$^{-1}$), <br> 2.Development Time (Days $\\times$ individual$^{-1}$)**, <br> **3.Generation Time (Days $\\times$ individual$^{-1}$**|**Fecundity Rate, over 40 days (nymphs $\\times$ female$^{-1}$ $\\times$ day$^{-1}$)** | **1.Longevity (days $\\times$ individual$^{-1}$)**, <br> **2.Survival Rate (Individuals$\\times$ day$^{-1}$)**|**Mortality Rate (Deaths $\\times$ individual$^{-1}$ $\\times$ 24 hours$^{-1}$, %)**|**Fecundity Rate, over 40 days (nymphs $\\times$ female$^{-1}$ $\\times$ day$^{-1}$)** | Mortality Rate % wrong unit|\n",
    "|Hemiptera|*Corythucha ciliata*| **1.Development Time (Days),** <br> **2.Development Rate (100individuals $\\times$ day$^{-1}$**|**Fecundity (Eggs $\\times$ female $^{-1}$)**|**1.Longevity (Days), <br> 2.Percentage Survival (%)**|**Longevity (Days)**|-|Fecundity need to find experimental period, missing per day|\n",
    "|Hemiptera|*Planococcus citri*|**Generation Time (Day $\\times$ individual$^{-1}$)**|-|**Longevity (Day $\\times$ individual$^{-1}$)**|-|-|-|\n",
    "|Hemiptera|*Tetraneura nigri abdominalis*|**1.Generation Time (Days$\\times$ individual$^{-1}$)** <br> **2.Development Time (Days $\\times$ individual$^{-1}$)**| **Fecundity Rate (offspring $\\times$ individual $^{-1}$ $\\times$ day $^{-1}$)**|**Longevity (days $\\times$ individual$^{-1}$)**|-|-|-|\n",
    "\n",
    "\n",
    "\n"
   ]
  },
  {
   "cell_type": "markdown",
   "metadata": {},
   "source": [
    "# Hymenoptera"
   ]
  },
  {
   "cell_type": "markdown",
   "metadata": {},
   "source": [
    "| **Order** |**Species**|**Development Time**|**Peak Fecundity Rate**|**Adult Mortality Rate**|**Juvenile Mortality Rate**|**Fecundity Loss Rate**|**Remarks**\n",
    "|:--------:|:--------:|:--------:|:--------:|:--------:|:--------:|:--------:|:--------:|\n",
    "| | |$a$|$b_{pk}$|$z$|$z_J$|$\\kappa$||\n",
    "|Hymenoptera|*Euplectrus ronnai*|**Development Time (days $\\times$ individual$^{-1}$)**|-|-|**Mortality Rate (Deaths $\\times$ individual$^{-1}$ $\\times$ 24 hours$^{-1}$)** |-|Development time larvae/pupae\n",
    "|Hymenoptera|*Glyptapanteles muesebecki*|**Development Time (days $\\times$ individual$^{-1}$)**|-|-|-|-|Development time larvae/pupae|\n",
    "|Hymenoptera|*Macrocentrus iridescens*|**Development Rate (Individual completing development $\\times$ individual$^{-1}$ $\\times$ 24 hours$^{-1}$)**|-|-|-|-|-|\n",
    "|Hymenoptera|*Telenomus chrysopae*|**Development Time (days $\\times$ individual$^{-1}$)**|-|-|**Mortality Rate (Deaths $\\times$ individual$^{-1}$ $\\times$ 24 hours$^{-1}$)**|-|Both larvae|\n",
    "|Hymenoptera|*Telenomus isis*|**Development Rate (Individual completing development $\\times$ individual$^{-1}$ $\\times$ 24 hours$^{-1}$)**|-|**Longevity (day $\\times$ individual $^{-1}$)**|**Mortality Rate (Deaths $\\times$ individual$^{-1}$ $\\times$ 24 hours$^{-1}$)**|-|-|\n",
    "|Hymenoptera|*Telenomus lobatus*|**Development Time (days $\\times$ individual$^{-1}$)**|-|-|**Mortality Rate (Deaths $\\times$ individual$^{-1}$ $\\times$ 24 hours$^{-1}$)**|-|Both larvae\n",
    "|Hymenoptera|*Theocolax elegans*|**Development Time (days $\\times$ individual$^{-1}$)**|-|**Longevity (days $\\times$ individual$^{-1}$)**|-|-|-|\n",
    "|Hymenoptera|*Trichogramma bruni*|**Development Time (days $\\times$ individual$^{-1}$)**|-|-|-|-|-|\n",
    "|Hymenoptera|*Trichogramma sp. nr. Lutea*|**Development Time (days $\\times$ individual$^{-1}$)**|-|-|-|-|-|\n",
    "|Hymenoptera|*Trichogramma sp. nr. Mwanzai*|**Development Time (days $\\times$ individual$^{-1}$)**|-|-|-|-|-|"
   ]
  },
  {
   "cell_type": "markdown",
   "metadata": {},
   "source": [
    "# Other Orders"
   ]
  },
  {
   "cell_type": "markdown",
   "metadata": {},
   "source": [
    "| **Order** |**Species**|**Development Time**|**Peak Fecundity Rate**|**Adult Mortality Rate**|**Juvenile Mortality Rate**|**Fecundity Loss Rate**|**Remarks**|\n",
    "|:--------:|:--------:|:--------:|:--------:|:--------:|:--------:|:--------:|:--------:|\n",
    "| | |$a$|$b_{pk}$|$z$|$z_J$|$\\kappa$| |\n",
    "|Cladocera|*Moina macrocopa*|-|-|**Longevity (days $\\times$ individual$^{-1}$)**|-|-|-|\n",
    "|Coleoptera|*Anthonomus grandis*|**1.Development Time (Days)** <br> **2.Development Rate (%)**|**Fecundity (Eggs $\\times$ Female $^{-1}$ $\\times$ Day $^{-1}$)** |**Longevity (Days)**|**Mortality Rate (%)**|**Fecundity (Eggs $\\times$ Female $^{-1}$ $\\times$ Day $^{-1}$)**|Has all data needed, but need to double check data, many potential errors|\n",
    "|Coleoptera|*Sitona discoideus*|**Development Time (days $\\times$ individual$^{-1}$)**|-|-|-|-|Development time is egg development time|\n",
    "|Coleoptera|*Stethorus punctillum*|**Development Rate (day$^{-1}$)**|-|**% Survival (%)**|-|-|Development Rate is different instars|\n",
    "|Decapoda|*Cherax quadricarinatus*|-|-|-|**Mortality Rate (Deaths $\\times$ individual$^{-1}$ $\\times$ 24 hour$^{-1}$)**|-|-|\n",
    "|Decapoda|*Procambarus clarkii*|**Development Time(days $\\times$ individual$^{-1}$)**|-|**Mortality Rate (Deaths $\\times$ individual$^{-1}$ $\\times$ 24 hour$^{-1}$)** |**Mortality Rate (Deaths $\\times$ individual$^{-1}$ $\\times$ 24 hour$^{-1}$)** |-|-|\n",
    "| Lepidoptera|*Cydia pomonella*| **Development Time (days$\\times$ individuals$^{-1}$)**|-|-|-|-|Development time is egg/larvae/pupae|\n",
    "|Prostigmata|*Tetranychus mcdanieli*|**Development Rate (day$^{-1}$)**|-|-|**% Survival (%)**|-|Development rate is protonymph and deutonymph|\n",
    "|Psocoptera|*Lepinotus reticulatus*| **Development Time (days)**|-|-|**Survivorship (individuals $\\times$ day $^{-1}$)**|-|Development time is different instars"
   ]
  }
 ],
 "metadata": {
  "kernelspec": {
   "display_name": "R",
   "language": "R",
   "name": "ir"
  },
  "language_info": {
   "codemirror_mode": "r",
   "file_extension": ".r",
   "mimetype": "text/x-r-source",
   "name": "R",
   "pygments_lexer": "r",
   "version": "3.6.1"
  }
 },
 "nbformat": 4,
 "nbformat_minor": 2
}
