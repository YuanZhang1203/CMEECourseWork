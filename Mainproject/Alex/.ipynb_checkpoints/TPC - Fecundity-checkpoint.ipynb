{
 "cells": [
  {
   "cell_type": "code",
   "execution_count": 34,
   "metadata": {},
   "outputs": [],
   "source": [
    "library(\"dplyr\")\n",
    "library(\"ggplot2\")\n",
    "library(\"gridExtra\")\n",
    "library(\"pdftools\")\n",
    "data <- read.csv(\"TraitofInterest.csv\")"
   ]
  },
  {
   "cell_type": "code",
   "execution_count": 3,
   "metadata": {},
   "outputs": [],
   "source": [
    "data <- data %>% mutate(Variable = case_when(originaltraitname %in% c(\"Development Rate\", \"Development Time\", \"Development time\",\"Generation Time\",\"Egg development time\") ~ 'alp',\n",
    "                                             originaltraitname %in% c(\"Fecundity\",\"Fecundity Rate\", \"Oviposition Rate\") ~ 'bpk',\n",
    "                                             originaltraitname %in% c(\"Adult longevity (female, bloodfed)\", \"Adult longevity (male)\",\"Adult survival\",\"Adult survival (female, bloodfed)\", \"Adult survival (male)\") ~ 'z',\n",
    "                                            originaltraitname %in% c(\"Juvenile survival\",\"Juvenile survival \") ~ 'z_J',\n",
    "                                             originaltraitname %in% c(\"Longevity\",\"Mortality Rate\",\"Percentage Survival\",\"Survival Rate\",\"Survivorship\", \"Survival Time\") ~ 'Mortality'))\n"
   ]
  },
  {
   "cell_type": "code",
   "execution_count": 4,
   "metadata": {},
   "outputs": [
    {
     "data": {
      "text/html": [
       "<ol class=list-inline>\n",
       "\t<li>'eggs'</li>\n",
       "\t<li>'eggs per female'</li>\n",
       "\t<li>'eggs per female per cycle'</li>\n",
       "\t<li>'eggs per female per day'</li>\n",
       "\t<li>'Eggs/female/day'</li>\n",
       "\t<li>'event / (1 individual * 24 hour)'</li>\n",
       "\t<li>'nymphs/female/day'</li>\n",
       "\t<li>'per day per female'</li>\n",
       "</ol>\n"
      ],
      "text/latex": [
       "\\begin{enumerate*}\n",
       "\\item 'eggs'\n",
       "\\item 'eggs per female'\n",
       "\\item 'eggs per female per cycle'\n",
       "\\item 'eggs per female per day'\n",
       "\\item 'Eggs/female/day'\n",
       "\\item 'event / (1 individual * 24 hour)'\n",
       "\\item 'nymphs/female/day'\n",
       "\\item 'per day per female'\n",
       "\\end{enumerate*}\n"
      ],
      "text/markdown": [
       "1. 'eggs'\n",
       "2. 'eggs per female'\n",
       "3. 'eggs per female per cycle'\n",
       "4. 'eggs per female per day'\n",
       "5. 'Eggs/female/day'\n",
       "6. 'event / (1 individual * 24 hour)'\n",
       "7. 'nymphs/female/day'\n",
       "8. 'per day per female'\n",
       "\n",
       "\n"
      ],
      "text/plain": [
       "[1] \"eggs\"                             \"eggs per female\"                 \n",
       "[3] \"eggs per female per cycle\"        \"eggs per female per day\"         \n",
       "[5] \"Eggs/female/day\"                  \"event / (1 individual * 24 hour)\"\n",
       "[7] \"nymphs/female/day\"                \"per day per female\"              "
      ]
     },
     "metadata": {},
     "output_type": "display_data"
    },
    {
     "data": {
      "text/html": [
       "<ol class=list-inline>\n",
       "\t<li>'Aedes aegypti'</li>\n",
       "\t<li>'Aedes albopictus'</li>\n",
       "\t<li>'Aedes camptorhynchus'</li>\n",
       "\t<li>'Anthonomus grandis'</li>\n",
       "\t<li>'Aphis gossypii'</li>\n",
       "\t<li>'Corythucha ciliata'</li>\n",
       "\t<li>'Culex annulirostris'</li>\n",
       "\t<li>'Tetraneura nigri abdominalis'</li>\n",
       "</ol>\n"
      ],
      "text/latex": [
       "\\begin{enumerate*}\n",
       "\\item 'Aedes aegypti'\n",
       "\\item 'Aedes albopictus'\n",
       "\\item 'Aedes camptorhynchus'\n",
       "\\item 'Anthonomus grandis'\n",
       "\\item 'Aphis gossypii'\n",
       "\\item 'Corythucha ciliata'\n",
       "\\item 'Culex annulirostris'\n",
       "\\item 'Tetraneura nigri abdominalis'\n",
       "\\end{enumerate*}\n"
      ],
      "text/markdown": [
       "1. 'Aedes aegypti'\n",
       "2. 'Aedes albopictus'\n",
       "3. 'Aedes camptorhynchus'\n",
       "4. 'Anthonomus grandis'\n",
       "5. 'Aphis gossypii'\n",
       "6. 'Corythucha ciliata'\n",
       "7. 'Culex annulirostris'\n",
       "8. 'Tetraneura nigri abdominalis'\n",
       "\n",
       "\n"
      ],
      "text/plain": [
       "[1] \"Aedes aegypti\"                \"Aedes albopictus\"            \n",
       "[3] \"Aedes camptorhynchus\"         \"Anthonomus grandis\"          \n",
       "[5] \"Aphis gossypii\"               \"Corythucha ciliata\"          \n",
       "[7] \"Culex annulirostris\"          \"Tetraneura nigri abdominalis\""
      ]
     },
     "metadata": {},
     "output_type": "display_data"
    }
   ],
   "source": [
    "fecund <- subset(data,data$Variable==\"bpk\")\n",
    "fecund <- gdata::drop.levels(fecund)\n",
    "\n",
    "levels(fecund$originaltraitunit)\n",
    "levels(fecund$interactor1)"
   ]
  },
  {
   "cell_type": "code",
   "execution_count": 5,
   "metadata": {},
   "outputs": [
    {
     "data": {
      "text/html": [
       "'per day per female'"
      ],
      "text/latex": [
       "'per day per female'"
      ],
      "text/markdown": [
       "'per day per female'"
      ],
      "text/plain": [
       "[1] \"per day per female\""
      ]
     },
     "metadata": {},
     "output_type": "display_data"
    },
    {
     "data": {
      "text/html": [
       "152"
      ],
      "text/latex": [
       "152"
      ],
      "text/markdown": [
       "152"
      ],
      "text/plain": [
       "[1] 152"
      ]
     },
     "metadata": {},
     "output_type": "display_data"
    }
   ],
   "source": [
    "##Aedes aegypti\n",
    "aegypti <- subset(fecund, fecund$interactor1 ==\"Aedes aegypti\")\n",
    "aegypti <- gdata::drop.levels(aegypti)\n",
    "\n",
    "levels(aegypti$originaltraitunit)\n",
    "\n",
    "aegypti$stdvalue <- aegypti$originaltraitvalue\n",
    "aegypti$stdunit <- \"Eggs per female per day\"\n",
    "ncol(aegypti)"
   ]
  },
  {
   "cell_type": "code",
   "execution_count": 6,
   "metadata": {},
   "outputs": [
    {
     "data": {
      "text/html": [
       "'eggs per female per cycle'"
      ],
      "text/latex": [
       "'eggs per female per cycle'"
      ],
      "text/markdown": [
       "'eggs per female per cycle'"
      ],
      "text/plain": [
       "[1] \"eggs per female per cycle\""
      ]
     },
     "metadata": {},
     "output_type": "display_data"
    }
   ],
   "source": [
    "##Aedes albopictus\n",
    "albop <- subset(fecund, fecund$interactor1 ==\"Aedes albopictus\")\n",
    "albop <- gdata::drop.levels(albop)\n",
    "\n",
    "levels(albop$originaltraitunit)\n",
    "\n",
    "#write.csv(albop,file=\"albop.csv\")\n",
    "#data inputted was incorrect, edited it manually\n",
    "#From the original study, oviposition is measured by the number of eggs per gonotrophic cycle, I changed the original trait value into average number of eggs per female (paper lists eggs + number of individuals) and put the mean time per cycle as a secondary stressor\n",
    "\n",
    "albop2 <-read.csv(\"albop.csv\")\n",
    "albop2$stdvalue <- albop2$originaltraitvalue/albop2$secondstressorvalue\n",
    "albop2$stdunit <- \"Eggs per female per day\"\n"
   ]
  },
  {
   "cell_type": "code",
   "execution_count": 7,
   "metadata": {},
   "outputs": [
    {
     "data": {
      "text/html": [
       "'eggs per female'"
      ],
      "text/latex": [
       "'eggs per female'"
      ],
      "text/markdown": [
       "'eggs per female'"
      ],
      "text/plain": [
       "[1] \"eggs per female\""
      ]
     },
     "metadata": {},
     "output_type": "display_data"
    }
   ],
   "source": [
    "##Corythucha ciliata\n",
    "Cory <- subset(fecund, fecund$interactor1 ==\"Corythucha ciliata\")\n",
    "Cory <- gdata::drop.levels(Cory)\n",
    "\n",
    "levels(Cory$originaltraitunit)\n",
    "\n",
    "#write.csv(Cory,file=\"Cory.csv\")\n",
    "#Updated dataset manually to include length of ovoposition period as secondary stressor\n",
    "\n",
    "Cory2 <- read.csv(\"Cory.csv\")\n",
    "Cory2$stdvalue <- Cory2$originaltraitvalue/Cory2$secondstressorvalue\n",
    "Cory2$stdunit <- \"Eggs per female per day\"\n"
   ]
  },
  {
   "cell_type": "code",
   "execution_count": 8,
   "metadata": {},
   "outputs": [
    {
     "data": {
      "text/html": [
       "'event / (1 individual * 24 hour)'"
      ],
      "text/latex": [
       "'event / (1 individual * 24 hour)'"
      ],
      "text/markdown": [
       "'event / (1 individual * 24 hour)'"
      ],
      "text/plain": [
       "[1] \"event / (1 individual * 24 hour)\""
      ]
     },
     "metadata": {},
     "output_type": "display_data"
    }
   ],
   "source": [
    "##Tetraneura nigri abdominalis\n",
    "Tetra <- subset(fecund, fecund$interactor1 ==\"Tetraneura nigri abdominalis\")\n",
    "Tetra <- gdata::drop.levels(Tetra)\n",
    "\n",
    "levels(Tetra$originaltraitunit)\n",
    "\n",
    "Tetra$stdvalue <- Tetra$originaltraitvalue\n",
    "Tetra$stdunit <- \"Offspring per female per day\""
   ]
  },
  {
   "cell_type": "code",
   "execution_count": 9,
   "metadata": {},
   "outputs": [
    {
     "name": "stdout",
     "output_type": "stream",
     "text": [
      "'data.frame':\t12 obs. of  152 variables:\n",
      " $ X                          : int  1702 2434 3100 4100 5100 6100 7100 8100 9 10 ...\n",
      " $ originalid                 : Factor w/ 1 level \"csm1A\": 1 1 1 1 1 1 1 1 1 1 ...\n",
      " $ originaltraitname          : Factor w/ 1 level \"Oviposition Rate\": 1 1 1 1 1 1 1 1 1 1 ...\n",
      " $ originaltraitdef           : Factor w/ 1 level \"\": 1 1 1 1 1 1 1 1 1 1 ...\n",
      " $ standardisedtraitname      : Factor w/ 0 levels: NA NA NA NA NA NA NA NA NA NA ...\n",
      " $ standardisedtraitdef       : Factor w/ 0 levels: NA NA NA NA NA NA NA NA NA NA ...\n",
      " $ originaltraitvalue         : num  0 0 0.355 1.121 3.367 ...\n",
      " $ originaltraitunit          : Factor w/ 1 level \"per day per female\": 1 1 1 1 1 1 1 1 1 1 ...\n",
      " $ originalerrorpos           : num  NA NA NA NA NA NA NA NA NA NA ...\n",
      " $ originalerrorneg           : num  NA NA NA NA NA NA NA NA NA NA ...\n",
      " $ originalerrorunit          : Factor w/ 1 level \"\": 1 1 1 1 1 1 1 1 1 1 ...\n",
      " $ standardisedtraitvalue     : num  NA NA NA NA NA NA NA NA NA NA ...\n",
      " $ standardisedtraitunit      : Factor w/ 0 levels: NA NA NA NA NA NA NA NA NA NA ...\n",
      " $ standardisederrorpos       : num  NA NA NA NA NA NA NA NA NA NA ...\n",
      " $ standardisederrorneg       : num  NA NA NA NA NA NA NA NA NA NA ...\n",
      " $ standardisederrorunit      : Factor w/ 0 levels: NA NA NA NA NA NA NA NA NA NA ...\n",
      " $ replicates                 : int  NA NA NA NA NA NA NA NA NA NA ...\n",
      " $ habitat                    : Factor w/ 0 levels: NA NA NA NA NA NA NA NA NA NA ...\n",
      " $ labfield                   : Factor w/ 0 levels: NA NA NA NA NA NA NA NA NA NA ...\n",
      " $ arenavalue                 : num  NA NA NA NA NA NA NA NA NA NA ...\n",
      " $ arenaunit                  : Factor w/ 0 levels: NA NA NA NA NA NA NA NA NA NA ...\n",
      " $ arenavaluesi               : num  NA NA NA NA NA NA NA NA NA NA ...\n",
      " $ arenaunitsi                : Factor w/ 0 levels: NA NA NA NA NA NA NA NA NA NA ...\n",
      " $ ambienttemp                : num  10.5 10.8 15.3 16.5 20.1 ...\n",
      " $ ambienttempmethod          : Factor w/ 0 levels: NA NA NA NA NA NA NA NA NA NA ...\n",
      " $ ambienttempunit            : Factor w/ 1 level \"celcius\": 1 1 1 1 1 1 1 1 1 1 ...\n",
      " $ ambientlight               : logi  NA NA NA NA NA NA ...\n",
      " $ ambientlightunit           : logi  NA NA NA NA NA NA ...\n",
      " $ secondstressor             : Factor w/ 0 levels: NA NA NA NA NA NA NA NA NA NA ...\n",
      " $ secondstressordef          : Factor w/ 0 levels: NA NA NA NA NA NA NA NA NA NA ...\n",
      " $ secondstressorvalue        : num  NA NA NA NA NA NA NA NA NA NA ...\n",
      " $ secondstressorunit         : Factor w/ 1 level \"\": 1 1 1 1 1 1 1 1 1 1 ...\n",
      " $ timestart                  : int  NA NA NA NA NA NA NA NA NA NA ...\n",
      " $ timeend                    : logi  NA NA NA NA NA NA ...\n",
      " $ totalobstimevalue          : num  NA NA NA NA NA NA NA NA NA NA ...\n",
      " $ totalobstimeunit           : Factor w/ 1 level \"\": 1 1 1 1 1 1 1 1 1 1 ...\n",
      " $ totalobstimevaluesi        : num  NA NA NA NA NA NA NA NA NA NA ...\n",
      " $ totalobstimeunitsi         : Factor w/ 0 levels: NA NA NA NA NA NA NA NA NA NA ...\n",
      " $ totalobstimenotes          : logi  NA NA NA NA NA NA ...\n",
      " $ resrepvalue                : int  NA NA NA NA NA NA NA NA NA NA ...\n",
      " $ resrepunit                 : Factor w/ 0 levels: NA NA NA NA NA NA NA NA NA NA ...\n",
      " $ resrepvaluesi              : num  NA NA NA NA NA NA NA NA NA NA ...\n",
      " $ resrepunitsi               : Factor w/ 0 levels: NA NA NA NA NA NA NA NA NA NA ...\n",
      " $ location                   : Factor w/ 1 level \"Mar\\x93lia, Sa_ Paulo State, Brazil\": 1 1 1 1 1 1 1 1 1 1 ...\n",
      " $ locationtype               : logi  NA NA NA NA NA NA ...\n",
      " $ originallocationdate       : logi  NA NA NA NA NA NA ...\n",
      " $ locationdate               : Factor w/ 1 level \"16/08/2002\": 1 1 1 1 1 1 1 1 1 1 ...\n",
      " $ locationdateprecision      : int  5 5 5 5 5 5 5 5 5 5 ...\n",
      " $ coordinatetype             : logi  NA NA NA NA NA NA ...\n",
      " $ latitude                   : num  NA NA NA NA NA NA NA NA NA NA ...\n",
      " $ longitude                  : num  NA NA NA NA NA NA NA NA NA NA ...\n",
      " $ interactor1                : Factor w/ 1 level \"Aedes aegypti\": 1 1 1 1 1 1 1 1 1 1 ...\n",
      " $ interactor1common          : Factor w/ 1 level \"\": 1 1 1 1 1 1 1 1 1 1 ...\n",
      " $ interactor1wholepart       : Factor w/ 1 level \"\": 1 1 1 1 1 1 1 1 1 1 ...\n",
      " $ interactor1wholeparttype   : Factor w/ 1 level \"\": 1 1 1 1 1 1 1 1 1 1 ...\n",
      " $ interactor1number          : Factor w/ 1 level \"\": 1 1 1 1 1 1 1 1 1 1 ...\n",
      " $ interactor1kingdom         : Factor w/ 1 level \"\": 1 1 1 1 1 1 1 1 1 1 ...\n",
      " $ interactor1phylum          : Factor w/ 1 level \"Arthropoda\": 1 1 1 1 1 1 1 1 1 1 ...\n",
      " $ interactor1class           : Factor w/ 1 level \"Insecta\": 1 1 1 1 1 1 1 1 1 1 ...\n",
      " $ interactor1order           : Factor w/ 1 level \"Diptera\": 1 1 1 1 1 1 1 1 1 1 ...\n",
      " $ interactor1family          : Factor w/ 1 level \"Culicidae\": 1 1 1 1 1 1 1 1 1 1 ...\n",
      " $ interactor1genus           : Factor w/ 1 level \"Aedes\": 1 1 1 1 1 1 1 1 1 1 ...\n",
      " $ interactor1species         : Factor w/ 1 level \"aegypti\": 1 1 1 1 1 1 1 1 1 1 ...\n",
      " $ interactor1stage           : Factor w/ 1 level \"Adult\": 1 1 1 1 1 1 1 1 1 1 ...\n",
      " $ interactor1temp            : num  NA NA NA NA NA NA NA NA NA NA ...\n",
      " $ interactor1tempunit        : Factor w/ 0 levels: NA NA NA NA NA NA NA NA NA NA ...\n",
      " $ interactor1tempmethod      : Factor w/ 0 levels: NA NA NA NA NA NA NA NA NA NA ...\n",
      " $ interactor1growthtemp      : logi  NA NA NA NA NA NA ...\n",
      " $ interactor1growthtempunit  : logi  NA NA NA NA NA NA ...\n",
      " $ interactor1growthdur       : logi  NA NA NA NA NA NA ...\n",
      " $ interactor1growthdurunit   : logi  NA NA NA NA NA NA ...\n",
      " $ interactor1growthtype      : logi  NA NA NA NA NA NA ...\n",
      " $ interactor1acc             : Factor w/ 0 levels: NA NA NA NA NA NA NA NA NA NA ...\n",
      " $ interactor1acctemp         : num  NA NA NA NA NA NA NA NA NA NA ...\n",
      " $ interactor1acctempnotes    : Factor w/ 0 levels: NA NA NA NA NA NA NA NA NA NA ...\n",
      " $ interactor1acctime         : int  NA NA NA NA NA NA NA NA NA NA ...\n",
      " $ interactor1acctimenotes    : Factor w/ 0 levels: NA NA NA NA NA NA NA NA NA NA ...\n",
      " $ interactor1acctimeunit     : Factor w/ 0 levels: NA NA NA NA NA NA NA NA NA NA ...\n",
      " $ interactor1origtemp        : logi  NA NA NA NA NA NA ...\n",
      " $ interactor1origtempnotes   : logi  NA NA NA NA NA NA ...\n",
      " $ interactor1origtime        : logi  NA NA NA NA NA NA ...\n",
      " $ interactor1origtimenotes   : logi  NA NA NA NA NA NA ...\n",
      " $ interactor1origtimeunit    : logi  NA NA NA NA NA NA ...\n",
      " $ interactor1equilibtimevalue: logi  NA NA NA NA NA NA ...\n",
      " $ interactor1equilibtimeunit : logi  NA NA NA NA NA NA ...\n",
      " $ interactor1size            : num  NA NA NA NA NA NA NA NA NA NA ...\n",
      " $ interactor1sizeunit        : Factor w/ 0 levels: NA NA NA NA NA NA NA NA NA NA ...\n",
      " $ interactor1sizetype        : Factor w/ 0 levels: NA NA NA NA NA NA NA NA NA NA ...\n",
      " $ interactor1sizesi          : num  NA NA NA NA NA NA NA NA NA NA ...\n",
      " $ interactor1sizeunitsi      : Factor w/ 0 levels: NA NA NA NA NA NA NA NA NA NA ...\n",
      " $ interactor1denvalue        : num  NA NA NA NA NA NA NA NA NA NA ...\n",
      " $ interactor1denunit         : Factor w/ 0 levels: NA NA NA NA NA NA NA NA NA NA ...\n",
      " $ interactor1dentypesi       : Factor w/ 0 levels: NA NA NA NA NA NA NA NA NA NA ...\n",
      " $ interactor1denvaluesi      : num  NA NA NA NA NA NA NA NA NA NA ...\n",
      " $ interactor1denunitsi       : Factor w/ 0 levels: NA NA NA NA NA NA NA NA NA NA ...\n",
      " $ interactor1massvaluesi     : num  NA NA NA NA NA NA NA NA NA NA ...\n",
      " $ interactor1massunitsi      : Factor w/ 0 levels: NA NA NA NA NA NA NA NA NA NA ...\n",
      " $ interactor2                : Factor w/ 0 levels: NA NA NA NA NA NA NA NA NA NA ...\n",
      " $ interactor2common          : Factor w/ 0 levels: NA NA NA NA NA NA NA NA NA NA ...\n",
      "  [list output truncated]\n",
      "'data.frame':\t21 obs. of  154 variables:\n",
      " $ X.2                        : int  1548 1549 1550 1551 1552 1553 1554 1555 1556 1557 ...\n",
      " $ X.1                        : int  14934 14935 14936 14937 14938 14939 14940 14941 14942 14943 ...\n",
      " $ X                          : int  761 762 763 764 765 766 767 768 769 770 ...\n",
      " $ originalid                 : Factor w/ 1 level \"csm5I\": 1 1 1 1 1 1 1 1 1 1 ...\n",
      " $ originaltraitname          : Factor w/ 1 level \"Oviposition Rate\": 1 1 1 1 1 1 1 1 1 1 ...\n",
      " $ originaltraitdef           : logi  NA NA NA NA NA NA ...\n",
      " $ standardisedtraitname      : logi  NA NA NA NA NA NA ...\n",
      " $ standardisedtraitdef       : logi  NA NA NA NA NA NA ...\n",
      " $ originaltraitvalue         : num  3.87 10.36 40 77 2.64 ...\n",
      " $ originaltraitunit          : Factor w/ 1 level \"eggs per female\": 1 1 1 1 1 1 1 1 1 1 ...\n",
      " $ originalerrorpos           : logi  NA NA NA NA NA NA ...\n",
      " $ originalerrorneg           : logi  NA NA NA NA NA NA ...\n",
      " $ originalerrorunit          : logi  NA NA NA NA NA NA ...\n",
      " $ standardisedtraitvalue     : logi  NA NA NA NA NA NA ...\n",
      " $ standardisedtraitunit      : logi  NA NA NA NA NA NA ...\n",
      " $ standardisederrorpos       : logi  NA NA NA NA NA NA ...\n",
      " $ standardisederrorneg       : logi  NA NA NA NA NA NA ...\n",
      " $ standardisederrorunit      : logi  NA NA NA NA NA NA ...\n",
      " $ replicates                 : logi  NA NA NA NA NA NA ...\n",
      " $ habitat                    : logi  NA NA NA NA NA NA ...\n",
      " $ labfield                   : logi  NA NA NA NA NA NA ...\n",
      " $ arenavalue                 : logi  NA NA NA NA NA NA ...\n",
      " $ arenaunit                  : logi  NA NA NA NA NA NA ...\n",
      " $ arenavaluesi               : logi  NA NA NA NA NA NA ...\n",
      " $ arenaunitsi                : logi  NA NA NA NA NA NA ...\n",
      " $ ambienttemp                : int  20 20 20 20 25 25 25 25 25 25 ...\n",
      " $ ambienttempmethod          : logi  NA NA NA NA NA NA ...\n",
      " $ ambienttempunit            : Factor w/ 1 level \"celcius\": 1 1 1 1 1 1 1 1 1 1 ...\n",
      " $ ambientlight               : logi  NA NA NA NA NA NA ...\n",
      " $ ambientlightunit           : logi  NA NA NA NA NA NA ...\n",
      " $ secondstressor             : Factor w/ 1 level \"Time\": 1 1 1 1 1 1 1 1 1 1 ...\n",
      " $ secondstressordef          : Factor w/ 1 level \"Average days it take per gonotrophic cycle\": 1 1 1 1 1 1 1 1 1 1 ...\n",
      " $ secondstressorvalue        : num  6.7 8.4 13.5 10 4 4.4 5.2 5.1 4.2 4.5 ...\n",
      " $ secondstressorunit         : Factor w/ 1 level \"Days\": 1 1 1 1 1 1 1 1 1 1 ...\n",
      " $ timestart                  : logi  NA NA NA NA NA NA ...\n",
      " $ timeend                    : logi  NA NA NA NA NA NA ...\n",
      " $ totalobstimevalue          : logi  NA NA NA NA NA NA ...\n",
      " $ totalobstimeunit           : logi  NA NA NA NA NA NA ...\n",
      " $ totalobstimevaluesi        : logi  NA NA NA NA NA NA ...\n",
      " $ totalobstimeunitsi         : logi  NA NA NA NA NA NA ...\n",
      " $ totalobstimenotes          : logi  NA NA NA NA NA NA ...\n",
      " $ resrepvalue                : logi  NA NA NA NA NA NA ...\n",
      " $ resrepunit                 : logi  NA NA NA NA NA NA ...\n",
      " $ resrepvaluesi              : logi  NA NA NA NA NA NA ...\n",
      " $ resrepunitsi               : logi  NA NA NA NA NA NA ...\n",
      " $ location                   : Factor w/ 1 level \"Saint Pierre, La R\\x8eunion Island, France \": 1 1 1 1 1 1 1 1 1 1 ...\n",
      " $ locationtype               : logi  NA NA NA NA NA NA ...\n",
      " $ originallocationdate       : logi  NA NA NA NA NA NA ...\n",
      " $ locationdate               : logi  NA NA NA NA NA NA ...\n",
      " $ locationdateprecision      : int  0 0 0 0 0 0 0 0 0 0 ...\n",
      " $ coordinatetype             : logi  NA NA NA NA NA NA ...\n",
      " $ latitude                   : logi  NA NA NA NA NA NA ...\n",
      " $ longitude                  : logi  NA NA NA NA NA NA ...\n",
      " $ interactor1                : Factor w/ 1 level \"Aedes albopictus\": 1 1 1 1 1 1 1 1 1 1 ...\n",
      " $ interactor1common          : logi  NA NA NA NA NA NA ...\n",
      " $ interactor1wholepart       : logi  NA NA NA NA NA NA ...\n",
      " $ interactor1wholeparttype   : logi  NA NA NA NA NA NA ...\n",
      " $ interactor1number          : logi  NA NA NA NA NA NA ...\n",
      " $ interactor1kingdom         : logi  NA NA NA NA NA NA ...\n",
      " $ interactor1phylum          : Factor w/ 1 level \"Arthropoda\": 1 1 1 1 1 1 1 1 1 1 ...\n",
      " $ interactor1class           : Factor w/ 1 level \"Insecta\": 1 1 1 1 1 1 1 1 1 1 ...\n",
      " $ interactor1order           : Factor w/ 1 level \"Diptera\": 1 1 1 1 1 1 1 1 1 1 ...\n",
      " $ interactor1family          : Factor w/ 1 level \"Culcidae\": 1 1 1 1 1 1 1 1 1 1 ...\n",
      " $ interactor1genus           : Factor w/ 1 level \"Aedes\": 1 1 1 1 1 1 1 1 1 1 ...\n",
      " $ interactor1species         : Factor w/ 1 level \"albopictus\": 1 1 1 1 1 1 1 1 1 1 ...\n",
      " $ interactor1stage           : logi  NA NA NA NA NA NA ...\n",
      " $ interactor1temp            : logi  NA NA NA NA NA NA ...\n",
      " $ interactor1tempunit        : logi  NA NA NA NA NA NA ...\n",
      " $ interactor1tempmethod      : logi  NA NA NA NA NA NA ...\n",
      " $ interactor1growthtemp      : logi  NA NA NA NA NA NA ...\n",
      " $ interactor1growthtempunit  : logi  NA NA NA NA NA NA ...\n",
      " $ interactor1growthdur       : logi  NA NA NA NA NA NA ...\n",
      " $ interactor1growthdurunit   : logi  NA NA NA NA NA NA ...\n",
      " $ interactor1growthtype      : logi  NA NA NA NA NA NA ...\n",
      " $ interactor1acc             : logi  NA NA NA NA NA NA ...\n",
      " $ interactor1acctemp         : logi  NA NA NA NA NA NA ...\n",
      " $ interactor1acctempnotes    : logi  NA NA NA NA NA NA ...\n",
      " $ interactor1acctime         : logi  NA NA NA NA NA NA ...\n",
      " $ interactor1acctimenotes    : logi  NA NA NA NA NA NA ...\n",
      " $ interactor1acctimeunit     : logi  NA NA NA NA NA NA ...\n",
      " $ interactor1origtemp        : logi  NA NA NA NA NA NA ...\n",
      " $ interactor1origtempnotes   : logi  NA NA NA NA NA NA ...\n",
      " $ interactor1origtime        : logi  NA NA NA NA NA NA ...\n",
      " $ interactor1origtimenotes   : logi  NA NA NA NA NA NA ...\n",
      " $ interactor1origtimeunit    : logi  NA NA NA NA NA NA ...\n",
      " $ interactor1equilibtimevalue: logi  NA NA NA NA NA NA ...\n",
      " $ interactor1equilibtimeunit : logi  NA NA NA NA NA NA ...\n",
      " $ interactor1size            : logi  NA NA NA NA NA NA ...\n",
      " $ interactor1sizeunit        : logi  NA NA NA NA NA NA ...\n",
      " $ interactor1sizetype        : logi  NA NA NA NA NA NA ...\n",
      " $ interactor1sizesi          : logi  NA NA NA NA NA NA ...\n",
      " $ interactor1sizeunitsi      : logi  NA NA NA NA NA NA ...\n",
      " $ interactor1denvalue        : logi  NA NA NA NA NA NA ...\n",
      " $ interactor1denunit         : logi  NA NA NA NA NA NA ...\n",
      " $ interactor1dentypesi       : logi  NA NA NA NA NA NA ...\n",
      " $ interactor1denvaluesi      : logi  NA NA NA NA NA NA ...\n",
      " $ interactor1denunitsi       : logi  NA NA NA NA NA NA ...\n",
      " $ interactor1massvaluesi     : logi  NA NA NA NA NA NA ...\n",
      " $ interactor1massunitsi      : logi  NA NA NA NA NA NA ...\n",
      "  [list output truncated]\n"
     ]
    },
    {
     "name": "stdout",
     "output_type": "stream",
     "text": [
      "'data.frame':\t6 obs. of  153 variables:\n",
      " $ X.1                        : int  1455 1456 1457 1458 1459 1460\n",
      " $ X                          : int  668 669 670 671 672 673\n",
      " $ originalid                 : Factor w/ 1 level \"csm4X\": 1 1 1 1 1 1\n",
      " $ originaltraitname          : Factor w/ 1 level \"Fecundity\": 1 1 1 1 1 1\n",
      " $ originaltraitdef           : logi  NA NA NA NA NA NA\n",
      " $ standardisedtraitname      : logi  NA NA NA NA NA NA\n",
      " $ standardisedtraitdef       : logi  NA NA NA NA NA NA\n",
      " $ originaltraitvalue         : num  0 87.7 146.1 273 286.8 ...\n",
      " $ originaltraitunit          : Factor w/ 1 level \"eggs per female\": 1 1 1 1 1 1\n",
      " $ originalerrorpos           : num  0 17.8 32.6 36.2 45.6 57.6\n",
      " $ originalerrorneg           : num  0 17.8 32.6 36.2 45.6 57.6\n",
      " $ originalerrorunit          : Factor w/ 1 level \"eggs per female\": 1 1 1 1 1 1\n",
      " $ standardisedtraitvalue     : logi  NA NA NA NA NA NA\n",
      " $ standardisedtraitunit      : logi  NA NA NA NA NA NA\n",
      " $ standardisederrorpos       : logi  NA NA NA NA NA NA\n",
      " $ standardisederrorneg       : logi  NA NA NA NA NA NA\n",
      " $ standardisederrorunit      : logi  NA NA NA NA NA NA\n",
      " $ replicates                 : logi  NA NA NA NA NA NA\n",
      " $ habitat                    : logi  NA NA NA NA NA NA\n",
      " $ labfield                   : logi  NA NA NA NA NA NA\n",
      " $ arenavalue                 : logi  NA NA NA NA NA NA\n",
      " $ arenaunit                  : logi  NA NA NA NA NA NA\n",
      " $ arenavaluesi               : logi  NA NA NA NA NA NA\n",
      " $ arenaunitsi                : logi  NA NA NA NA NA NA\n",
      " $ ambienttemp                : int  16 19 22 26 30 33\n",
      " $ ambienttempmethod          : logi  NA NA NA NA NA NA\n",
      " $ ambienttempunit            : Factor w/ 1 level \"celcius\": 1 1 1 1 1 1\n",
      " $ ambientlight               : logi  NA NA NA NA NA NA\n",
      " $ ambientlightunit           : logi  NA NA NA NA NA NA\n",
      " $ secondstressor             : Factor w/ 1 level \"Oviposition Period\": 1 1 1 1 1 1\n",
      " $ secondstressordef          : Factor w/ 1 level \"Length of oviposition period\": 1 1 1 1 1 1\n",
      " $ secondstressorvalue        : num  0 16.8 14.4 11.6 8.9 6.5\n",
      " $ secondstressorunit         : Factor w/ 1 level \"Days\": 1 1 1 1 1 1\n",
      " $ timestart                  : logi  NA NA NA NA NA NA\n",
      " $ timeend                    : logi  NA NA NA NA NA NA\n",
      " $ totalobstimevalue          : logi  NA NA NA NA NA NA\n",
      " $ totalobstimeunit           : logi  NA NA NA NA NA NA\n",
      " $ totalobstimevaluesi        : logi  NA NA NA NA NA NA\n",
      " $ totalobstimeunitsi         : logi  NA NA NA NA NA NA\n",
      " $ totalobstimenotes          : logi  NA NA NA NA NA NA\n",
      " $ resrepvalue                : logi  NA NA NA NA NA NA\n",
      " $ resrepunit                 : logi  NA NA NA NA NA NA\n",
      " $ resrepvaluesi              : logi  NA NA NA NA NA NA\n",
      " $ resrepunitsi               : logi  NA NA NA NA NA NA\n",
      " $ location                   : Factor w/ 1 level \"Longwu Road, Shanghai, China\": 1 1 1 1 1 1\n",
      " $ locationtype               : logi  NA NA NA NA NA NA\n",
      " $ originallocationdate       : logi  NA NA NA NA NA NA\n",
      " $ locationdate               : Factor w/ 1 level \"1/5/2009\": 1 1 1 1 1 1\n",
      " $ locationdateprecision      : int  2 2 2 2 2 2\n",
      " $ coordinatetype             : logi  NA NA NA NA NA NA\n",
      " $ latitude                   : logi  NA NA NA NA NA NA\n",
      " $ longitude                  : logi  NA NA NA NA NA NA\n",
      " $ interactor1                : Factor w/ 1 level \"Corythucha ciliata\": 1 1 1 1 1 1\n",
      " $ interactor1common          : logi  NA NA NA NA NA NA\n",
      " $ interactor1wholepart       : logi  NA NA NA NA NA NA\n",
      " $ interactor1wholeparttype   : logi  NA NA NA NA NA NA\n",
      " $ interactor1number          : logi  NA NA NA NA NA NA\n",
      " $ interactor1kingdom         : logi  NA NA NA NA NA NA\n",
      " $ interactor1phylum          : Factor w/ 1 level \"\\tArthropoda\": 1 1 1 1 1 1\n",
      " $ interactor1class           : Factor w/ 1 level \"Insecta\": 1 1 1 1 1 1\n",
      " $ interactor1order           : Factor w/ 1 level \"Hemiptera\": 1 1 1 1 1 1\n",
      " $ interactor1family          : Factor w/ 1 level \"Tingidae\": 1 1 1 1 1 1\n",
      " $ interactor1genus           : Factor w/ 1 level \"Corythucha\": 1 1 1 1 1 1\n",
      " $ interactor1species         : Factor w/ 1 level \"ciliata\": 1 1 1 1 1 1\n",
      " $ interactor1stage           : logi  NA NA NA NA NA NA\n",
      " $ interactor1temp            : logi  NA NA NA NA NA NA\n",
      " $ interactor1tempunit        : logi  NA NA NA NA NA NA\n",
      " $ interactor1tempmethod      : logi  NA NA NA NA NA NA\n",
      " $ interactor1growthtemp      : logi  NA NA NA NA NA NA\n",
      " $ interactor1growthtempunit  : logi  NA NA NA NA NA NA\n",
      " $ interactor1growthdur       : logi  NA NA NA NA NA NA\n",
      " $ interactor1growthdurunit   : logi  NA NA NA NA NA NA\n",
      " $ interactor1growthtype      : logi  NA NA NA NA NA NA\n",
      " $ interactor1acc             : logi  NA NA NA NA NA NA\n",
      " $ interactor1acctemp         : logi  NA NA NA NA NA NA\n",
      " $ interactor1acctempnotes    : logi  NA NA NA NA NA NA\n",
      " $ interactor1acctime         : logi  NA NA NA NA NA NA\n",
      " $ interactor1acctimenotes    : logi  NA NA NA NA NA NA\n",
      " $ interactor1acctimeunit     : logi  NA NA NA NA NA NA\n",
      " $ interactor1origtemp        : logi  NA NA NA NA NA NA\n",
      " $ interactor1origtempnotes   : logi  NA NA NA NA NA NA\n",
      " $ interactor1origtime        : logi  NA NA NA NA NA NA\n",
      " $ interactor1origtimenotes   : logi  NA NA NA NA NA NA\n",
      " $ interactor1origtimeunit    : logi  NA NA NA NA NA NA\n",
      " $ interactor1equilibtimevalue: logi  NA NA NA NA NA NA\n",
      " $ interactor1equilibtimeunit : logi  NA NA NA NA NA NA\n",
      " $ interactor1size            : logi  NA NA NA NA NA NA\n",
      " $ interactor1sizeunit        : logi  NA NA NA NA NA NA\n",
      " $ interactor1sizetype        : logi  NA NA NA NA NA NA\n",
      " $ interactor1sizesi          : logi  NA NA NA NA NA NA\n",
      " $ interactor1sizeunitsi      : logi  NA NA NA NA NA NA\n",
      " $ interactor1denvalue        : logi  NA NA NA NA NA NA\n",
      " $ interactor1denunit         : logi  NA NA NA NA NA NA\n",
      " $ interactor1dentypesi       : logi  NA NA NA NA NA NA\n",
      " $ interactor1denvaluesi      : logi  NA NA NA NA NA NA\n",
      " $ interactor1denunitsi       : logi  NA NA NA NA NA NA\n",
      " $ interactor1massvaluesi     : logi  NA NA NA NA NA NA\n",
      " $ interactor1massunitsi      : logi  NA NA NA NA NA NA\n",
      " $ interactor2                : logi  NA NA NA NA NA NA\n",
      "  [list output truncated]\n",
      "'data.frame':\t6 obs. of  152 variables:\n",
      " $ X                          : int  17795 17796 17797 17798 17799 17800\n",
      " $ originalid                 : Factor w/ 1 level \"MTD2091\": 1 1 1 1 1 1\n",
      " $ originaltraitname          : Factor w/ 1 level \"Fecundity Rate\": 1 1 1 1 1 1\n",
      " $ originaltraitdef           : Factor w/ 1 level \"Number of offspring produced by a female per time\": 1 1 1 1 1 1\n",
      " $ standardisedtraitname      : Factor w/ 1 level \"Fecundity Rate\": 1 1 1 1 1 1\n",
      " $ standardisedtraitdef       : Factor w/ 1 level \"Number of offspring produced by a female per time\": 1 1 1 1 1 1\n",
      " $ originaltraitvalue         : num  0.0506 0.5064 1.297 1.9867 2.5135 ...\n",
      " $ originaltraitunit          : Factor w/ 1 level \"event / (1 individual * 24 hour)\": 1 1 1 1 1 1\n",
      " $ originalerrorpos           : num  NA NA NA NA NA NA\n",
      " $ originalerrorneg           : num  NA NA NA NA NA NA\n",
      " $ originalerrorunit          : Factor w/ 1 level \"\": 1 1 1 1 1 1\n",
      " $ standardisedtraitvalue     : num  5.86e-07 5.86e-06 1.50e-05 2.30e-05 2.91e-05 ...\n",
      " $ standardisedtraitunit      : Factor w/ 1 level \"event / (individual * second)\": 1 1 1 1 1 1\n",
      " $ standardisederrorpos       : num  NA NA NA NA NA NA\n",
      " $ standardisederrorneg       : num  NA NA NA NA NA NA\n",
      " $ standardisederrorunit      : Factor w/ 1 level \"SE\": 1 1 1 1 1 1\n",
      " $ replicates                 : int  8 8 8 8 8 8\n",
      " $ habitat                    : Factor w/ 1 level \"terrestrial\": 1 1 1 1 1 1\n",
      " $ labfield                   : Factor w/ 1 level \"lab\": 1 1 1 1 1 1\n",
      " $ arenavalue                 : num  NA NA NA NA NA NA\n",
      " $ arenaunit                  : Factor w/ 1 level \"\": 1 1 1 1 1 1\n",
      " $ arenavaluesi               : num  NA NA NA NA NA NA\n",
      " $ arenaunitsi                : Factor w/ 1 level \"\": 1 1 1 1 1 1\n",
      " $ ambienttemp                : num  10 15 20 25 30 35\n",
      " $ ambienttempmethod          : Factor w/ 1 level \"direct\": 1 1 1 1 1 1\n",
      " $ ambienttempunit            : Factor w/ 1 level \"celsius\": 1 1 1 1 1 1\n",
      " $ ambientlight               : logi  NA NA NA NA NA NA\n",
      " $ ambientlightunit           : logi  NA NA NA NA NA NA\n",
      " $ secondstressor             : Factor w/ 1 level \"\": 1 1 1 1 1 1\n",
      " $ secondstressordef          : Factor w/ 1 level \"\": 1 1 1 1 1 1\n",
      " $ secondstressorvalue        : num  NA NA NA NA NA NA\n",
      " $ secondstressorunit         : Factor w/ 1 level \"\": 1 1 1 1 1 1\n",
      " $ timestart                  : int  NA NA NA NA NA NA\n",
      " $ timeend                    : logi  NA NA NA NA NA NA\n",
      " $ totalobstimevalue          : num  NA NA NA NA NA NA\n",
      " $ totalobstimeunit           : Factor w/ 1 level \"not stated\": 1 1 1 1 1 1\n",
      " $ totalobstimevaluesi        : num  NA NA NA NA NA NA\n",
      " $ totalobstimeunitsi         : Factor w/ 1 level \"\": 1 1 1 1 1 1\n",
      " $ totalobstimenotes          : logi  NA NA NA NA NA NA\n",
      " $ resrepvalue                : int  NA NA NA NA NA NA\n",
      " $ resrepunit                 : Factor w/ 1 level \"not stated\": 1 1 1 1 1 1\n",
      " $ resrepvaluesi              : num  NA NA NA NA NA NA\n",
      " $ resrepunitsi               : Factor w/ 1 level \"\": 1 1 1 1 1 1\n",
      " $ location                   : Factor w/ 1 level \"Taichung, Taiwan\": 1 1 1 1 1 1\n",
      " $ locationtype               : logi  NA NA NA NA NA NA\n",
      " $ originallocationdate       : logi  NA NA NA NA NA NA\n",
      " $ locationdate               : Factor w/ 1 level \"\": 1 1 1 1 1 1\n",
      " $ locationdateprecision      : int  0 0 0 0 0 0\n",
      " $ coordinatetype             : logi  NA NA NA NA NA NA\n",
      " $ latitude                   : num  24.2 24.2 24.2 24.2 24.2 ...\n",
      " $ longitude                  : num  121 121 121 121 121 ...\n",
      " $ interactor1                : Factor w/ 1 level \"Tetraneura nigri abdominalis\": 1 1 1 1 1 1\n",
      " $ interactor1common          : Factor w/ 1 level \"root aphid\": 1 1 1 1 1 1\n",
      " $ interactor1wholepart       : Factor w/ 1 level \"\": 1 1 1 1 1 1\n",
      " $ interactor1wholeparttype   : Factor w/ 1 level \"\": 1 1 1 1 1 1\n",
      " $ interactor1number          : Factor w/ 1 level \"\": 1 1 1 1 1 1\n",
      " $ interactor1kingdom         : Factor w/ 1 level \"Metazoa\": 1 1 1 1 1 1\n",
      " $ interactor1phylum          : Factor w/ 1 level \"Arthropoda\": 1 1 1 1 1 1\n",
      " $ interactor1class           : Factor w/ 1 level \"Insecta\": 1 1 1 1 1 1\n",
      " $ interactor1order           : Factor w/ 1 level \"Hemiptera\": 1 1 1 1 1 1\n",
      " $ interactor1family          : Factor w/ 1 level \"Pemphigidae\": 1 1 1 1 1 1\n",
      " $ interactor1genus           : Factor w/ 1 level \"Tetragoneura\": 1 1 1 1 1 1\n",
      " $ interactor1species         : Factor w/ 1 level \"nigra\": 1 1 1 1 1 1\n",
      " $ interactor1stage           : Factor w/ 1 level \"adult (female)\": 1 1 1 1 1 1\n",
      " $ interactor1temp            : num  10 15 20 25 30 35\n",
      " $ interactor1tempunit        : Factor w/ 1 level \"celsius\": 1 1 1 1 1 1\n",
      " $ interactor1tempmethod      : Factor w/ 1 level \"inferred (ambient)\": 1 1 1 1 1 1\n",
      " $ interactor1growthtemp      : logi  NA NA NA NA NA NA\n",
      " $ interactor1growthtempunit  : logi  NA NA NA NA NA NA\n",
      " $ interactor1growthdur       : logi  NA NA NA NA NA NA\n",
      " $ interactor1growthdurunit   : logi  NA NA NA NA NA NA\n",
      " $ interactor1growthtype      : logi  NA NA NA NA NA NA\n",
      " $ interactor1acc             : Factor w/ 1 level \"captive bred (at test temperature)\": 1 1 1 1 1 1\n",
      " $ interactor1acctemp         : num  NA NA NA NA NA NA\n",
      " $ interactor1acctempnotes    : Factor w/ 1 level \"\": 1 1 1 1 1 1\n",
      " $ interactor1acctime         : int  NA NA NA NA NA NA\n",
      " $ interactor1acctimenotes    : Factor w/ 1 level \"\": 1 1 1 1 1 1\n",
      " $ interactor1acctimeunit     : Factor w/ 1 level \"\": 1 1 1 1 1 1\n",
      " $ interactor1origtemp        : logi  NA NA NA NA NA NA\n",
      " $ interactor1origtempnotes   : logi  NA NA NA NA NA NA\n",
      " $ interactor1origtime        : logi  NA NA NA NA NA NA\n",
      " $ interactor1origtimenotes   : logi  NA NA NA NA NA NA\n",
      " $ interactor1origtimeunit    : logi  NA NA NA NA NA NA\n",
      " $ interactor1equilibtimevalue: logi  NA NA NA NA NA NA\n",
      " $ interactor1equilibtimeunit : logi  NA NA NA NA NA NA\n",
      " $ interactor1size            : num  NA NA NA NA NA NA\n",
      " $ interactor1sizeunit        : Factor w/ 1 level \"\": 1 1 1 1 1 1\n",
      " $ interactor1sizetype        : Factor w/ 1 level \"\": 1 1 1 1 1 1\n",
      " $ interactor1sizesi          : num  1.88e-07 1.88e-07 1.88e-07 1.88e-07 1.88e-07 ...\n",
      " $ interactor1sizeunitsi      : Factor w/ 1 level \"kilogram\": 1 1 1 1 1 1\n",
      " $ interactor1denvalue        : num  1 1 1 1 1 1\n",
      " $ interactor1denunit         : Factor w/ 1 level \"individual per arena (1)\": 1 1 1 1 1 1\n",
      " $ interactor1dentypesi       : Factor w/ 1 level \"individual\": 1 1 1 1 1 1\n",
      " $ interactor1denvaluesi      : num  1 1 1 1 1 1\n",
      " $ interactor1denunitsi       : Factor w/ 1 level \"arena\": 1 1 1 1 1 1\n",
      " $ interactor1massvaluesi     : num  1.88e-07 1.88e-07 1.88e-07 1.88e-07 1.88e-07 ...\n",
      " $ interactor1massunitsi      : Factor w/ 1 level \"kilogram (wet body mass)\": 1 1 1 1 1 1\n",
      " $ interactor2                : Factor w/ 1 level \"Oryza sativa\": 1 1 1 1 1 1\n",
      " $ interactor2common          : Factor w/ 1 level \"asian rice\": 1 1 1 1 1 1\n",
      "  [list output truncated]\n"
     ]
    }
   ],
   "source": [
    "#combining dataframes  \n",
    "str(aegypti)\n",
    "str(albop2)\n",
    "str(Cory2)\n",
    "str(Tetra)\n",
    "\n",
    "aegypti <- aegypti[, ! names(aegypti) %in% \"X\"]\n",
    "albop2 <- albop2[, ! names(albop2) %in% c(\"X\",\"X.2\",\"X.1\")]\n",
    "Cory2 <- Cory2[, ! names(Cory2) %in% c(\"X\",\"X.1\")]\n",
    "Tetra <- Tetra[, ! names(Tetra) %in% \"X\"]\n",
    "\n",
    "stdfecund <- rbind(aegypti,albop2,Cory2,Tetra)"
   ]
  },
  {
   "cell_type": "code",
   "execution_count": 30,
   "metadata": {},
   "outputs": [
    {
     "name": "stderr",
     "output_type": "stream",
     "text": [
      "Warning message:\n",
      "“Removed 1 rows containing missing values (geom_point).”\n",
      "Saving 7 x 7 in image\n",
      "\n",
      "Warning message:\n",
      "“Removed 1 rows containing missing values (geom_point).”\n"
     ]
    },
    {
     "data": {
      "image/png": "[encoded data removed]",
      "text/plain": [
       "plot without title"
      ]
     },
     "metadata": {
      "image/png": {
       "height": 420,
       "width": 420
      },
      "text/plain": {
       "height": 420,
       "width": 420
      }
     },
     "output_type": "display_data"
    }
   ],
   "source": [
    "fecundTPC <- ggplot(stdfecund, aes(x=ambienttemp, y=stdvalue)) + geom_point() + labs(title=expression(paste(\"Max Fecundity Rate \", (B[pk]))), x=expression(paste('Temperature (',~degree,'C)',sep='')), y=expression(paste(\"Fecundity Rate \", (Offpsring %*% Female^-1 %*% Day^-1)))) + facet_wrap(~ interactor1) + theme_bw() + theme(plot.title = element_text(hjust = 0.5))\n",
    "\n",
    "fecundTPC\n",
    "ggsave(\"fecTPC1.pdf\", plot=fecundTPC)"
   ]
  },
  {
   "cell_type": "markdown",
   "metadata": {},
   "source": [
    "## With time series data "
   ]
  },
  {
   "cell_type": "code",
   "execution_count": 38,
   "metadata": {},
   "outputs": [
    {
     "name": "stderr",
     "output_type": "stream",
     "text": [
      "Saving 7 x 7 in image\n",
      "\n"
     ]
    }
   ],
   "source": [
    "Time <- subset(fecund,fecund$interactor1 %in% c(\"Culex annulirostris\",\"Anthonomus grandis\",\"Aphis gossypii\"))\n",
    "Time <- gdata::drop.levels(Time)\n",
    "Time$temp <- as.character(Time$ambienttemp)\n",
    "\n",
    "\n",
    "Plot <- ggplot(Time, aes(x=secondstressorvalue, y=originaltraitvalue, colour=temp)) + geom_point() + theme_bw()+ labs(colour=expression(paste(\"Temperature( \", ~degree, \"C)\")), x= \"Time (Days)\", y=expression(paste(\"Fecundity Rate \", (Offpsring %*% Female^-1 %*% Day^-1))), title=\"Fecundity Rate\") + theme(plot.title = element_text(hjust = 0.5))\n",
    "TPC2<- Plot + facet_wrap(~ interactor1, nrow=2, scales=\"free\")\n",
    "ggsave(\"fecTPC2.pdf\", plot=TPC2)"
   ]
  },
  {
   "cell_type": "code",
   "execution_count": 39,
   "metadata": {},
   "outputs": [
    {
     "data": {
      "text/html": [
       "'/Users/Alex/Stats/Vector/VecMismatchPaper/code/TPC-Fecundity.pdf'"
      ],
      "text/latex": [
       "'/Users/Alex/Stats/Vector/VecMismatchPaper/code/TPC-Fecundity.pdf'"
      ],
      "text/markdown": [
       "'/Users/Alex/Stats/Vector/VecMismatchPaper/code/TPC-Fecundity.pdf'"
      ],
      "text/plain": [
       "[1] \"/Users/Alex/Stats/Vector/VecMismatchPaper/code/TPC-Fecundity.pdf\""
      ]
     },
     "metadata": {},
     "output_type": "display_data"
    }
   ],
   "source": [
    "pdf_combine(c(\"fecTPC1.pdf\", \"fecTPC2.pdf\"), output=\"TPC-Fecundity.pdf\")"
   ]
  }
 ],
 "metadata": {
  "kernelspec": {
   "display_name": "R",
   "language": "R",
   "name": "ir"
  },
  "language_info": {
   "codemirror_mode": "r",
   "file_extension": ".r",
   "mimetype": "text/x-r-source",
   "name": "R",
   "pygments_lexer": "r",
   "version": "3.6.1"
  }
 },
 "nbformat": 4,
 "nbformat_minor": 2
}
